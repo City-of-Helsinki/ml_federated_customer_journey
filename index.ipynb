{
 "cells": [
  {
   "cell_type": "code",
   "execution_count": null,
   "metadata": {},
   "outputs": [],
   "source": [
    "%load_ext lab_black\n",
    "# nb_black if running in jupyter"
   ]
  },
  {
   "cell_type": "code",
   "execution_count": null,
   "metadata": {},
   "outputs": [],
   "source": [
    "# hide\n",
    "# from your_lib.core import *\n",
    "# from ml-project-template.data import *"
   ]
  },
  {
   "cell_type": "markdown",
   "metadata": {},
   "source": [
    "# Simulating Customer Journey Prediction in a Federated Learning Setup\n",
    "\n"
   ]
  },
  {
   "cell_type": "markdown",
   "metadata": {},
   "source": [
    "## About\n",
    "\n",
    "In this study I show that customer paths can be predicted in a federated setup. \n",
    "\n",
    "### Define terms\n",
    "Federated learning [[1](#mcmahan2016communication)] is a term used for distributed computation setups, where \n",
    "\n",
    "### Why this is important\n",
    "\n",
    "Federated learning allows both high level of data protection and personalization.\n",
    "For the public sector, this opens up a way to provide novel digital services. \n",
    "For example cities or governments can create personal AI assistants that give citizens personalized recommendation for variety of topics,\n",
    "including preventative healthcare and career advice.\n",
    "These kind of services require very sensitive data, that the citizens may be unwilling to trust the government with.\n",
    "Federated learning can help provide the same services, without the need for data share.\n",
    "In addition, with contrast to centralized modelling, the models are fitted on each customers own data\n",
    "\n",
    "The results can also be applied to other next state prediction problems not involving human customers,\n",
    "but artificial clients insted. One such example could be predicting faults on IoT devices.\n",
    "### What I did\n",
    "\n",
    "### Critical thoughts and issues\n",
    "\n",
    "### Conclusions\n",
    "\n",
    "\n"
   ]
  },
  {
   "cell_type": "markdown",
   "metadata": {},
   "source": [
    "## Contents\n",
    "\n",
    "Briefly describe the contents of your repository"
   ]
  },
  {
   "cell_type": "markdown",
   "metadata": {},
   "source": [
    "## How to Install and Run\n",
    "\n",
    "Describe how to install your code. Be very through and include every single step of the process."
   ]
  },
  {
   "cell_type": "markdown",
   "metadata": {},
   "source": [
    "## Contributing\n",
    "\n",
    "> NOTE: Edit the hyperlink below to point to the CONTRIBUTING.md file of your repository\n",
    "\n",
    "See [here](https://github.com/City-of-Helsinki/ml_project_template/blob/master/CONTRIBUTING.md) on how to contribute to this project.\n"
   ]
  },
  {
   "cell_type": "markdown",
   "metadata": {},
   "source": [
    "## How to Cite\n",
    "\n",
    "To cite this work, use:"
   ]
  },
  {
   "cell_type": "code",
   "execution_count": null,
   "metadata": {},
   "outputs": [
    {
     "name": "stdout",
     "output_type": "stream",
     "text": "Couldn't find program: 'False'\n"
    }
   ],
   "source": [
    "%%script False\r\n",
    "\r\n",
    "@misc{\r\n",
    "    sten2021simulating,\r\n",
    "    title = {Simulating Customer Journey Prediction in a Federated Learning Setup},\r\n",
    "    author = {Nuutti Akilles Sten},\r\n",
    "    month = {12},\r\n",
    "    year = {2021},\r\n",
    "    howpublished = {City of Helsinki},\r\n",
    "    doi = {ADD DOI HERE},\r\n",
    "}"
   ]
  },
  {
   "cell_type": "markdown",
   "metadata": {},
   "source": [
    "## Copyright\n",
    "\n",
    "> NOTE: Edit the year and author below according to your project!\n",
    "\n",
    "Copyright 2021 City-of-Helsinki. Licensed under the Apache License, Version 2.0 (the \"License\");\n",
    "you may not use this project's files except in compliance with the License.\n",
    "A copy of the License is provided in the LICENSE file in this repository.\n",
    "\n",
    "The Helsinki logo is a registered trademark, and may only be used by the city of Helsinki."
   ]
  },
  {
   "cell_type": "markdown",
   "metadata": {},
   "source": [
    "## References\r\n",
    "\r\n",
    "<a id='mcmahan2016communication'></a> McMahan et al. Communication-Efficient Learning of Deep Networks from Decentralized Data. 2021. Google Inc. https://arxiv.org/pdf/1602.05629.pdf\r\n",
    "\r\n",
    "This project was built using [nbdev](https://nbdev.fast.ai/) on top of the city of Helsinki [ml_project_template](https://github.com/City-of-Helsinki/ml_project_template)."
   ]
  }
 ],
 "metadata": {
  "kernelspec": {
   "display_name": "Python 3.8 (fcp)",
   "language": "python",
   "name": "federated_customer_path"
  }
 },
 "nbformat": 4,
 "nbformat_minor": 4
}
