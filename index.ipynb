{
 "cells": [
  {
   "cell_type": "code",
   "execution_count": null,
   "metadata": {},
   "outputs": [],
   "source": [
    "%load_ext lab_black\n",
    "# nb_black if running in jupyter"
   ]
  },
  {
   "cell_type": "code",
   "execution_count": null,
   "metadata": {},
   "outputs": [],
   "source": [
    "# hide\n",
    "# from your_lib.core import *\n",
    "# from ml-project-template.data import *"
   ]
  },
  {
   "cell_type": "markdown",
   "metadata": {},
   "source": [
    "# Simulating Customer Journey Prediction in a Federated Learning Setup\n",
    "\n"
   ]
  },
  {
   "cell_type": "markdown",
   "metadata": {},
   "source": [
    "## About\n",
    "\n",
    "### What\n",
    "In this study I show that customer paths can be predicted in a federated setup. \n",
    "The purpose of the work is to show, that this is possible using real customer journey data.\n",
    "The purpose is not yet to provide optimal solutions.\n",
    "The goal of the work was to observe machine learning in the given setup.\n",
    "\n",
    "### Terminology\n",
    "Federated learning [[1](#mcmahan2016communication)] is a term used for distributed computation setups, where \n",
    "\n",
    "Introduce tensorflow federated\n",
    "\n",
    "### Why this is important\n",
    "\n",
    "A customer journey describes the service touchpoints and transitions between them as a customer goes through a service process.\n",
    "We can model these as mathematical states, and use machine learning to predict the next state based on the previous one, and other information about the customer.\n",
    "Knowing the most likely next states allows us to personalize the service for a desired outcome. \n",
    "Customer journey data is quite similar to any time series data, but it is typically very limited considering the number of data points.\n",
    "\n",
    "Considering customer journey prediction, each customer has relatively little of their own data in use.\n",
    "In the data I used, most customers had 3-5 events recorded and the max observed was 10.\n",
    "This means, that a localized machine learning model using the data of a single customer is not an option.\n",
    "However, the customers might be unwilling to share their data for centralized processing.\n",
    "With federated learning, the customers can benefit from each other without directly sharing their data.\n",
    "This makes customer journey prediction is an interesting field of application for federated learning,\n",
    "especially in the public sector & government context.\n",
    "\n",
    "Federated learning allows both high level of data protection and personalization because the distributed models are fitted only on the data of a single customer.\n",
    "For the public sector, this opens up a way to provide novel digital services. \n",
    "For example cities or governments can create personal AI assistants that give citizens personalized recommendation for variety of topics,\n",
    "including preventative healthcare and career advice.\n",
    "These kind of services require very sensitive data, that the citizens may be unwilling to trust the government with.\n",
    "Federated learning can help provide the same services, without the need for data share.\n",
    "In addition, with contrast to centralized modelling, the models are fitted on each customers own data.\n",
    "\n",
    "The results may also be applied to other next state prediction problems not involving human customers,\n",
    "but artificial clients insted. One such example could be predicting faults on IoT devices.\n",
    "\n",
    "### How it was done?\n",
    "\n",
    "In this work I show how custom data can be used with TFF. I use the customer journey dataset by Bernard & Andritsos [[2](#bernard2019customer)].\n",
    "I create a simple federated learning setup for next state prediction on small subset of the dataset (21k data points, 3k customers, 16 state labels ans 3 customer background features),\n",
    "simulate the federated learning with TFF and compare the results against centralized computation baseline using identical ANN model.\n",
    "\n",
    "The code is presented in the wiki tabs CustomClientData and FederatedCustomerJourney and in the notebooks 00_data.ipynb and 01_model.ipynb that can be found from the root of the repository.\n",
    "\n",
    "### Results\n",
    "\n",
    "![accuracy plot](results/accuracy.png \"Figure 1\")\n",
    "Train and validation accuracy in comparison to baselines. X-axis shows the federate update iterations, and y axis shows the accuracy. The federated updates are not directly comparable to progression of centralized computation, for which we only plot the result after 20 epochs.\n",
    "\n",
    "We observe the federated learning achieves clearly better stats than random guessing, but does not perform as well as the centralized baseline.\n",
    "Complete reproducibility proved difficult to achieve using TFF, so the results may vary depending on the run.\n",
    "\n",
    "View the tabs / notebooks for further info.\n",
    "\n",
    "### Critical thoughts and known issues\n",
    "\n",
    "- Limited data\n",
    "- Limited pool of customers (same customers on each federated update iteration)\n",
    "- Update issues, user activity and update scheduling issues not considered\n",
    "- Malicious intents of users, service provider has no access to user data\n",
    "\n",
    "### Conclusions\n",
    "\n",
    "\n"
   ]
  },
  {
   "cell_type": "markdown",
   "metadata": {},
   "source": [
    "## Contents\n",
    "\n",
    "Briefly describe the contents of your repository"
   ]
  },
  {
   "cell_type": "markdown",
   "metadata": {},
   "source": [
    "## How to Install and Run\n",
    "\n",
    "Describe how to install your code. Be very through and include every single step of the process."
   ]
  },
  {
   "cell_type": "markdown",
   "metadata": {},
   "source": [
    "## Contributing\n",
    "\n",
    "> NOTE: Edit the hyperlink below to point to the CONTRIBUTING.md file of your repository\n",
    "\n",
    "See [here](https://github.com/City-of-Helsinki/ml_project_template/blob/master/CONTRIBUTING.md) on how to contribute to this project.\n"
   ]
  },
  {
   "cell_type": "markdown",
   "metadata": {},
   "source": [
    "## References\r\n",
    "\r\n",
    "<a id='mcmahan2016communication'></a> McMahan et al. Communication-Efficient Learning of Deep Networks from Decentralized Data. 2021. Google Inc. https://arxiv.org/pdf/1602.05629.pdf\r\n",
    "\r\n",
    "<a id='bernard2019contextual'> Bernard, G., & Andritsos, P. (2019). Contextual and behavioral customer journey discovery using a genetic approach. In 23rd European Conference on Advances in Databases and Information Systems (ADBIS), pages 251–266, Cham. Springer.\r\n",
    "Dataset available at: https://customer-journey.me/datasets/\r\n",
    "\r\n",
    "This project was built using [nbdev](https://nbdev.fast.ai/) on top of the city of Helsinki [ml_project_template](https://github.com/City-of-Helsinki/ml_project_template)."
   ]
  },
  {
   "cell_type": "markdown",
   "metadata": {},
   "source": [
    "## How to Cite\n",
    "\n",
    "To cite this work, use:"
   ]
  },
  {
   "cell_type": "code",
   "execution_count": null,
   "metadata": {},
   "outputs": [
    {
     "name": "stdout",
     "output_type": "stream",
     "text": "Couldn't find program: 'False'\n"
    }
   ],
   "source": [
    "%%script False\n",
    "\n",
    "@misc{\n",
    "    sten2021simulating,\n",
    "    title = {Simulating Customer Journey Prediction in a Federated Learning Setup},\n",
    "    author = {Nuutti Akilles Sten},\n",
    "    month = {12},\n",
    "    year = {2021},\n",
    "    howpublished = {City of Helsinki},\n",
    "    doi = {ADD DOI HERE},\n",
    "}"
   ]
  },
  {
   "cell_type": "markdown",
   "metadata": {},
   "source": [
    "## Copyright\n",
    "\n",
    "> NOTE: Edit the year and author below according to your project!\n",
    "\n",
    "Copyright 2021 City-of-Helsinki. Licensed under the Apache License, Version 2.0 (the \"License\");\n",
    "you may not use this project's files except in compliance with the License.\n",
    "A copy of the License is provided in the LICENSE file in this repository.\n",
    "\n",
    "The Helsinki logo is a registered trademark owned by the city of Helsinki."
   ]
  }
 ],
 "metadata": {
  "kernelspec": {
   "display_name": "Python 3.8 (fcp)",
   "language": "python",
   "name": "federated_customer_path"
  }
 },
 "nbformat": 4,
 "nbformat_minor": 4
}
