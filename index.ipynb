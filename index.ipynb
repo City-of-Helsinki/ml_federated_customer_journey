{
 "cells": [
  {
   "cell_type": "code",
   "execution_count": null,
   "metadata": {},
   "outputs": [],
   "source": [
    "%load_ext lab_black\n",
    "# nb_black if running in jupyter"
   ]
  },
  {
   "cell_type": "markdown",
   "metadata": {},
   "source": [
    "# Simulating Customer Journey Prediction in a Federated Learning Setup"
   ]
  },
  {
   "cell_type": "markdown",
   "metadata": {},
   "source": [
    "[![DOI](https://zenodo.org/badge/415873102.svg)](https://zenodo.org/badge/latestdoi/415873102)\r\n"
   ]
  },
  {
   "cell_type": "markdown",
   "metadata": {},
   "source": [
    "## About\n",
    "\n",
    "In this study I show that customer paths can be predicted in a federated setup. \n",
    "The purpose of the work is to show, that this is possible using real customer journey data.\n",
    "The purpose is not yet to provide optimal solutions.\n",
    "The goal of the work was to observe machine learning in the given setup.\n",
    "With these results I hope to encourage further research and innovation on federated learning for privacy preserving personalized digital services.\n",
    "\n",
    "Federated learning (FL) is a term used for machine learning in de-centralized\n",
    "setups where data is distibuted across edge devices [[1](#mcmahan2016communication)].\n",
    "In a FL setup a shared model is learned by iteratively aggegating locally trained models.\n",
    "A FL setup consists of a server updating a global model averaged from aggregate distributed model parameters,\n",
    "and multiple clients (edge devices, for example mobile phones) that fit the global model to their data. \n",
    "\n",
    "![federated learning process](visuals/federated_learning_process.png \"Figure 1\")\n",
    "\n",
    "FL can be used for improved privacy, because instead of data,\n",
    "only the aggregated model parameters are shared. The raw data remains in the edge devices.\n",
    "The federated service provider does not rerquire a direct access to the data.\n",
    "However, the model update information still contains indirect information of the client data, so some privacy risks still prevail [[2](#truong2021privacy)].\n",
    "\n",
    "Because each local dataset is hosted by an edge device and represents a single client, FL setups typically follow a few assumpions:\n",
    "the data is strongly non-IID (it represents a single client),\n",
    "unbalanced (the users use the service differently),\n",
    "massively distributed (there are more clients than data points per client), \n",
    "and finally limited communication (federated updates require the device to be at rest, plugged to charger and connected to Wi-Fi).\n",
    "\n",
    "A customer journey describes the service touchpoints and transitions between them as a customer goes through a service process.\n",
    "We can model these as states of a stochastic process, and use machine learning to predict the next state based on the previous ones, and other information about the customer.\n",
    "Knowing the most likely next states would allow a service provider to tailor the service for the individual customers. \n",
    "\n",
    "Typically, each customer may only have few data points of their own, e.g. few clicks on a web page since they have entered the service.\n",
    "This means, that a localized machine learning model using the data of a single customer is not an option.\n",
    "However, customers may be unwilling to share their data for centralized processing, as they are for example with website 'cookies' [[3](#mueller2018ignore)].\n",
    "\n",
    "With federated learning, the customers could benefit from each other without directly sharing their data.\n",
    "This makes customer journey prediction is an interesting field of application for federated learning,\n",
    "especially in the public sector & government context.\n",
    "\n",
    "For the public sector, this opens up new means for creating novel digital services. \n",
    "Cities or governments can provide the citizens personal AI assistants that give them personalized recommendation and advice in various areas of life,\n",
    "including education, healthcare and career.\n",
    "These kind of services would require very sensitive data, that the citizens may be unwilling to trust the government with, and that local regulation may prohibit the officials from collecting.\n",
    "Federated learning can help provide these services, without the need for data share.\n",
    "\n",
    "The results may also be applied to other next state prediction problems not involving human customers,\n",
    "but artificial clients insted. One such example could be predicting faults on IoT devices.\n",
    "\n",
    "## The simulation study\n",
    "\n",
    "In this work I show how custom data can be used with TFF. I use the customer journey dataset by Bernard & Andritsos [[4](#bernard2019customer)].\n",
    "I use 21k data points from 3000 customers (divided into 2100 train and 900 validation clients). There are 16 state labels (including an abstract state describing end of service), 2 customer background features (age and income) and the order of the action.\n",
    "In the dataset, most customers only had 3-5 events recorded and the max observed was 10.\n",
    "I create a simple federated learning setup for next state prediction on this dataset.\n",
    "simulate the federated learning with TFF and compare the results against centralized computation baseline using identical NN model.\n",
    "\n",
    "The code is presented in the wiki tabs CustomClientData and FederatedCustomerJourney and in the notebooks 00_data.ipynb and 01_model.ipynb that can be found from the root of the repository.\n",
    "\n",
    "### Results\n",
    "\n",
    "![accuracy plot](results/accuracy.png \"Figure 2\")\n",
    "Train and validation accuracy in comparison to baselines. X-axis shows the federate update iterations, and y axis shows the accuracy. The federated updates are not directly comparable to progression of centralized computation, for which we only plot the result after 20 epochs.\n",
    "\n",
    "We observe the federated learning achieves clearly better stats than random guessing, but does not perform as well as the centralized baseline.\n",
    "Complete reproducibility proved difficult to achieve using TFF, so the results may vary depending on the run.\n",
    "\n",
    "View the tabs / notebooks for further info.\n",
    "\n",
    "It should be noted that the results were achieved in an optimistic scenario. For example the issues of changing client pool, client availablity, update scheduling and malicious behaviour were not considered in practice.\n",
    "\n",
    "\n"
   ]
  },
  {
   "cell_type": "markdown",
   "metadata": {},
   "source": [
    "## Contents\n",
    "\n",
    "The repository core structure is the following:\n",
    "\n",
    "    data/   # A folder where data is loaded (empty, run 00_data.ipynb to load data)\n",
    "    docs/   # HTML doc files are generated here\n",
    "    ml_federated_customer_journey/ # python module, functions and classes from notebooks are exported here\n",
    "    00_customclientdata.ipynb   # Load and clean data, define related functions\n",
    "    01_federatedcustomerjourney.ipynb # federated simulation\n",
    "    index.ipynb # this notebook, the repo README and wiki main page are generated from this\n",
    "    settings.ini # project metadata for nbdev tool\n"
   ]
  },
  {
   "cell_type": "markdown",
   "metadata": {},
   "source": [
    "## How to Install and Run\n",
    "\n",
    "To install and run the code:\n",
    "\n",
    "    git clone git@github.com:City-of-Helsinki/ml_federated_customer_path.git\n",
    "    cd ml_federated_customer_path\n",
    "    # (create and activate virtual environment of your choice)\n",
    "    pip install requirements.txt\n",
    "    nbdev_install_git_hooks\n",
    "\n",
    "    # run 00_customclientdata.ipynb to load and clean data\n",
    "    # run 01_federatedcustomerjourney.ipynb to run the federated learning simulation\n",
    "\n",
    "    # to update ml_federated_customer_journey module and docs, call:\n",
    "    nbdev_build_lib && nbdev_build_docs\n",
    "\n",
    "Please note that the exact results are not reproducible due to inheritant reproducibility issues of TFF. \n",
    "\n",
    "Feel free to try out different setups!\n"
   ]
  },
  {
   "cell_type": "markdown",
   "metadata": {},
   "source": [
    "## Contributing\n",
    "\n",
    "Drop the authors message if you are interested in further research on the topic! (firstname.lastname(at)hel.fi)\n",
    "\n",
    "See [here](https://github.com/City-of-Helsinki/ml_federated_customer_journey/blob/master/CONTRIBUTING.md) on how to contribute to the code.\n"
   ]
  },
  {
   "cell_type": "markdown",
   "metadata": {},
   "source": [
    "## References\r\n",
    "\r\n",
    "1) <a id='mcmahan2016communication'></a> McMahan et al. Communication-Efficient Learning of Deep Networks from Decentralized Data. 2021. Google Inc. https://arxiv.org/pdf/1602.05629.pdf\r\n",
    "\r\n",
    "2) <a id='truong2021privacy'></a> Truong et al. Privacy Preservation in Federated Learning: An insightful survey from the GDPR Perspective. 2021. https://arxiv.org/abs/2011.05411\r\n",
    "\r\n",
    "3) <a id='mueller2018ignore'></a> Mueller, R. 76% of Users Ignore Cookie Banners: the User Behaviour After 30 Days of GDPR. 2018. Amazee Metrics (online journal). https://www.amazeemetrics.com/en/blog/76-ignore-cookie-banners-the-user-behavior-after-30-days-of-gdpr/\r\n",
    "\r\n",
    "4) <a id='bernard2019contextual'> Bernard, G., & Andritsos, P. (2019). Contextual and behavioral customer journey discovery using a genetic approach. In 23rd European Conference on Advances in Databases and Information Systems (ADBIS), pages 251–266, Cham. Springer.\r\n",
    "Dataset available at: https://customer-journey.me/datasets/\r\n",
    "\r\n",
    "This project was built using [nbdev](https://nbdev.fast.ai/) on top of the city of Helsinki [ml_project_template](https://github.com/City-of-Helsinki/ml_project_template)."
   ]
  },
  {
   "cell_type": "markdown",
   "metadata": {},
   "source": [
    "## How to Cite\n",
    "\n",
    "To cite this work, use:"
   ]
  },
  {
   "cell_type": "code",
   "execution_count": null,
   "metadata": {},
   "outputs": [
    {
     "name": "stdout",
     "output_type": "stream",
     "text": "Couldn't find program: 'False'\n"
    }
   ],
   "source": [
    "%%script False\n",
    "\n",
    "@misc{\n",
    "    sten2021simulating,\n",
    "    title = {Simulating Customer Journey Prediction in a Federated Learning Setup},\n",
    "    author = {Nuutti A Sten},\n",
    "    month = {12},\n",
    "    year = {2021},\n",
    "    howpublished = {City of Helsinki},\n",
    "    doi = {10.5281/zenodo.5801725},\n",
    "}"
   ]
  },
  {
   "cell_type": "markdown",
   "metadata": {},
   "source": [
    "## Copyright\n",
    "\n",
    "Copyright 2021 City-of-Helsinki. Licensed under the Apache License, Version 2.0 (the \"License\");\n",
    "you may not use this project's files except in compliance with the License.\n",
    "A copy of the License is provided in the LICENSE file in this repository.\n",
    "\n",
    "The Helsinki logo is a registered trademark owned by the city of Helsinki."
   ]
  }
 ],
 "metadata": {
  "kernelspec": {
   "display_name": "Python 3.8 (fcp)",
   "language": "python",
   "name": "federated_customer_path"
  }
 },
 "nbformat": 4,
 "nbformat_minor": 4
}
