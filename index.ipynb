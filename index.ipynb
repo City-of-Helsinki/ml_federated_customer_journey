{
  "cells": [
    {
      "cell_type": "code",
      "source": [
        "%load_ext lab_black\n",
        "# nb_black if running in jupyter"
      ],
      "outputs": [],
      "execution_count": null,
      "metadata": {}
    },
    {
      "cell_type": "code",
      "source": [
        "# hide\n",
        "# from your_lib.core import *\n",
        "# from ml-project-template.data import *"
      ],
      "outputs": [],
      "execution_count": null,
      "metadata": {}
    },
    {
      "cell_type": "markdown",
      "source": [
        "# Your project name\n",
        "\n",
        "> One-sentence description of your project."
      ],
      "metadata": {}
    },
    {
      "cell_type": "markdown",
      "source": [
        "## About\n",
        "\n",
        "Describe your project in a general level. What problem does it solve?"
      ],
      "metadata": {}
    },
    {
      "cell_type": "markdown",
      "source": [
        "## Contents\n",
        "\n",
        "Briefly describe the contents of your repository"
      ],
      "metadata": {}
    },
    {
      "cell_type": "markdown",
      "source": [
        "## How to Install\n",
        "\n",
        "Describe how to install your code. Be very through and include every single step of the process."
      ],
      "metadata": {}
    },
    {
      "cell_type": "markdown",
      "source": [
        "## How to Use / API\n",
        "\n",
        "Describe how to use your code. Give code examples."
      ],
      "metadata": {}
    },
    {
      "cell_type": "markdown",
      "source": [
        "## Update Plan\r\n",
        "\r\n",
        "How is your model and data kept up to date?"
      ],
      "metadata": {
        "nteract": {
          "transient": {
            "deleting": false
          }
        }
      }
    },
    {
      "cell_type": "markdown",
      "source": [
        "## Ethical Aspects\r\n",
        "\r\n",
        "Can you recognize ethical issues with your ML project?\r\n",
        "\r\n",
        "Is there a risk for bias, discrimination, violation of privacy or conflict with the local or global laws?\r\n",
        "\r\n",
        "Could your results or algorithms be misused for malicious acts?\r\n",
        "\r\n",
        "Can data or model updates include bias in your model? \r\n",
        "\r\n",
        "How have you tackled these issues in your implementation?"
      ],
      "metadata": {
        "nteract": {
          "transient": {
            "deleting": false
          }
        }
      }
    },
    {
      "cell_type": "markdown",
      "source": [
        "## Contributing\n",
        "\n",
        "> NOTE: Edit the hyperlink below to point to the CONTRIBUTING.md file of your repository\n",
        "\n",
        "See [here](https://github.com/City-of-Helsinki/ml_project_template/blob/master/CONTRIBUTING.md) on how to contribute to this project.\n"
      ],
      "metadata": {}
    },
    {
      "cell_type": "markdown",
      "source": [
        "## How to Cite this Work (optional)\n",
        "\n",
        "If you are doing a research project, you can add bibtex and other citation templates here.\n",
        "You can also get a doi for your code by adding it to a code archive,\n",
        "so your code can be cited directly!\n",
        "\n",
        "To cite this work, use:\n",
        "\n",
        "    @misc{authoryearfirstwordinheader,\n",
        "    title = ...\n",
        "    ...\n",
        "    }"
      ],
      "metadata": {}
    },
    {
      "cell_type": "markdown",
      "source": [
        "## Copyright\n",
        "\n",
        "> NOTE: Edit the year and author below according to your project!\n",
        "\n",
        "Copyright 2021 City-of-Helsinki. Licensed under the Apache License, Version 2.0 (the \"License\");\n",
        "you may not use this project's files except in compliance with the License.\n",
        "A copy of the License is provided in the LICENSE file in this repository.\n",
        "\n",
        "> NOTE: If you are using this template for other than city of Helsinki projects, remove the Helsinki logo files `favicon.ico` and `company_logo.png` from `docs/assets/images/`.\n",
        "\n",
        "    # to remove remove helsinki logo and favicon:\n",
        "    git rm docs/assets/images/favicon.ico docs/assets/images/company_logo.png\n",
        "    git commit -m \"removed Helsinki logo and favicon\"\n",
        "\n",
        "The Helsinki logo is a registered trademark, and may only be used by the city of Helsinki.\n",
        "\n",
        "This project was built using [nbdev](https://nbdev.fast.ai/) on top of the city of Helsinki [ml_project_template](https://github.com/City-of-Helsinki/ml_project_template)."
      ],
      "metadata": {}
    }
  ],
  "metadata": {
    "kernelspec": {
      "name": "templateenv_py3.8.1",
      "language": "python",
      "display_name": "Python 3.8 (templateenv)"
    },
    "language_info": {
      "name": "python",
      "version": "3.8.10",
      "mimetype": "text/x-python",
      "codemirror_mode": {
        "name": "ipython",
        "version": 3
      },
      "pygments_lexer": "ipython3",
      "nbconvert_exporter": "python",
      "file_extension": ".py"
    },
    "kernel_info": {
      "name": "templateenv_py3.8.1"
    },
    "nteract": {
      "version": "nteract-front-end@1.0.0"
    }
  },
  "nbformat": 4,
  "nbformat_minor": 4
}