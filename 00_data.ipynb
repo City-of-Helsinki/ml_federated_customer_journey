{
 "cells": [
  {
   "cell_type": "code",
   "execution_count": null,
   "metadata": {},
   "outputs": [],
   "source": [
    "# default_exp data\n",
    "%load_ext lab_black\n",
    "# nb_black if running in jupyter\n",
    "%load_ext autoreload\n",
    "# automatically reload python modules if there are changes in the\n",
    "%autoreload 2"
   ]
  },
  {
   "cell_type": "code",
   "execution_count": null,
   "metadata": {},
   "outputs": [],
   "source": [
    "# hide\n",
    "from nbdev.showdoc import *"
   ]
  },
  {
   "cell_type": "markdown",
   "metadata": {},
   "source": [
    "# Data\n",
    "\n",
    "> (Generate*), load and clean data\n",
    "\n",
    "*to avoid privacy issues we generate new data, similar to real customer data we have. You may replace this with customer path data of your own. "
   ]
  },
  {
   "cell_type": "markdown",
   "metadata": {},
   "source": [
    "***input***: raw data\n",
    "\n",
    "***output***: clean and tidy dataset + toy dataset for testing\n",
    "\n",
    "***description:***\n",
    "\n",
    "In this notebook we generate customer path data, and transform it into tensorflow federated [ClientData](https://www.tensorflow.org/federated/tutorials/working_with_client_data) format.\n",
    "You can edit the code to load and clean and transform your own client path data."
   ]
  },
  {
   "cell_type": "markdown",
   "metadata": {},
   "source": [
    "## Import relevant modules"
   ]
  },
  {
   "cell_type": "code",
   "execution_count": null,
   "metadata": {},
   "outputs": [],
   "source": [
    "import numpy as np\n",
    "import pandas as pd\n",
    "from scipy.special import softmax\n",
    "from seaborn import heatmap\n",
    "\n",
    "# your code here"
   ]
  },
  {
   "cell_type": "markdown",
   "metadata": {},
   "source": [
    "## Define notebook parameters\n",
    "\n",
    "Define input, output and additional parameters of this notebook, the information needed for running the notebook.\n",
    "In your own project, you can do this step in the later iterations of the work,\n",
    "when you know what is required.\n",
    "In this cell, only assing values to variables directly: `variable_name = value`.\n",
    "**Do not derive any information in this cell as it will mess up the parameterization** - do it in the cell below."
   ]
  },
  {
   "cell_type": "code",
   "execution_count": null,
   "metadata": {},
   "outputs": [],
   "source": [
    "# This cell is tagged with 'parameters'\n",
    "seed = 0\n",
    "# your code here"
   ]
  },
  {
   "cell_type": "markdown",
   "metadata": {},
   "source": [
    "Define any immediate derivative operations from the parameters:"
   ]
  },
  {
   "cell_type": "code",
   "execution_count": null,
   "metadata": {},
   "outputs": [],
   "source": [
    "# set seed\n",
    "np.random.seed(seed)\n",
    "# your code here"
   ]
  },
  {
   "cell_type": "markdown",
   "metadata": {},
   "source": [
    "## Generate data (from a Markov Process)\r\n",
    "\r\n",
    "Our decired data point is a transition between two customer sevice states for a customer.\r\n",
    "The feature is the previous service state, and the label is the following service state.\r\n",
    "\r\n",
    "We need to simulate imaginary customer paths trough markov process modelling.\r\n",
    "\r\n",
    "In our example we have one incoming state 'begin', and one absorbing state 'end'.\r\n",
    "The customer is in the beginning state before the first service event.\r\n",
    "In the between there are X service states that the customer can encounter.\r\n",
    "After the last observed service state the customer is moved to 'end' state. \r\n",
    "You are free to apply different assumptions.\r\n",
    "\r\n",
    "For example we could include information on the incoming state: is it the frontpage of the service, another website, social media etc. "
   ]
  },
  {
   "cell_type": "code",
   "execution_count": null,
   "metadata": {},
   "outputs": [],
   "source": [
    "# state space\n",
    "S = np.array(\n",
    "    [\n",
    "        \"begin\",\n",
    "        \"search\",\n",
    "        \"scrolling\",\n",
    "        \"view\",\n",
    "        \"chatbot\",\n",
    "        \"customer_service\",\n",
    "        \"shopping_cart\",\n",
    "        \"purchace\",\n",
    "        \"end\",\n",
    "    ]\n",
    ")\n",
    "n_states = S.shape[0]\n",
    "\n",
    "# transition matrix\n",
    "# the actual values of the transition matrix do not matter, so we just generate random.\n",
    "# the ML algorithms should be able to learn whatever relations\n",
    "P = np.hstack(\n",
    "    (\n",
    "        np.zeros((n_states, 1)),  # cannot reach begin state afterwards\n",
    "        softmax(np.random.uniform(size=(n_states, n_states - 1)), axis=1),\n",
    "    )\n",
    ")  # randomly set other transition states\n",
    "P[-1, :] = 0\n",
    "P[-1, -1] = 1  # the absorbing state\n",
    "\n",
    "assert np.count_nonzero(P.sum(axis=0) - 1) == n_states"
   ]
  },
  {
   "cell_type": "code",
   "execution_count": null,
   "metadata": {},
   "outputs": [
    {
     "data": {
      "text/plain": "Text(0.5, 1.0, 'Transition matrix')"
     },
     "execution_count": null,
     "metadata": {},
     "output_type": "execute_result"
    },
    {
     "data": {
      "image/png": "[encoded data removed]",
      "text/plain": "<Figure size 432x288 with 2 Axes>"
     },
     "metadata": {
      "needs_background": "light"
     },
     "output_type": "display_data"
    }
   ],
   "source": [
    "g = heatmap(P, cmap=\"Greys\")\n",
    "g.set_yticklabels(S, rotation=0)\n",
    "g.set_xticklabels(S, rotation=30, va=\"top\", ha=\"right\")\n",
    "g.set_title(\"Transition matrix\")"
   ]
  },
  {
   "cell_type": "markdown",
   "metadata": {},
   "source": [
    "Then, let's generate some customer paths"
   ]
  },
  {
   "cell_type": "code",
   "execution_count": null,
   "metadata": {},
   "outputs": [
    {
     "data": {
      "text/html": "<div>\n<style scoped>\n    .dataframe tbody tr th:only-of-type {\n        vertical-align: middle;\n    }\n\n    .dataframe tbody tr th {\n        vertical-align: top;\n    }\n\n    .dataframe thead th {\n        text-align: right;\n    }\n</style>\n<table border=\"1\" class=\"dataframe\">\n  <thead>\n    <tr style=\"text-align: right;\">\n      <th></th>\n      <th>customer_id</th>\n      <th>prev_state</th>\n      <th>next_state</th>\n    </tr>\n  </thead>\n  <tbody>\n    <tr>\n      <th>0</th>\n      <td>0</td>\n      <td>0</td>\n      <td>8</td>\n    </tr>\n    <tr>\n      <th>1</th>\n      <td>1</td>\n      <td>0</td>\n      <td>6</td>\n    </tr>\n    <tr>\n      <th>2</th>\n      <td>1</td>\n      <td>6</td>\n      <td>6</td>\n    </tr>\n    <tr>\n      <th>3</th>\n      <td>1</td>\n      <td>6</td>\n      <td>1</td>\n    </tr>\n    <tr>\n      <th>4</th>\n      <td>1</td>\n      <td>1</td>\n      <td>2</td>\n    </tr>\n  </tbody>\n</table>\n</div>",
      "text/plain": "  customer_id prev_state next_state\n0           0          0          8\n1           1          0          6\n2           1          6          6\n3           1          6          1\n4           1          1          2"
     },
     "execution_count": null,
     "metadata": {},
     "output_type": "execute_result"
    }
   ],
   "source": [
    "n_customers = 1000  # number of customers (paths, assuming only one path per customer)\n",
    "max_path_length = 100  # limit simulation length\n",
    "\n",
    "# dataframe to store the results\n",
    "df = pd.DataFrame(\n",
    "    columns={\"customer_id\": int, \"prev_state\": np.uint8, \"next_state\": np.uint8}\n",
    ")\n",
    "\n",
    "# loop through customers\n",
    "for customer_id in range(n_customers):\n",
    "    prev_state = 0\n",
    "    count = 0\n",
    "    while prev_state != n_states - 1 and count < max_path_length:\n",
    "        # select new state according to weights in transition matrix\n",
    "        next_state = np.random.choice(np.arange(n_states), p=P[prev_state, :].flatten())\n",
    "        df = df.append(\n",
    "            {\n",
    "                \"customer_id\": customer_id,\n",
    "                \"prev_state\": prev_state,\n",
    "                \"next_state\": next_state,\n",
    "            },\n",
    "            ignore_index=True,\n",
    "        )\n",
    "        prev_state = next_state\n",
    "        count += 1\n",
    "\n",
    "# check out results\n",
    "df.head()"
   ]
  },
  {
   "cell_type": "markdown",
   "metadata": {},
   "source": [
    "plot histogram of path lengths\r\n",
    "\r\n",
    "with one absorbing state, should decay exponentially: $y=e^{-ax+b}$"
   ]
  },
  {
   "cell_type": "code",
   "execution_count": null,
   "metadata": {},
   "outputs": [
    {
     "data": {
      "text/plain": "<AxesSubplot:>"
     },
     "execution_count": null,
     "metadata": {},
     "output_type": "execute_result"
    },
    {
     "data": {
      "image/png": "[encoded data removed]",
      "text/plain": "<Figure size 432x288 with 1 Axes>"
     },
     "metadata": {
      "needs_background": "light"
     },
     "output_type": "display_data"
    }
   ],
   "source": [
    "df.groupby(\"customer_id\").count()[\"prev_state\"].hist()"
   ]
  },
  {
   "cell_type": "markdown",
   "metadata": {},
   "source": [
    "## (or alternatively load your own data and turn it into the same format)"
   ]
  },
  {
   "cell_type": "code",
   "execution_count": null,
   "metadata": {},
   "outputs": [],
   "source": [
    "# your code here"
   ]
  },
  {
   "cell_type": "markdown",
   "metadata": {},
   "source": [
    "## Describe the data\n",
    "\n",
    "Define data points, features and labels"
   ]
  },
  {
   "cell_type": "code",
   "execution_count": null,
   "metadata": {},
   "outputs": [],
   "source": [
    "# your code here"
   ]
  },
  {
   "cell_type": "markdown",
   "metadata": {},
   "source": [
    "## Visualize the data"
   ]
  },
  {
   "cell_type": "code",
   "execution_count": null,
   "metadata": {},
   "outputs": [],
   "source": [
    "# your code here"
   ]
  },
  {
   "cell_type": "markdown",
   "metadata": {},
   "source": [
    "# Convert into tff ClientData"
   ]
  },
  {
   "cell_type": "code",
   "execution_count": null,
   "metadata": {},
   "outputs": [],
   "source": [
    "# your code here"
   ]
  },
  {
   "cell_type": "markdown",
   "metadata": {},
   "source": [
    "## Save clean and tidy data for further use"
   ]
  },
  {
   "cell_type": "code",
   "execution_count": null,
   "metadata": {},
   "outputs": [],
   "source": [
    "# your code here"
   ]
  },
  {
   "cell_type": "markdown",
   "metadata": {},
   "source": [
    "## Create small toy dataset for developing and testing the ML methods"
   ]
  },
  {
   "cell_type": "code",
   "execution_count": null,
   "metadata": {},
   "outputs": [],
   "source": [
    "# your code here"
   ]
  },
  {
   "cell_type": "markdown",
   "metadata": {},
   "source": [
    "save the toy dataset:"
   ]
  },
  {
   "cell_type": "code",
   "execution_count": null,
   "metadata": {},
   "outputs": [],
   "source": [
    "# your code here"
   ]
  },
  {
   "cell_type": "markdown",
   "metadata": {},
   "source": [
    "## You can now move on to the model notebook!"
   ]
  }
 ],
 "metadata": {
  "kernelspec": {
   "display_name": "Python 3.8 (fcp)",
   "language": "python",
   "name": "federated_customer_path"
  }
 },
 "nbformat": 4,
 "nbformat_minor": 4
}
