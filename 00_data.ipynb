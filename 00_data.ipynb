{
 "cells": [
  {
   "cell_type": "code",
   "execution_count": null,
   "metadata": {},
   "outputs": [],
   "source": [
    "# default_exp data\n",
    "%load_ext lab_black\n",
    "# nb_black if running in jupyter\n",
    "%load_ext autoreload\n",
    "# automatically reload python modules if there are changes in the\n",
    "%autoreload 2"
   ]
  },
  {
   "cell_type": "code",
   "execution_count": null,
   "metadata": {},
   "outputs": [],
   "source": [
    "# hide\n",
    "from nbdev.showdoc import *"
   ]
  },
  {
   "cell_type": "markdown",
   "metadata": {},
   "source": [
    "# CustomClientData\n",
    "\n",
    "> Create custom TFF ClientData from Pandas Dataframe"
   ]
  },
  {
   "cell_type": "markdown",
   "metadata": {},
   "source": [
    "***input***: none / raw data\n",
    "\n",
    "***output***: function for creating custom tff ClientData\n",
    "\n",
    "***description:***\n",
    "\n",
    "In this notebook we generate customer path data, and transform it into tensorflow federated [ClientData](https://www.tensorflow.org/federated/tutorials/working_with_client_data) format.\n",
    "You can edit the code to load and clean and transform your own client path data."
   ]
  },
  {
   "cell_type": "markdown",
   "metadata": {},
   "source": [
    "## Import relevant modules"
   ]
  },
  {
   "cell_type": "markdown",
   "metadata": {},
   "source": [
    "Uncomment the following cell to run with the newest version of tff"
   ]
  },
  {
   "cell_type": "code",
   "execution_count": null,
   "metadata": {},
   "outputs": [],
   "source": [
    "# tensorflow_federated_nightly also bring in tf_nightly, which\n",
    "# can causes a duplicate tensorboard install, leading to errors.\n",
    "#!pip uninstall --yes tensorboard tb-nightly\n",
    "\n",
    "#!pip install --quiet --upgrade tensorflow-federated-nightly\n",
    "#!pip install --quiet --upgrade nest-asyncio\n",
    "#!pip install --quiet --upgrade tb-nightly  # or tensorboard, but not both"
   ]
  },
  {
   "cell_type": "code",
   "execution_count": null,
   "metadata": {},
   "outputs": [],
   "source": [
    "# export\n",
    "import nest_asyncio\n",
    "\n",
    "nest_asyncio.apply()\n",
    "import numpy as np\n",
    "import pandas as pd\n",
    "import tensorflow as tf\n",
    "import tensorflow_federated as tff"
   ]
  },
  {
   "cell_type": "code",
   "execution_count": null,
   "metadata": {},
   "outputs": [],
   "source": [
    "from pyarrow import feather\n",
    "from scipy.special import softmax\n",
    "from seaborn import heatmap"
   ]
  },
  {
   "cell_type": "markdown",
   "metadata": {},
   "source": [
    "## Define notebook parameters"
   ]
  },
  {
   "cell_type": "code",
   "execution_count": null,
   "metadata": {},
   "outputs": [],
   "source": [
    "# This cell is tagged with 'parameters' for papermill use\n",
    "seed = 0\n",
    "\n",
    "SHUFFLE_BUFFER = 100\n",
    "NUM_EPOCHS = 1\n",
    "BATCH_SIZE = 32\n",
    "\n",
    "n_customers = 10000  # number of customers (paths, assuming only one path per customer)\n",
    "max_path_length = 100  # limit simulation length"
   ]
  },
  {
   "cell_type": "markdown",
   "metadata": {},
   "source": [
    "Define any immediate derivative operations from the parameters:"
   ]
  },
  {
   "cell_type": "code",
   "execution_count": null,
   "metadata": {},
   "outputs": [],
   "source": [
    "# set seed\n",
    "np.random.seed(seed)\n",
    "tf.random.set_seed(seed)"
   ]
  },
  {
   "cell_type": "markdown",
   "metadata": {},
   "source": [
    "## (or alternatively load your own data and turn it into an applicable format)\r\n",
    "\r\n",
    "Try for example: https://cseweb.ucsd.edu/~jmcauley/datasets.html\r\n",
    "\r\n",
    "or https://archive.ics.uci.edu/ml/datasets/Entree+Chicago+Recommendation+Data"
   ]
  },
  {
   "cell_type": "code",
   "execution_count": null,
   "metadata": {},
   "outputs": [],
   "source": [
    "from pathlib import Path\n",
    "import requests, zipfile, io\n",
    "\n",
    "p = Path(\".\") / \"data\" / \"raw_data\"\n",
    "if not (p / \"customer-journey-unil-ch-datasets\").exists():  # check if already loaded\n",
    "    r = requests.get(\n",
    "        \"http://customer-journey.me/wp-content/uploads/2018/02/customer-journey-unil-ch-datasets.zip\"\n",
    "    )\n",
    "    z = zipfile.ZipFile(io.BytesIO(r.content))\n",
    "    z.extractall(p)"
   ]
  },
  {
   "cell_type": "code",
   "execution_count": null,
   "metadata": {},
   "outputs": [],
   "source": [
    "filepath = (\n",
    "    p\n",
    "    / \"customer-journey-unil-ch-datasets\"\n",
    "    / \"csv\"\n",
    "    / \"configuration6\"\n",
    "    / \"excluding-solution\"\n",
    "    / \"1.csv\"\n",
    ")"
   ]
  },
  {
   "cell_type": "code",
   "execution_count": null,
   "metadata": {},
   "outputs": [
    {
     "data": {
      "text/html": "<div>\n<style scoped>\n    .dataframe tbody tr th:only-of-type {\n        vertical-align: middle;\n    }\n\n    .dataframe tbody tr th {\n        vertical-align: top;\n    }\n\n    .dataframe thead th {\n        text-align: right;\n    }\n</style>\n<table border=\"1\" class=\"dataframe\">\n  <thead>\n    <tr style=\"text-align: right;\">\n      <th></th>\n      <th>trace_id</th>\n      <th>activities</th>\n      <th>owner</th>\n      <th>employed</th>\n      <th>age</th>\n      <th>income</th>\n    </tr>\n  </thead>\n  <tbody>\n    <tr>\n      <th>0</th>\n      <td>0</td>\n      <td>activity_09</td>\n      <td>no</td>\n      <td>yes</td>\n      <td>20-39yo</td>\n      <td>high</td>\n    </tr>\n    <tr>\n      <th>1</th>\n      <td>0</td>\n      <td>activity_04</td>\n      <td>no</td>\n      <td>yes</td>\n      <td>20-39yo</td>\n      <td>high</td>\n    </tr>\n    <tr>\n      <th>2</th>\n      <td>0</td>\n      <td>activity_02</td>\n      <td>no</td>\n      <td>yes</td>\n      <td>20-39yo</td>\n      <td>high</td>\n    </tr>\n    <tr>\n      <th>3</th>\n      <td>1</td>\n      <td>activity_09</td>\n      <td>no</td>\n      <td>yes</td>\n      <td>60-79yo</td>\n      <td>high</td>\n    </tr>\n    <tr>\n      <th>4</th>\n      <td>1</td>\n      <td>activity_04</td>\n      <td>no</td>\n      <td>yes</td>\n      <td>60-79yo</td>\n      <td>high</td>\n    </tr>\n    <tr>\n      <th>...</th>\n      <td>...</td>\n      <td>...</td>\n      <td>...</td>\n      <td>...</td>\n      <td>...</td>\n      <td>...</td>\n    </tr>\n    <tr>\n      <th>4295</th>\n      <td>999</td>\n      <td>activity_10</td>\n      <td>no</td>\n      <td>yes</td>\n      <td>40-59yo</td>\n      <td>middle</td>\n    </tr>\n    <tr>\n      <th>4296</th>\n      <td>999</td>\n      <td>activity_06</td>\n      <td>no</td>\n      <td>yes</td>\n      <td>40-59yo</td>\n      <td>middle</td>\n    </tr>\n    <tr>\n      <th>4297</th>\n      <td>999</td>\n      <td>activity_02</td>\n      <td>no</td>\n      <td>yes</td>\n      <td>40-59yo</td>\n      <td>middle</td>\n    </tr>\n    <tr>\n      <th>4298</th>\n      <td>999</td>\n      <td>activity_03</td>\n      <td>no</td>\n      <td>yes</td>\n      <td>40-59yo</td>\n      <td>middle</td>\n    </tr>\n    <tr>\n      <th>4299</th>\n      <td>999</td>\n      <td>activity_07</td>\n      <td>no</td>\n      <td>yes</td>\n      <td>40-59yo</td>\n      <td>middle</td>\n    </tr>\n  </tbody>\n</table>\n<p>4300 rows × 6 columns</p>\n</div>",
      "text/plain": "      trace_id   activities owner employed      age  income\n0            0  activity_09    no      yes  20-39yo    high\n1            0  activity_04    no      yes  20-39yo    high\n2            0  activity_02    no      yes  20-39yo    high\n3            1  activity_09    no      yes  60-79yo    high\n4            1  activity_04    no      yes  60-79yo    high\n...        ...          ...   ...      ...      ...     ...\n4295       999  activity_10    no      yes  40-59yo  middle\n4296       999  activity_06    no      yes  40-59yo  middle\n4297       999  activity_02    no      yes  40-59yo  middle\n4298       999  activity_03    no      yes  40-59yo  middle\n4299       999  activity_07    no      yes  40-59yo  middle\n\n[4300 rows x 6 columns]"
     },
     "execution_count": null,
     "metadata": {},
     "output_type": "execute_result"
    }
   ],
   "source": [
    "df = pd.read_csv(filepath)\n",
    "df"
   ]
  },
  {
   "cell_type": "code",
   "execution_count": null,
   "metadata": {},
   "outputs": [
    {
     "data": {
      "text/plain": "array(['activity_09', 'activity_04', 'activity_02', 'activity_10',\n       'activity_06', 'activity_03', 'activity_07', 'activity_08',\n       'activity_01', 'activity_05'], dtype=object)"
     },
     "execution_count": null,
     "metadata": {},
     "output_type": "execute_result"
    }
   ],
   "source": [
    "df.activities.unique()"
   ]
  },
  {
   "cell_type": "code",
   "execution_count": null,
   "metadata": {},
   "outputs": [
    {
     "data": {
      "text/plain": "array(['20-39yo', '60-79yo', '0-19yo', '40-59yo', '80yo+'], dtype=object)"
     },
     "execution_count": null,
     "metadata": {},
     "output_type": "execute_result"
    }
   ],
   "source": [
    "df.age.unique()"
   ]
  },
  {
   "cell_type": "code",
   "execution_count": null,
   "metadata": {},
   "outputs": [
    {
     "data": {
      "text/plain": "array(['high', 'middle', 'low'], dtype=object)"
     },
     "execution_count": null,
     "metadata": {},
     "output_type": "execute_result"
    }
   ],
   "source": [
    "df.income.unique()"
   ]
  },
  {
   "cell_type": "code",
   "execution_count": null,
   "metadata": {},
   "outputs": [],
   "source": [
    "df.trace_id = df.trace_id.astype(\"int\")\n",
    "df.activities = df.activities.astype(\"category\")\n",
    "df.owner = df.owner.map(lambda x: 1 if \"yes\" else 0).astype(\"uint8\")\n",
    "df.employed = df.employed.map(lambda x: 1 if \"yes\" else 0).astype(\"uint8\")\n",
    "df.age = df.age.map(\n",
    "    {\"0-19yo\": 0, \"20-39yo\": 1, \"40-59yo\": 2, \"60-79yo\": 3, \"80yo+\": 4}\n",
    ").astype(\"uint8\")\n",
    "df.income = df.income.map({\"low\": 0, \"middle\": 1, \"high\": 2}).astype(\"uint8\")"
   ]
  },
  {
   "cell_type": "code",
   "execution_count": null,
   "metadata": {},
   "outputs": [
    {
     "data": {
      "text/html": "<div>\n<style scoped>\n    .dataframe tbody tr th:only-of-type {\n        vertical-align: middle;\n    }\n\n    .dataframe tbody tr th {\n        vertical-align: top;\n    }\n\n    .dataframe thead th {\n        text-align: right;\n    }\n</style>\n<table border=\"1\" class=\"dataframe\">\n  <thead>\n    <tr style=\"text-align: right;\">\n      <th></th>\n      <th>action_index</th>\n      <th>trace_id</th>\n      <th>activities</th>\n      <th>owner</th>\n      <th>employed</th>\n      <th>age</th>\n      <th>income</th>\n    </tr>\n  </thead>\n  <tbody>\n    <tr>\n      <th>0</th>\n      <td>0</td>\n      <td>0</td>\n      <td>activity_09</td>\n      <td>1</td>\n      <td>1</td>\n      <td>1</td>\n      <td>2</td>\n    </tr>\n    <tr>\n      <th>1</th>\n      <td>1</td>\n      <td>0</td>\n      <td>activity_04</td>\n      <td>1</td>\n      <td>1</td>\n      <td>1</td>\n      <td>2</td>\n    </tr>\n    <tr>\n      <th>2</th>\n      <td>2</td>\n      <td>0</td>\n      <td>activity_02</td>\n      <td>1</td>\n      <td>1</td>\n      <td>1</td>\n      <td>2</td>\n    </tr>\n    <tr>\n      <th>3</th>\n      <td>3</td>\n      <td>1</td>\n      <td>activity_09</td>\n      <td>1</td>\n      <td>1</td>\n      <td>3</td>\n      <td>2</td>\n    </tr>\n    <tr>\n      <th>4</th>\n      <td>4</td>\n      <td>1</td>\n      <td>activity_04</td>\n      <td>1</td>\n      <td>1</td>\n      <td>3</td>\n      <td>2</td>\n    </tr>\n    <tr>\n      <th>...</th>\n      <td>...</td>\n      <td>...</td>\n      <td>...</td>\n      <td>...</td>\n      <td>...</td>\n      <td>...</td>\n      <td>...</td>\n    </tr>\n    <tr>\n      <th>4295</th>\n      <td>4295</td>\n      <td>999</td>\n      <td>activity_10</td>\n      <td>1</td>\n      <td>1</td>\n      <td>2</td>\n      <td>1</td>\n    </tr>\n    <tr>\n      <th>4296</th>\n      <td>4296</td>\n      <td>999</td>\n      <td>activity_06</td>\n      <td>1</td>\n      <td>1</td>\n      <td>2</td>\n      <td>1</td>\n    </tr>\n    <tr>\n      <th>4297</th>\n      <td>4297</td>\n      <td>999</td>\n      <td>activity_02</td>\n      <td>1</td>\n      <td>1</td>\n      <td>2</td>\n      <td>1</td>\n    </tr>\n    <tr>\n      <th>4298</th>\n      <td>4298</td>\n      <td>999</td>\n      <td>activity_03</td>\n      <td>1</td>\n      <td>1</td>\n      <td>2</td>\n      <td>1</td>\n    </tr>\n    <tr>\n      <th>4299</th>\n      <td>4299</td>\n      <td>999</td>\n      <td>activity_07</td>\n      <td>1</td>\n      <td>1</td>\n      <td>2</td>\n      <td>1</td>\n    </tr>\n  </tbody>\n</table>\n<p>4300 rows × 7 columns</p>\n</div>",
      "text/plain": "      action_index  trace_id   activities  owner  employed  age  income\n0                0         0  activity_09      1         1    1       2\n1                1         0  activity_04      1         1    1       2\n2                2         0  activity_02      1         1    1       2\n3                3         1  activity_09      1         1    3       2\n4                4         1  activity_04      1         1    3       2\n...            ...       ...          ...    ...       ...  ...     ...\n4295          4295       999  activity_10      1         1    2       1\n4296          4296       999  activity_06      1         1    2       1\n4297          4297       999  activity_02      1         1    2       1\n4298          4298       999  activity_03      1         1    2       1\n4299          4299       999  activity_07      1         1    2       1\n\n[4300 rows x 7 columns]"
     },
     "execution_count": null,
     "metadata": {},
     "output_type": "execute_result"
    }
   ],
   "source": [
    "df.reset_index(inplace=True)\n",
    "df.rename({\"index\": \"action_index\"}, axis=1, inplace=True)\n",
    "df"
   ]
  },
  {
   "cell_type": "code",
   "execution_count": null,
   "metadata": {},
   "outputs": [],
   "source": [
    "#\n",
    "# we need extra category for denoting that client activity has stopped\n",
    "activity_ended = f\"activity_{df.activities.nunique()+1:d}\"\n",
    "df.activities = df.activities.cat.add_categories([activity_ended])"
   ]
  },
  {
   "cell_type": "markdown",
   "metadata": {},
   "source": [
    "- order of events for customer\r\n",
    "\r\n",
    "- next and previous event"
   ]
  },
  {
   "cell_type": "code",
   "execution_count": null,
   "metadata": {},
   "outputs": [
    {
     "data": {
      "text/plain": "Index(['action_index', 'trace_id', 'activities', 'owner', 'employed', 'age',\n       'income'],\n      dtype='object')"
     },
     "execution_count": null,
     "metadata": {},
     "output_type": "execute_result"
    }
   ],
   "source": [
    "df.columns"
   ]
  },
  {
   "cell_type": "code",
   "execution_count": null,
   "metadata": {},
   "outputs": [],
   "source": [
    "prev_next_df = pd.DataFrame(\n",
    "    columns={\n",
    "        \"client_id\": int,\n",
    "        \"action_index\": \"uint8\",\n",
    "        \"prev_activity\": \"category\",\n",
    "        \"owner\": \"uint8\",\n",
    "        \"employed\": \"uint8\",\n",
    "        \"age\": \"uint8\",\n",
    "        \"income\": \"uint8\",\n",
    "        \"next_activity\": \"category\",\n",
    "    }\n",
    ")\n",
    "\n",
    "for client_id, client_data in df.groupby(\"trace_id\"):\n",
    "    client_data.action_index -= client_data.action_index.min()\n",
    "    client_data.action_index = client_data.action_index.astype(int)\n",
    "    # rename columns\n",
    "    buf_df = client_data.rename(\n",
    "        {\"trace_id\": \"client_id\", \"activities\": \"prev_activity\"}, axis=1\n",
    "    )\n",
    "\n",
    "    # add new column for next activity\n",
    "    buf_df[\"next_activity\"] = client_data.activities.shift(\n",
    "        periods=-1, fill_value=activity_ended\n",
    "    ).astype(\"category\")\n",
    "    # add buffer to prev_next_df\n",
    "    prev_next_df = pd.concat((prev_next_df, buf_df), axis=0, ignore_index=True)"
   ]
  },
  {
   "cell_type": "code",
   "execution_count": null,
   "metadata": {},
   "outputs": [
    {
     "data": {
      "text/html": "<div>\n<style scoped>\n    .dataframe tbody tr th:only-of-type {\n        vertical-align: middle;\n    }\n\n    .dataframe tbody tr th {\n        vertical-align: top;\n    }\n\n    .dataframe thead th {\n        text-align: right;\n    }\n</style>\n<table border=\"1\" class=\"dataframe\">\n  <thead>\n    <tr style=\"text-align: right;\">\n      <th></th>\n      <th>client_id</th>\n      <th>action_index</th>\n      <th>prev_activity</th>\n      <th>owner</th>\n      <th>employed</th>\n      <th>age</th>\n      <th>income</th>\n      <th>next_activity</th>\n    </tr>\n  </thead>\n  <tbody>\n    <tr>\n      <th>0</th>\n      <td>0</td>\n      <td>0</td>\n      <td>activity_09</td>\n      <td>1</td>\n      <td>1</td>\n      <td>1</td>\n      <td>2</td>\n      <td>activity_04</td>\n    </tr>\n    <tr>\n      <th>1</th>\n      <td>0</td>\n      <td>1</td>\n      <td>activity_04</td>\n      <td>1</td>\n      <td>1</td>\n      <td>1</td>\n      <td>2</td>\n      <td>activity_02</td>\n    </tr>\n    <tr>\n      <th>2</th>\n      <td>0</td>\n      <td>2</td>\n      <td>activity_02</td>\n      <td>1</td>\n      <td>1</td>\n      <td>1</td>\n      <td>2</td>\n      <td>activity_11</td>\n    </tr>\n    <tr>\n      <th>3</th>\n      <td>1</td>\n      <td>0</td>\n      <td>activity_09</td>\n      <td>1</td>\n      <td>1</td>\n      <td>3</td>\n      <td>2</td>\n      <td>activity_04</td>\n    </tr>\n    <tr>\n      <th>4</th>\n      <td>1</td>\n      <td>1</td>\n      <td>activity_04</td>\n      <td>1</td>\n      <td>1</td>\n      <td>3</td>\n      <td>2</td>\n      <td>activity_02</td>\n    </tr>\n    <tr>\n      <th>...</th>\n      <td>...</td>\n      <td>...</td>\n      <td>...</td>\n      <td>...</td>\n      <td>...</td>\n      <td>...</td>\n      <td>...</td>\n      <td>...</td>\n    </tr>\n    <tr>\n      <th>4295</th>\n      <td>999</td>\n      <td>0</td>\n      <td>activity_10</td>\n      <td>1</td>\n      <td>1</td>\n      <td>2</td>\n      <td>1</td>\n      <td>activity_06</td>\n    </tr>\n    <tr>\n      <th>4296</th>\n      <td>999</td>\n      <td>1</td>\n      <td>activity_06</td>\n      <td>1</td>\n      <td>1</td>\n      <td>2</td>\n      <td>1</td>\n      <td>activity_02</td>\n    </tr>\n    <tr>\n      <th>4297</th>\n      <td>999</td>\n      <td>2</td>\n      <td>activity_02</td>\n      <td>1</td>\n      <td>1</td>\n      <td>2</td>\n      <td>1</td>\n      <td>activity_03</td>\n    </tr>\n    <tr>\n      <th>4298</th>\n      <td>999</td>\n      <td>3</td>\n      <td>activity_03</td>\n      <td>1</td>\n      <td>1</td>\n      <td>2</td>\n      <td>1</td>\n      <td>activity_07</td>\n    </tr>\n    <tr>\n      <th>4299</th>\n      <td>999</td>\n      <td>4</td>\n      <td>activity_07</td>\n      <td>1</td>\n      <td>1</td>\n      <td>2</td>\n      <td>1</td>\n      <td>activity_11</td>\n    </tr>\n  </tbody>\n</table>\n<p>4300 rows × 8 columns</p>\n</div>",
      "text/plain": "     client_id action_index prev_activity owner employed age income  \\\n0            0            0   activity_09     1        1   1      2   \n1            0            1   activity_04     1        1   1      2   \n2            0            2   activity_02     1        1   1      2   \n3            1            0   activity_09     1        1   3      2   \n4            1            1   activity_04     1        1   3      2   \n...        ...          ...           ...   ...      ...  ..    ...   \n4295       999            0   activity_10     1        1   2      1   \n4296       999            1   activity_06     1        1   2      1   \n4297       999            2   activity_02     1        1   2      1   \n4298       999            3   activity_03     1        1   2      1   \n4299       999            4   activity_07     1        1   2      1   \n\n     next_activity  \n0      activity_04  \n1      activity_02  \n2      activity_11  \n3      activity_04  \n4      activity_02  \n...            ...  \n4295   activity_06  \n4296   activity_02  \n4297   activity_03  \n4298   activity_07  \n4299   activity_11  \n\n[4300 rows x 8 columns]"
     },
     "execution_count": null,
     "metadata": {},
     "output_type": "execute_result"
    }
   ],
   "source": [
    "prev_next_df"
   ]
  },
  {
   "cell_type": "code",
   "execution_count": null,
   "metadata": {},
   "outputs": [],
   "source": [
    "#\n",
    "# convert state feature into one hot\n",
    "onehot = pd.get_dummies(prev_next_df.prev_activity, prefix=\"prev\")\n",
    "prev_next_df[onehot.columns] = onehot\n",
    "prev_next_df.drop(\"prev_activity\", axis=1, inplace=True)\n",
    "\n",
    "# convert label categories into numerical format\n",
    "# (this is because for the moment TFF does not support multi-output models)\n",
    "prev_next_df[[\"next_activity\"]] = prev_next_df[[\"next_activity\"]].apply(\n",
    "    lambda x: x.cat.codes\n",
    ")\n",
    "prev_next_df = prev_next_df.astype(int)"
   ]
  },
  {
   "cell_type": "code",
   "execution_count": null,
   "metadata": {},
   "outputs": [
    {
     "data": {
      "text/plain": "client_id           int64\naction_index        int64\nowner               int64\nemployed            int64\nage                 int64\nincome              int64\nnext_activity       int64\nprev_activity_01    int64\nprev_activity_02    int64\nprev_activity_03    int64\nprev_activity_04    int64\nprev_activity_05    int64\nprev_activity_06    int64\nprev_activity_07    int64\nprev_activity_08    int64\nprev_activity_09    int64\nprev_activity_10    int64\nprev_activity_11    int64\ndtype: object"
     },
     "execution_count": null,
     "metadata": {},
     "output_type": "execute_result"
    }
   ],
   "source": [
    "prev_next_df.dtypes"
   ]
  },
  {
   "cell_type": "code",
   "execution_count": null,
   "metadata": {},
   "outputs": [],
   "source": []
  },
  {
   "cell_type": "code",
   "execution_count": null,
   "metadata": {},
   "outputs": [
    {
     "data": {
      "text/html": "<div>\n<style scoped>\n    .dataframe tbody tr th:only-of-type {\n        vertical-align: middle;\n    }\n\n    .dataframe tbody tr th {\n        vertical-align: top;\n    }\n\n    .dataframe thead th {\n        text-align: right;\n    }\n</style>\n<table border=\"1\" class=\"dataframe\">\n  <thead>\n    <tr style=\"text-align: right;\">\n      <th></th>\n      <th>client_id</th>\n      <th>action_index</th>\n      <th>owner</th>\n      <th>employed</th>\n      <th>age</th>\n      <th>income</th>\n      <th>next_activity</th>\n      <th>prev_activity_01</th>\n      <th>prev_activity_02</th>\n      <th>prev_activity_03</th>\n      <th>prev_activity_04</th>\n      <th>prev_activity_05</th>\n      <th>prev_activity_06</th>\n      <th>prev_activity_07</th>\n      <th>prev_activity_08</th>\n      <th>prev_activity_09</th>\n      <th>prev_activity_10</th>\n      <th>prev_activity_11</th>\n    </tr>\n  </thead>\n  <tbody>\n    <tr>\n      <th>0</th>\n      <td>0</td>\n      <td>0</td>\n      <td>1</td>\n      <td>1</td>\n      <td>1</td>\n      <td>2</td>\n      <td>3</td>\n      <td>0</td>\n      <td>0</td>\n      <td>0</td>\n      <td>0</td>\n      <td>0</td>\n      <td>0</td>\n      <td>0</td>\n      <td>0</td>\n      <td>1</td>\n      <td>0</td>\n      <td>0</td>\n    </tr>\n    <tr>\n      <th>1</th>\n      <td>0</td>\n      <td>1</td>\n      <td>1</td>\n      <td>1</td>\n      <td>1</td>\n      <td>2</td>\n      <td>1</td>\n      <td>0</td>\n      <td>0</td>\n      <td>0</td>\n      <td>1</td>\n      <td>0</td>\n      <td>0</td>\n      <td>0</td>\n      <td>0</td>\n      <td>0</td>\n      <td>0</td>\n      <td>0</td>\n    </tr>\n    <tr>\n      <th>2</th>\n      <td>0</td>\n      <td>2</td>\n      <td>1</td>\n      <td>1</td>\n      <td>1</td>\n      <td>2</td>\n      <td>10</td>\n      <td>0</td>\n      <td>1</td>\n      <td>0</td>\n      <td>0</td>\n      <td>0</td>\n      <td>0</td>\n      <td>0</td>\n      <td>0</td>\n      <td>0</td>\n      <td>0</td>\n      <td>0</td>\n    </tr>\n    <tr>\n      <th>3</th>\n      <td>1</td>\n      <td>0</td>\n      <td>1</td>\n      <td>1</td>\n      <td>3</td>\n      <td>2</td>\n      <td>3</td>\n      <td>0</td>\n      <td>0</td>\n      <td>0</td>\n      <td>0</td>\n      <td>0</td>\n      <td>0</td>\n      <td>0</td>\n      <td>0</td>\n      <td>1</td>\n      <td>0</td>\n      <td>0</td>\n    </tr>\n    <tr>\n      <th>4</th>\n      <td>1</td>\n      <td>1</td>\n      <td>1</td>\n      <td>1</td>\n      <td>3</td>\n      <td>2</td>\n      <td>1</td>\n      <td>0</td>\n      <td>0</td>\n      <td>0</td>\n      <td>1</td>\n      <td>0</td>\n      <td>0</td>\n      <td>0</td>\n      <td>0</td>\n      <td>0</td>\n      <td>0</td>\n      <td>0</td>\n    </tr>\n    <tr>\n      <th>...</th>\n      <td>...</td>\n      <td>...</td>\n      <td>...</td>\n      <td>...</td>\n      <td>...</td>\n      <td>...</td>\n      <td>...</td>\n      <td>...</td>\n      <td>...</td>\n      <td>...</td>\n      <td>...</td>\n      <td>...</td>\n      <td>...</td>\n      <td>...</td>\n      <td>...</td>\n      <td>...</td>\n      <td>...</td>\n      <td>...</td>\n    </tr>\n    <tr>\n      <th>4295</th>\n      <td>999</td>\n      <td>0</td>\n      <td>1</td>\n      <td>1</td>\n      <td>2</td>\n      <td>1</td>\n      <td>5</td>\n      <td>0</td>\n      <td>0</td>\n      <td>0</td>\n      <td>0</td>\n      <td>0</td>\n      <td>0</td>\n      <td>0</td>\n      <td>0</td>\n      <td>0</td>\n      <td>1</td>\n      <td>0</td>\n    </tr>\n    <tr>\n      <th>4296</th>\n      <td>999</td>\n      <td>1</td>\n      <td>1</td>\n      <td>1</td>\n      <td>2</td>\n      <td>1</td>\n      <td>1</td>\n      <td>0</td>\n      <td>0</td>\n      <td>0</td>\n      <td>0</td>\n      <td>0</td>\n      <td>1</td>\n      <td>0</td>\n      <td>0</td>\n      <td>0</td>\n      <td>0</td>\n      <td>0</td>\n    </tr>\n    <tr>\n      <th>4297</th>\n      <td>999</td>\n      <td>2</td>\n      <td>1</td>\n      <td>1</td>\n      <td>2</td>\n      <td>1</td>\n      <td>2</td>\n      <td>0</td>\n      <td>1</td>\n      <td>0</td>\n      <td>0</td>\n      <td>0</td>\n      <td>0</td>\n      <td>0</td>\n      <td>0</td>\n      <td>0</td>\n      <td>0</td>\n      <td>0</td>\n    </tr>\n    <tr>\n      <th>4298</th>\n      <td>999</td>\n      <td>3</td>\n      <td>1</td>\n      <td>1</td>\n      <td>2</td>\n      <td>1</td>\n      <td>6</td>\n      <td>0</td>\n      <td>0</td>\n      <td>1</td>\n      <td>0</td>\n      <td>0</td>\n      <td>0</td>\n      <td>0</td>\n      <td>0</td>\n      <td>0</td>\n      <td>0</td>\n      <td>0</td>\n    </tr>\n    <tr>\n      <th>4299</th>\n      <td>999</td>\n      <td>4</td>\n      <td>1</td>\n      <td>1</td>\n      <td>2</td>\n      <td>1</td>\n      <td>10</td>\n      <td>0</td>\n      <td>0</td>\n      <td>0</td>\n      <td>0</td>\n      <td>0</td>\n      <td>0</td>\n      <td>1</td>\n      <td>0</td>\n      <td>0</td>\n      <td>0</td>\n      <td>0</td>\n    </tr>\n  </tbody>\n</table>\n<p>4300 rows × 18 columns</p>\n</div>",
      "text/plain": "      client_id  action_index  owner  employed  age  income  next_activity  \\\n0             0             0      1         1    1       2              3   \n1             0             1      1         1    1       2              1   \n2             0             2      1         1    1       2             10   \n3             1             0      1         1    3       2              3   \n4             1             1      1         1    3       2              1   \n...         ...           ...    ...       ...  ...     ...            ...   \n4295        999             0      1         1    2       1              5   \n4296        999             1      1         1    2       1              1   \n4297        999             2      1         1    2       1              2   \n4298        999             3      1         1    2       1              6   \n4299        999             4      1         1    2       1             10   \n\n      prev_activity_01  prev_activity_02  prev_activity_03  prev_activity_04  \\\n0                    0                 0                 0                 0   \n1                    0                 0                 0                 1   \n2                    0                 1                 0                 0   \n3                    0                 0                 0                 0   \n4                    0                 0                 0                 1   \n...                ...               ...               ...               ...   \n4295                 0                 0                 0                 0   \n4296                 0                 0                 0                 0   \n4297                 0                 1                 0                 0   \n4298                 0                 0                 1                 0   \n4299                 0                 0                 0                 0   \n\n      prev_activity_05  prev_activity_06  prev_activity_07  prev_activity_08  \\\n0                    0                 0                 0                 0   \n1                    0                 0                 0                 0   \n2                    0                 0                 0                 0   \n3                    0                 0                 0                 0   \n4                    0                 0                 0                 0   \n...                ...               ...               ...               ...   \n4295                 0                 0                 0                 0   \n4296                 0                 1                 0                 0   \n4297                 0                 0                 0                 0   \n4298                 0                 0                 0                 0   \n4299                 0                 0                 1                 0   \n\n      prev_activity_09  prev_activity_10  prev_activity_11  \n0                    1                 0                 0  \n1                    0                 0                 0  \n2                    0                 0                 0  \n3                    1                 0                 0  \n4                    0                 0                 0  \n...                ...               ...               ...  \n4295                 0                 1                 0  \n4296                 0                 0                 0  \n4297                 0                 0                 0  \n4298                 0                 0                 0  \n4299                 0                 0                 0  \n\n[4300 rows x 18 columns]"
     },
     "execution_count": null,
     "metadata": {},
     "output_type": "execute_result"
    }
   ],
   "source": [
    "prev_next_df"
   ]
  },
  {
   "cell_type": "code",
   "execution_count": null,
   "metadata": {},
   "outputs": [
    {
     "data": {
      "text/html": "<div>\n<style scoped>\n    .dataframe tbody tr th:only-of-type {\n        vertical-align: middle;\n    }\n\n    .dataframe tbody tr th {\n        vertical-align: top;\n    }\n\n    .dataframe thead th {\n        text-align: right;\n    }\n</style>\n<table border=\"1\" class=\"dataframe\">\n  <thead>\n    <tr style=\"text-align: right;\">\n      <th></th>\n      <th>client_id</th>\n      <th>x</th>\n      <th>y</th>\n    </tr>\n  </thead>\n  <tbody>\n    <tr>\n      <th>0</th>\n      <td>0</td>\n      <td>[0, 1, 1, 1, 2, 0, 0, 0, 0, 0, 0, 0, 0, 1, 0, 0]</td>\n      <td>3</td>\n    </tr>\n    <tr>\n      <th>1</th>\n      <td>0</td>\n      <td>[1, 1, 1, 1, 2, 0, 0, 0, 1, 0, 0, 0, 0, 0, 0, 0]</td>\n      <td>1</td>\n    </tr>\n    <tr>\n      <th>2</th>\n      <td>0</td>\n      <td>[2, 1, 1, 1, 2, 0, 1, 0, 0, 0, 0, 0, 0, 0, 0, 0]</td>\n      <td>10</td>\n    </tr>\n    <tr>\n      <th>3</th>\n      <td>1</td>\n      <td>[0, 1, 1, 3, 2, 0, 0, 0, 0, 0, 0, 0, 0, 1, 0, 0]</td>\n      <td>3</td>\n    </tr>\n    <tr>\n      <th>4</th>\n      <td>1</td>\n      <td>[1, 1, 1, 3, 2, 0, 0, 0, 1, 0, 0, 0, 0, 0, 0, 0]</td>\n      <td>1</td>\n    </tr>\n    <tr>\n      <th>...</th>\n      <td>...</td>\n      <td>...</td>\n      <td>...</td>\n    </tr>\n    <tr>\n      <th>4295</th>\n      <td>999</td>\n      <td>[0, 1, 1, 2, 1, 0, 0, 0, 0, 0, 0, 0, 0, 0, 1, 0]</td>\n      <td>5</td>\n    </tr>\n    <tr>\n      <th>4296</th>\n      <td>999</td>\n      <td>[1, 1, 1, 2, 1, 0, 0, 0, 0, 0, 1, 0, 0, 0, 0, 0]</td>\n      <td>1</td>\n    </tr>\n    <tr>\n      <th>4297</th>\n      <td>999</td>\n      <td>[2, 1, 1, 2, 1, 0, 1, 0, 0, 0, 0, 0, 0, 0, 0, 0]</td>\n      <td>2</td>\n    </tr>\n    <tr>\n      <th>4298</th>\n      <td>999</td>\n      <td>[3, 1, 1, 2, 1, 0, 0, 1, 0, 0, 0, 0, 0, 0, 0, 0]</td>\n      <td>6</td>\n    </tr>\n    <tr>\n      <th>4299</th>\n      <td>999</td>\n      <td>[4, 1, 1, 2, 1, 0, 0, 0, 0, 0, 0, 1, 0, 0, 0, 0]</td>\n      <td>10</td>\n    </tr>\n  </tbody>\n</table>\n<p>4300 rows × 3 columns</p>\n</div>",
      "text/plain": "      client_id                                                 x   y\n0             0  [0, 1, 1, 1, 2, 0, 0, 0, 0, 0, 0, 0, 0, 1, 0, 0]   3\n1             0  [1, 1, 1, 1, 2, 0, 0, 0, 1, 0, 0, 0, 0, 0, 0, 0]   1\n2             0  [2, 1, 1, 1, 2, 0, 1, 0, 0, 0, 0, 0, 0, 0, 0, 0]  10\n3             1  [0, 1, 1, 3, 2, 0, 0, 0, 0, 0, 0, 0, 0, 1, 0, 0]   3\n4             1  [1, 1, 1, 3, 2, 0, 0, 0, 1, 0, 0, 0, 0, 0, 0, 0]   1\n...         ...                                               ...  ..\n4295        999  [0, 1, 1, 2, 1, 0, 0, 0, 0, 0, 0, 0, 0, 0, 1, 0]   5\n4296        999  [1, 1, 1, 2, 1, 0, 0, 0, 0, 0, 1, 0, 0, 0, 0, 0]   1\n4297        999  [2, 1, 1, 2, 1, 0, 1, 0, 0, 0, 0, 0, 0, 0, 0, 0]   2\n4298        999  [3, 1, 1, 2, 1, 0, 0, 1, 0, 0, 0, 0, 0, 0, 0, 0]   6\n4299        999  [4, 1, 1, 2, 1, 0, 0, 0, 0, 0, 0, 1, 0, 0, 0, 0]  10\n\n[4300 rows x 3 columns]"
     },
     "execution_count": null,
     "metadata": {},
     "output_type": "execute_result"
    }
   ],
   "source": [
    "#\n",
    "# We need to convert the data into untidy nested format for TFF\n",
    "# so that x is a vector and y is a scalar\n",
    "cxy_df = pd.DataFrame(columns=[\"client_id\", \"x\", \"y\"])\n",
    "cxy_df.client_id = prev_next_df.client_id\n",
    "cxy_df.x = prev_next_df[\n",
    "    prev_next_df.drop([\"client_id\", \"next_activity\"], axis=1).columns\n",
    "].apply(lambda row: row.to_numpy(), axis=1)\n",
    "cxy_df.y = prev_next_df.next_activity\n",
    "\n",
    "cxy_df"
   ]
  },
  {
   "cell_type": "markdown",
   "metadata": {},
   "source": [
    "## Save data for further use"
   ]
  },
  {
   "cell_type": "code",
   "execution_count": null,
   "metadata": {},
   "outputs": [],
   "source": [
    "feather.write_feather(cxy_df, \"data/preprocessed_data/data.f\")"
   ]
  },
  {
   "cell_type": "markdown",
   "metadata": {},
   "source": [
    "## Create function to convert df into tff ClientData\r\n",
    "\r\n",
    "Following this discussion: https://stackoverflow.com/questions/58965488/how-to-create-federated-dataset-from-a-csv-file"
   ]
  },
  {
   "cell_type": "code",
   "execution_count": null,
   "metadata": {},
   "outputs": [],
   "source": [
    "# export\n",
    "\n",
    "import collections\n",
    "\n",
    "\n",
    "def create_tff_client_data_from_df(\n",
    "    df,\n",
    "    client_id_col=\"client_id\",\n",
    "    sample_size=1.0,\n",
    "    shuffle_buffer=100,\n",
    "    batch_size=32,\n",
    "    num_epochs=20,\n",
    "    prefetch_buffer=100,\n",
    "    shuffle_seed=42,\n",
    "):\n",
    "    \"\"\"\n",
    "    turn pd dataframe into tff client dataset\n",
    "    \"\"\"\n",
    "\n",
    "    def batch_format_fn(element):\n",
    "        \"\"\"format data into OrderedDict where x denotes features and y labels for a client\"\"\"\n",
    "        return collections.OrderedDict(\n",
    "            x=element[\"x\"],  # tf.reshape(element[xcol], [-1, xshape]),\n",
    "            y=element[\"y\"],  # tf.reshape(element[ycol], [-1, yshape]),\n",
    "        )\n",
    "\n",
    "    def create_tf_dataset_for_client_fn(client_id):\n",
    "        \"\"\"a function which takes a client_id and returns a tf.data.Dataset for that client\"\"\"\n",
    "        client_data = df[df[client_id_col] == int(client_id)]\n",
    "        # create tf dataset\n",
    "        dataset = tf.data.Dataset.from_tensor_slices(client_data.to_dict(\"list\"))\n",
    "        # dataset = dataset.shuffle(shuffle_buffer).batch(num_batch).repeat(num_epochs)\n",
    "        dataset = (\n",
    "            dataset.repeat(num_epochs)\n",
    "            .shuffle(shuffle_buffer, seed=shuffle_seed)\n",
    "            .batch(batch_size)\n",
    "            .map(batch_format_fn)\n",
    "            .prefetch(prefetch_buffer)\n",
    "        )\n",
    "        return dataset\n",
    "\n",
    "    # split client id into train and test clients\n",
    "    client_ids = np.random.choice(\n",
    "        df[client_id_col].unique(),\n",
    "        size=int(sample_size * df[client_id_col].nunique()),\n",
    "    ).tolist()  # proportion of clients to use\n",
    "\n",
    "    # train data\n",
    "    def create_mapping(client_ids):\n",
    "        \"\"\"\n",
    "        create mapping of client ids\n",
    "        \"\"\"\n",
    "        mapping = {}\n",
    "        for client_id in client_ids:\n",
    "            mapping[client_id] = str(client_id)\n",
    "        return mapping\n",
    "\n",
    "    # create CustomClientData\n",
    "    # this is slight misuse of FilePerUserClientData but it works for now,\n",
    "    # and there seems not to be another solution for the moment :D\n",
    "    # (please suggest correction if there is a better solution)\n",
    "    tff_data = tff.simulation.datasets.FilePerUserClientData(\n",
    "        client_ids_to_files=create_mapping(client_ids),\n",
    "        dataset_fn=create_tf_dataset_for_client_fn,\n",
    "    )\n",
    "\n",
    "    return tff_data"
   ]
  },
  {
   "cell_type": "markdown",
   "metadata": {},
   "source": [
    "Test (well, at least it should not crash :D)"
   ]
  },
  {
   "cell_type": "code",
   "execution_count": null,
   "metadata": {},
   "outputs": [],
   "source": [
    "tff_data = create_tff_client_data_from_df(cxy_df)"
   ]
  },
  {
   "cell_type": "code",
   "execution_count": null,
   "metadata": {},
   "outputs": [
    {
     "data": {
      "text/plain": "<PrefetchDataset shapes: OrderedDict([(x, (None, 16)), (y, (None,))]), types: OrderedDict([(x, tf.int64), (y, tf.int32)])>"
     },
     "execution_count": null,
     "metadata": {},
     "output_type": "execute_result"
    }
   ],
   "source": [
    "tff_data.create_tf_dataset_for_client(tff_data.client_ids[0])"
   ]
  },
  {
   "cell_type": "code",
   "execution_count": null,
   "metadata": {},
   "outputs": [],
   "source": [
    "train_data, test_data = tff.simulation.datasets.ClientData.train_test_client_split(\n",
    "    tff_data, 500\n",
    ")"
   ]
  }
 ],
 "metadata": {
  "kernelspec": {
   "display_name": "Python 3.8 (fcp)",
   "language": "python",
   "name": "federated_customer_path"
  }
 },
 "nbformat": 4,
 "nbformat_minor": 4
}
