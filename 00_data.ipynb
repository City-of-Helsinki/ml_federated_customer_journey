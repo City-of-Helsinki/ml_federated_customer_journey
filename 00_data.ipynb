{
 "cells": [
  {
   "cell_type": "code",
   "execution_count": null,
   "metadata": {},
   "outputs": [],
   "source": [
    "# default_exp data\n",
    "%load_ext lab_black\n",
    "# nb_black if running in jupyter\n",
    "%load_ext autoreload\n",
    "# automatically reload python modules if there are changes in the\n",
    "%autoreload 2"
   ]
  },
  {
   "cell_type": "code",
   "execution_count": null,
   "metadata": {},
   "outputs": [],
   "source": [
    "# hide\n",
    "from nbdev.showdoc import *"
   ]
  },
  {
   "cell_type": "markdown",
   "metadata": {},
   "source": [
    "# Data\n",
    "\n",
    "> (Generate*), load and clean data\n",
    "\n",
    "*to avoid privacy issues we generate new data, similar to real client data we have. You may replace this with customer path data of your own. "
   ]
  },
  {
   "cell_type": "markdown",
   "metadata": {},
   "source": [
    "***input***: raw data\n",
    "\n",
    "***output***: clean and tidy dataset + toy dataset for testing\n",
    "\n",
    "***description:***\n",
    "\n",
    "In this notebook we generate customer path data, and transform it into tensorflow federated [ClientData](https://www.tensorflow.org/federated/tutorials/working_with_client_data) format.\n",
    "You can edit the code to load and clean and transform your own client path data."
   ]
  },
  {
   "cell_type": "markdown",
   "metadata": {},
   "source": [
    "## Import relevant modules"
   ]
  },
  {
   "cell_type": "code",
   "execution_count": null,
   "metadata": {},
   "outputs": [],
   "source": [
    "# tensorflow_federated_nightly also bring in tf_nightly, which\n",
    "# can causes a duplicate tensorboard install, leading to errors.\n",
    "#!pip uninstall --yes tensorboard tb-nightly\n",
    "\n",
    "#!pip install --quiet --upgrade tensorflow-federated-nightly\n",
    "#!pip install --quiet --upgrade nest-asyncio\n",
    "#!pip install --quiet --upgrade tb-nightly  # or tensorboard, but not both"
   ]
  },
  {
   "cell_type": "code",
   "execution_count": null,
   "metadata": {},
   "outputs": [],
   "source": [
    "# export\n",
    "import nest_asyncio\n",
    "\n",
    "nest_asyncio.apply()\n",
    "import numpy as np\n",
    "import pandas as pd\n",
    "import tensorflow as tf\n",
    "import tensorflow_federated as tff"
   ]
  },
  {
   "cell_type": "code",
   "execution_count": null,
   "metadata": {},
   "outputs": [],
   "source": [
    "from pyarrow import feather\n",
    "from scipy.special import softmax\n",
    "from seaborn import heatmap"
   ]
  },
  {
   "cell_type": "markdown",
   "metadata": {},
   "source": [
    "## Define notebook parameters\n",
    "\n",
    "Define input, output and additional parameters of this notebook, the information needed for running the notebook.\n",
    "In your own project, you can do this step in the later iterations of the work,\n",
    "when you know what is required.\n",
    "In this cell, only assing values to variables directly: `variable_name = value`.\n",
    "**Do not derive any information in this cell as it will mess up the parameterization** - do it in the cell below."
   ]
  },
  {
   "cell_type": "code",
   "execution_count": null,
   "metadata": {},
   "outputs": [],
   "source": [
    "# This cell is tagged with 'parameters'\n",
    "seed = 0\n",
    "\n",
    "SHUFFLE_BUFFER = 1000\n",
    "NUM_EPOCHS = 1\n",
    "\n",
    "n_customers = 10000  # number of customers (paths, assuming only one path per customer)\n",
    "max_path_length = 100  # limit simulation length"
   ]
  },
  {
   "cell_type": "markdown",
   "metadata": {},
   "source": [
    "Define any immediate derivative operations from the parameters:"
   ]
  },
  {
   "cell_type": "code",
   "execution_count": null,
   "metadata": {},
   "outputs": [],
   "source": [
    "# set seed\n",
    "np.random.seed(seed)\n",
    "# your code here"
   ]
  },
  {
   "cell_type": "markdown",
   "metadata": {},
   "source": [
    "## Generate data (from a Markov Process)\r\n",
    "\r\n",
    "Our decired data point is a transition between two customer sevice states for a customer.\r\n",
    "The feature is the previous service state, and the label is the following service state.\r\n",
    "\r\n",
    "We need to simulate imaginary customer paths trough markov process modelling.\r\n",
    "\r\n",
    "In our example we have one incoming state 'begin', and one absorbing state 'end'.\r\n",
    "The customer is in the beginning state before the first service event.\r\n",
    "In the between there are X service states that the customer can encounter.\r\n",
    "After the last observed service state the customer is moved to 'end' state. \r\n",
    "You are free to apply different assumptions.\r\n",
    "\r\n",
    "For example we could include information on the incoming state: is it the frontpage of the service, another website, social media etc. "
   ]
  },
  {
   "cell_type": "code",
   "execution_count": null,
   "metadata": {},
   "outputs": [],
   "source": [
    "# state space\n",
    "S = np.array(\n",
    "    [\n",
    "        \"begin\",\n",
    "        \"search\",\n",
    "        \"scrolling\",\n",
    "        \"view\",\n",
    "        \"chatbot\",\n",
    "        \"customer_service\",\n",
    "        \"shopping_cart\",\n",
    "        \"purchace\",\n",
    "        \"end\",\n",
    "    ]\n",
    ")\n",
    "n_states = S.shape[0]\n",
    "\n",
    "# transition matrix\n",
    "# the actual values of the transition matrix do not matter, so we just generate random.\n",
    "# the ML algorithms should be able to learn whatever relations\n",
    "P = np.hstack(\n",
    "    (\n",
    "        np.zeros((n_states, 1)),  # cannot reach begin state afterwards\n",
    "        np.array(\n",
    "            [\n",
    "                softmax(np.abs(np.sort(np.random.normal(size=n_states - 1))) + i)\n",
    "                for i in range(n_states)\n",
    "            ]\n",
    "        ),\n",
    "    )\n",
    ")  # randomly set other transition states\n",
    "P[-1, :] = 0\n",
    "P[-1, -1] = 1  # the absorbing state\n",
    "\n",
    "assert np.count_nonzero(P.sum(axis=0) - 1) == n_states"
   ]
  },
  {
   "cell_type": "code",
   "execution_count": null,
   "metadata": {},
   "outputs": [
    {
     "data": {
      "text/plain": "Text(0.5, 1.0, 'Transition matrix')"
     },
     "execution_count": null,
     "metadata": {},
     "output_type": "execute_result"
    },
    {
     "data": {
      "image/png": "[encoded data removed]",
      "text/plain": "<Figure size 432x288 with 2 Axes>"
     },
     "metadata": {
      "needs_background": "light"
     },
     "output_type": "display_data"
    }
   ],
   "source": [
    "g = heatmap(P, cmap=\"Greys\")\n",
    "g.set_yticklabels(S, rotation=0)\n",
    "g.set_xticklabels(S, rotation=30, va=\"top\", ha=\"right\")\n",
    "g.set_title(\"Transition matrix\")"
   ]
  },
  {
   "cell_type": "markdown",
   "metadata": {},
   "source": [
    "Then, let's generate some customer paths"
   ]
  },
  {
   "cell_type": "code",
   "execution_count": null,
   "metadata": {},
   "outputs": [
    {
     "data": {
      "text/html": "<div>\n<style scoped>\n    .dataframe tbody tr th:only-of-type {\n        vertical-align: middle;\n    }\n\n    .dataframe tbody tr th {\n        vertical-align: top;\n    }\n\n    .dataframe thead th {\n        text-align: right;\n    }\n</style>\n<table border=\"1\" class=\"dataframe\">\n  <thead>\n    <tr style=\"text-align: right;\">\n      <th></th>\n      <th>customer_id</th>\n      <th>transition_index</th>\n      <th>prev_state</th>\n      <th>next_state</th>\n    </tr>\n  </thead>\n  <tbody>\n    <tr>\n      <th>0</th>\n      <td>0</td>\n      <td>0</td>\n      <td>0</td>\n      <td>5</td>\n    </tr>\n    <tr>\n      <th>1</th>\n      <td>0</td>\n      <td>1</td>\n      <td>5</td>\n      <td>6</td>\n    </tr>\n    <tr>\n      <th>2</th>\n      <td>0</td>\n      <td>2</td>\n      <td>6</td>\n      <td>1</td>\n    </tr>\n    <tr>\n      <th>3</th>\n      <td>0</td>\n      <td>3</td>\n      <td>1</td>\n      <td>8</td>\n    </tr>\n    <tr>\n      <th>4</th>\n      <td>1</td>\n      <td>0</td>\n      <td>0</td>\n      <td>5</td>\n    </tr>\n  </tbody>\n</table>\n</div>",
      "text/plain": "  customer_id transition_index prev_state next_state\n0           0                0          0          5\n1           0                1          5          6\n2           0                2          6          1\n3           0                3          1          8\n4           1                0          0          5"
     },
     "execution_count": null,
     "metadata": {},
     "output_type": "execute_result"
    }
   ],
   "source": [
    "# dataframe to store the results\n",
    "df = pd.DataFrame(\n",
    "    columns={\n",
    "        \"customer_id\": int,\n",
    "        \"transition_index\": np.uint8,\n",
    "        \"prev_state\": np.uint8,\n",
    "        \"next_state\": np.uint8,\n",
    "    }\n",
    ")\n",
    "\n",
    "# loop through customers\n",
    "for customer_id in range(n_customers):\n",
    "    prev_state = 0\n",
    "    count = 0\n",
    "    while prev_state != n_states - 1 and count < max_path_length:\n",
    "        # select new state according to weights in transition matrix\n",
    "        next_state = np.random.choice(np.arange(n_states), p=P[prev_state, :].flatten())\n",
    "        df = df.append(\n",
    "            {\n",
    "                \"customer_id\": customer_id,\n",
    "                \"transition_index\": count,\n",
    "                \"prev_state\": prev_state,\n",
    "                \"next_state\": next_state,\n",
    "            },\n",
    "            ignore_index=True,\n",
    "        )\n",
    "        prev_state = next_state\n",
    "        count += 1\n",
    "\n",
    "# check out results\n",
    "df.head()"
   ]
  },
  {
   "cell_type": "markdown",
   "metadata": {},
   "source": [
    "## Visualize the data"
   ]
  },
  {
   "cell_type": "markdown",
   "metadata": {},
   "source": [
    "plot histogram of path lengths\r\n",
    "\r\n",
    "with one absorbing state, should decay exponentially: $y=e^{-ax+b}$"
   ]
  },
  {
   "cell_type": "code",
   "execution_count": null,
   "metadata": {},
   "outputs": [
    {
     "data": {
      "text/plain": "<AxesSubplot:>"
     },
     "execution_count": null,
     "metadata": {},
     "output_type": "execute_result"
    },
    {
     "data": {
      "image/png": "[encoded data removed]",
      "text/plain": "<Figure size 432x288 with 1 Axes>"
     },
     "metadata": {
      "needs_background": "light"
     },
     "output_type": "display_data"
    }
   ],
   "source": [
    "df.groupby(\"customer_id\").count()[\"prev_state\"].hist()"
   ]
  },
  {
   "cell_type": "markdown",
   "metadata": {},
   "source": [
    "## Convert dataframe state variables into one hot encoding"
   ]
  },
  {
   "cell_type": "code",
   "execution_count": null,
   "metadata": {},
   "outputs": [
    {
     "data": {
      "text/html": "<div>\n<style scoped>\n    .dataframe tbody tr th:only-of-type {\n        vertical-align: middle;\n    }\n\n    .dataframe tbody tr th {\n        vertical-align: top;\n    }\n\n    .dataframe thead th {\n        text-align: right;\n    }\n</style>\n<table border=\"1\" class=\"dataframe\">\n  <thead>\n    <tr style=\"text-align: right;\">\n      <th></th>\n      <th>customer_id</th>\n      <th>transition_index</th>\n      <th>prev_state</th>\n      <th>next_state</th>\n    </tr>\n  </thead>\n  <tbody>\n    <tr>\n      <th>0</th>\n      <td>0</td>\n      <td>0</td>\n      <td>0</td>\n      <td>5</td>\n    </tr>\n    <tr>\n      <th>1</th>\n      <td>0</td>\n      <td>1</td>\n      <td>5</td>\n      <td>6</td>\n    </tr>\n    <tr>\n      <th>2</th>\n      <td>0</td>\n      <td>2</td>\n      <td>6</td>\n      <td>1</td>\n    </tr>\n    <tr>\n      <th>3</th>\n      <td>0</td>\n      <td>3</td>\n      <td>1</td>\n      <td>8</td>\n    </tr>\n    <tr>\n      <th>4</th>\n      <td>1</td>\n      <td>0</td>\n      <td>0</td>\n      <td>5</td>\n    </tr>\n    <tr>\n      <th>...</th>\n      <td>...</td>\n      <td>...</td>\n      <td>...</td>\n      <td>...</td>\n    </tr>\n    <tr>\n      <th>45507</th>\n      <td>9999</td>\n      <td>27</td>\n      <td>6</td>\n      <td>5</td>\n    </tr>\n    <tr>\n      <th>45508</th>\n      <td>9999</td>\n      <td>28</td>\n      <td>5</td>\n      <td>6</td>\n    </tr>\n    <tr>\n      <th>45509</th>\n      <td>9999</td>\n      <td>29</td>\n      <td>6</td>\n      <td>2</td>\n    </tr>\n    <tr>\n      <th>45510</th>\n      <td>9999</td>\n      <td>30</td>\n      <td>2</td>\n      <td>1</td>\n    </tr>\n    <tr>\n      <th>45511</th>\n      <td>9999</td>\n      <td>31</td>\n      <td>1</td>\n      <td>8</td>\n    </tr>\n  </tbody>\n</table>\n<p>45512 rows × 4 columns</p>\n</div>",
      "text/plain": "      customer_id transition_index prev_state next_state\n0               0                0          0          5\n1               0                1          5          6\n2               0                2          6          1\n3               0                3          1          8\n4               1                0          0          5\n...           ...              ...        ...        ...\n45507        9999               27          6          5\n45508        9999               28          5          6\n45509        9999               29          6          2\n45510        9999               30          2          1\n45511        9999               31          1          8\n\n[45512 rows x 4 columns]"
     },
     "execution_count": null,
     "metadata": {},
     "output_type": "execute_result"
    }
   ],
   "source": [
    "df"
   ]
  },
  {
   "cell_type": "code",
   "execution_count": null,
   "metadata": {},
   "outputs": [
    {
     "data": {
      "text/html": "<div>\n<style scoped>\n    .dataframe tbody tr th:only-of-type {\n        vertical-align: middle;\n    }\n\n    .dataframe tbody tr th {\n        vertical-align: top;\n    }\n\n    .dataframe thead th {\n        text-align: right;\n    }\n</style>\n<table border=\"1\" class=\"dataframe\">\n  <thead>\n    <tr style=\"text-align: right;\">\n      <th></th>\n      <th>client_id</th>\n      <th>x</th>\n      <th>y</th>\n    </tr>\n  </thead>\n  <tbody>\n    <tr>\n      <th>0</th>\n      <td>0</td>\n      <td>[0, 1, 0, 0, 0, 0, 0, 0, 0]</td>\n      <td>5</td>\n    </tr>\n    <tr>\n      <th>1</th>\n      <td>0</td>\n      <td>[1, 0, 0, 0, 0, 0, 1, 0, 0]</td>\n      <td>6</td>\n    </tr>\n    <tr>\n      <th>2</th>\n      <td>0</td>\n      <td>[2, 0, 0, 0, 0, 0, 0, 1, 0]</td>\n      <td>1</td>\n    </tr>\n    <tr>\n      <th>3</th>\n      <td>0</td>\n      <td>[3, 0, 1, 0, 0, 0, 0, 0, 0]</td>\n      <td>8</td>\n    </tr>\n    <tr>\n      <th>4</th>\n      <td>1</td>\n      <td>[0, 1, 0, 0, 0, 0, 0, 0, 0]</td>\n      <td>5</td>\n    </tr>\n    <tr>\n      <th>...</th>\n      <td>...</td>\n      <td>...</td>\n      <td>...</td>\n    </tr>\n    <tr>\n      <th>45507</th>\n      <td>9999</td>\n      <td>[27, 0, 0, 0, 0, 0, 0, 1, 0]</td>\n      <td>5</td>\n    </tr>\n    <tr>\n      <th>45508</th>\n      <td>9999</td>\n      <td>[28, 0, 0, 0, 0, 0, 1, 0, 0]</td>\n      <td>6</td>\n    </tr>\n    <tr>\n      <th>45509</th>\n      <td>9999</td>\n      <td>[29, 0, 0, 0, 0, 0, 0, 1, 0]</td>\n      <td>2</td>\n    </tr>\n    <tr>\n      <th>45510</th>\n      <td>9999</td>\n      <td>[30, 0, 0, 1, 0, 0, 0, 0, 0]</td>\n      <td>1</td>\n    </tr>\n    <tr>\n      <th>45511</th>\n      <td>9999</td>\n      <td>[31, 0, 1, 0, 0, 0, 0, 0, 0]</td>\n      <td>8</td>\n    </tr>\n  </tbody>\n</table>\n<p>45512 rows × 3 columns</p>\n</div>",
      "text/plain": "      client_id                             x  y\n0             0   [0, 1, 0, 0, 0, 0, 0, 0, 0]  5\n1             0   [1, 0, 0, 0, 0, 0, 1, 0, 0]  6\n2             0   [2, 0, 0, 0, 0, 0, 0, 1, 0]  1\n3             0   [3, 0, 1, 0, 0, 0, 0, 0, 0]  8\n4             1   [0, 1, 0, 0, 0, 0, 0, 0, 0]  5\n...         ...                           ... ..\n45507      9999  [27, 0, 0, 0, 0, 0, 0, 1, 0]  5\n45508      9999  [28, 0, 0, 0, 0, 0, 1, 0, 0]  6\n45509      9999  [29, 0, 0, 0, 0, 0, 0, 1, 0]  2\n45510      9999  [30, 0, 0, 1, 0, 0, 0, 0, 0]  1\n45511      9999  [31, 0, 1, 0, 0, 0, 0, 0, 0]  8\n\n[45512 rows x 3 columns]"
     },
     "execution_count": null,
     "metadata": {},
     "output_type": "execute_result"
    }
   ],
   "source": [
    "onehot_df = pd.DataFrame(data=df.customer_id.values, columns={\"client_id\": int})\n",
    "\n",
    "# we have to make an untidy nested structure for tff ClientData\n",
    "onehot_df[\"x\"] = (\n",
    "    pd.concat(\n",
    "        (df[\"transition_index\"], pd.get_dummies(df.prev_state, prefix=\"x\")), axis=1\n",
    "    )\n",
    "    .astype(np.uint8)\n",
    "    .apply(lambda row: row.to_numpy(), axis=1)\n",
    ")  # we could also include more features, for example the order and date information of the meeting\n",
    "\n",
    "# ok but for labels we can not have one-hot :D\n",
    "# https://stackoverflow.com/questions/49083984/valueerror-can-not-squeeze-dim1-expected-a-dimension-of-1-got-3-for-sparse\n",
    "onehot_df[\n",
    "    \"y\"\n",
    "] = (\n",
    "    df.next_state\n",
    ")  # pd.get_dummies(df.next_state, prefix=\"y\").apply(lambda row: row.to_numpy(), axis=1)\n",
    "onehot_df"
   ]
  },
  {
   "cell_type": "markdown",
   "metadata": {},
   "source": [
    "## (or alternatively load your own data and turn it into the same format)"
   ]
  },
  {
   "cell_type": "code",
   "execution_count": null,
   "metadata": {},
   "outputs": [],
   "source": [
    "# your code here"
   ]
  },
  {
   "cell_type": "markdown",
   "metadata": {},
   "source": [
    "## Save data"
   ]
  },
  {
   "cell_type": "code",
   "execution_count": null,
   "metadata": {},
   "outputs": [],
   "source": [
    "feather.write_feather(onehot_df, \"data/preprocessed_data/data.f\")"
   ]
  },
  {
   "cell_type": "markdown",
   "metadata": {},
   "source": [
    "## Create function to convert df into tff ClientData\r\n",
    "\r\n",
    "Following this discussion: https://stackoverflow.com/questions/58965488/how-to-create-federated-dataset-from-a-csv-file\r\n",
    "\r\n",
    "> **NOTE**: here term 'customer' changes to 'client'"
   ]
  },
  {
   "cell_type": "code",
   "execution_count": null,
   "metadata": {},
   "outputs": [],
   "source": [
    "# export\n",
    "\n",
    "import collections\n",
    "\n",
    "\n",
    "def create_tff_client_data_from_df(\n",
    "    df,\n",
    "    client_id_col=\"client_id\",\n",
    "    sample_size=1.0,\n",
    "    shuffle_buffer=100,\n",
    "    batch_size=20,\n",
    "    num_epochs=5,\n",
    "    prefetch_buffer=10,\n",
    "):\n",
    "    \"\"\"\n",
    "    turn pd dataframe into tff client datasets (train and test datasets)\n",
    "    \"\"\"\n",
    "\n",
    "    def batch_format_fn(element):\n",
    "        \"\"\"should have only flat vectors, reshape if needed\"\"\"\n",
    "        return collections.OrderedDict(\n",
    "            x=element[\"x\"],  # tf.reshape(element[xcol], [-1, xshape]),\n",
    "            y=element[\"y\"],  # tf.reshape(element[ycol], [-1, yshape]),\n",
    "        )\n",
    "\n",
    "    def create_tf_dataset_for_client_fn(client_id):\n",
    "        \"\"\"a function which takes a client_id and returns a tf.data.Dataset for that client\"\"\"\n",
    "        client_data = df[df.client_id == int(client_id)]\n",
    "        dataset = tf.data.Dataset.from_tensor_slices(client_data.to_dict(\"list\"))\n",
    "        # dataset = dataset.shuffle(shuffle_buffer).batch(num_batch).repeat(num_epochs)\n",
    "        dataset = (\n",
    "            dataset.repeat(num_epochs)\n",
    "            .shuffle(shuffle_buffer, seed=1)\n",
    "            .batch(batch_size)\n",
    "            .map(batch_format_fn)\n",
    "            .prefetch(prefetch_buffer)\n",
    "        )\n",
    "        return dataset\n",
    "\n",
    "    # split client id into train and test clients\n",
    "    client_ids = np.random.choice(\n",
    "        df[client_id_col].unique(),\n",
    "        size=int(sample_size * df[client_id_col].nunique()),\n",
    "    ).tolist()  # proportion of clients to use\n",
    "\n",
    "    # train data\n",
    "    def create_mapping(client_ids):\n",
    "        mapping = {}\n",
    "        for client_id in client_ids:\n",
    "            mapping[client_id] = str(client_id)\n",
    "        return mapping\n",
    "\n",
    "    tff_data = tff.simulation.datasets.FilePerUserClientData(\n",
    "        client_ids_to_files=create_mapping(client_ids),\n",
    "        dataset_fn=create_tf_dataset_for_client_fn,\n",
    "    )\n",
    "\n",
    "    return tff_data"
   ]
  },
  {
   "cell_type": "code",
   "execution_count": null,
   "metadata": {},
   "outputs": [
    {
     "data": {
      "text/plain": "True"
     },
     "execution_count": null,
     "metadata": {},
     "output_type": "execute_result"
    }
   ],
   "source": [
    "isinstance({}, collections.abc.Mapping)"
   ]
  },
  {
   "cell_type": "markdown",
   "metadata": {},
   "source": [
    "Test:"
   ]
  },
  {
   "cell_type": "code",
   "execution_count": null,
   "metadata": {},
   "outputs": [],
   "source": [
    "tff_data = create_tff_client_data_from_df(onehot_df)"
   ]
  },
  {
   "cell_type": "code",
   "execution_count": null,
   "metadata": {},
   "outputs": [
    {
     "data": {
      "text/plain": "<PrefetchDataset shapes: OrderedDict([(x, (None, 9)), (y, (None,))]), types: OrderedDict([(x, tf.uint8), (y, tf.int32)])>"
     },
     "execution_count": null,
     "metadata": {},
     "output_type": "execute_result"
    }
   ],
   "source": [
    "tff_data.create_tf_dataset_for_client(tff_data.client_ids[0])"
   ]
  },
  {
   "cell_type": "code",
   "execution_count": null,
   "metadata": {},
   "outputs": [],
   "source": []
  },
  {
   "cell_type": "code",
   "execution_count": null,
   "metadata": {},
   "outputs": [],
   "source": [
    "# assert len(tff_data.client_ids) == onehot_df.client_id.unique().shape[0]"
   ]
  },
  {
   "cell_type": "code",
   "execution_count": null,
   "metadata": {},
   "outputs": [],
   "source": [
    "train_data, test_data = tff.simulation.datasets.ClientData.train_test_client_split(\n",
    "    tff_data, 500\n",
    ")\n",
    "# assert len(train_data.client_ids) == onehot_df.client_id.nunique() - 500\n",
    "# assert len(test_data.client_ids) == 500"
   ]
  }
 ],
 "metadata": {
  "kernelspec": {
   "display_name": "Python 3.8 (fcp)",
   "language": "python",
   "name": "federated_customer_path"
  }
 },
 "nbformat": 4,
 "nbformat_minor": 4
}
