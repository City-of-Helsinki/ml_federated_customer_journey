{
 "cells": [
  {
   "cell_type": "code",
   "execution_count": null,
   "metadata": {},
   "outputs": [],
   "source": [
    "# default_exp customclientdata\n",
    "%load_ext lab_black\n",
    "# nb_black if running in jupyter\n",
    "%load_ext autoreload\n",
    "# automatically reload python modules if there are changes in the\n",
    "%autoreload 2"
   ]
  },
  {
   "cell_type": "code",
   "execution_count": null,
   "metadata": {},
   "outputs": [],
   "source": [
    "# hide\n",
    "from nbdev.showdoc import *"
   ]
  },
  {
   "cell_type": "markdown",
   "metadata": {},
   "source": [
    "# CustomClientData\n",
    "\n",
    "> Create custom TFF ClientData from Pandas Dataframe"
   ]
  },
  {
   "cell_type": "markdown",
   "metadata": {},
   "source": [
    "***input***: none / raw data\n",
    "\n",
    "***output***: function for creating custom tff ClientData\n",
    "\n",
    "***description:***\n",
    "\n",
    "In this notebook we generate customer path data, and transform it into tensorflow federated [ClientData](https://www.tensorflow.org/federated/tutorials/working_with_client_data) format.\n",
    "You can edit the code to load and clean and transform your own client path data."
   ]
  },
  {
   "cell_type": "markdown",
   "metadata": {},
   "source": [
    "## Import relevant modules"
   ]
  },
  {
   "cell_type": "markdown",
   "metadata": {},
   "source": [
    "Uncomment the following cell to run with the newest version of tff"
   ]
  },
  {
   "cell_type": "code",
   "execution_count": null,
   "metadata": {},
   "outputs": [],
   "source": [
    "# tensorflow_federated_nightly also bring in tf_nightly, which\n",
    "# can causes a duplicate tensorboard install, leading to errors.\n",
    "#!pip uninstall --yes tensorboard tb-nightly\n",
    "\n",
    "#!pip install --quiet --upgrade tensorflow-federated-nightly\n",
    "#!pip install --quiet --upgrade nest-asyncio\n",
    "#!pip install --quiet --upgrade tb-nightly  # or tensorboard, but not both"
   ]
  },
  {
   "cell_type": "code",
   "execution_count": null,
   "metadata": {},
   "outputs": [
    {
     "name": "stderr",
     "output_type": "stream",
     "text": "2021-12-23 11:40:05.852008: I tensorflow/stream_executor/platform/default/dso_loader.cc:53] Successfully opened dynamic library libcudart.so.11.0\n"
    }
   ],
   "source": [
    "# export\n",
    "import nest_asyncio\n",
    "\n",
    "nest_asyncio.apply()\n",
    "import matplotlib.pyplot as plt\n",
    "import numpy as np\n",
    "import pandas as pd\n",
    "import tensorflow as tf\n",
    "import tensorflow_federated as tff"
   ]
  },
  {
   "cell_type": "code",
   "execution_count": null,
   "metadata": {},
   "outputs": [],
   "source": [
    "from pyarrow import feather\n",
    "from scipy.special import softmax"
   ]
  },
  {
   "cell_type": "markdown",
   "metadata": {},
   "source": [
    "## Define notebook parameters"
   ]
  },
  {
   "cell_type": "code",
   "execution_count": null,
   "metadata": {},
   "outputs": [],
   "source": [
    "# This cell is tagged with 'parameters' for papermill use\n",
    "seed = 0\n",
    "\n",
    "SHUFFLE_BUFFER = 100\n",
    "NUM_EPOCHS = 1\n",
    "BATCH_SIZE = 32\n",
    "\n",
    "n_customers = 10000  # number of customers (paths, assuming only one path per customer)\n",
    "max_path_length = 100  # limit simulation length"
   ]
  },
  {
   "cell_type": "markdown",
   "metadata": {},
   "source": [
    "Define any immediate derivative operations from the parameters:"
   ]
  },
  {
   "cell_type": "code",
   "execution_count": null,
   "metadata": {},
   "outputs": [],
   "source": [
    "# set seed\n",
    "np.random.seed(seed)\n",
    "tf.random.set_seed(seed)"
   ]
  },
  {
   "cell_type": "markdown",
   "metadata": {},
   "source": [
    "## (or alternatively load your own data and turn it into an applicable format)\r\n",
    "\r\n",
    "Try for example: https://cseweb.ucsd.edu/~jmcauley/datasets.html\r\n",
    "\r\n",
    "or https://archive.ics.uci.edu/ml/datasets/Entree+Chicago+Recommendation+Data"
   ]
  },
  {
   "cell_type": "code",
   "execution_count": null,
   "metadata": {},
   "outputs": [],
   "source": [
    "from pathlib import Path\n",
    "import requests, zipfile, io\n",
    "\n",
    "p = Path().cwd() / \"data\" / \"raw_data\"\n",
    "if not (p / \"customer-journey-unil-ch-datasets\").exists():  # check if already loaded\n",
    "    r = requests.get(\n",
    "        \"http://customer-journey.me/wp-content/uploads/2018/02/customer-journey-unil-ch-datasets.zip\"\n",
    "    )\n",
    "    z = zipfile.ZipFile(io.BytesIO(r.content))\n",
    "    z.extractall(p)"
   ]
  },
  {
   "cell_type": "code",
   "execution_count": null,
   "metadata": {},
   "outputs": [],
   "source": []
  },
  {
   "cell_type": "code",
   "execution_count": null,
   "metadata": {},
   "outputs": [
    {
     "data": {
      "text/html": "<div>\n<style scoped>\n    .dataframe tbody tr th:only-of-type {\n        vertical-align: middle;\n    }\n\n    .dataframe tbody tr th {\n        vertical-align: top;\n    }\n\n    .dataframe thead th {\n        text-align: right;\n    }\n</style>\n<table border=\"1\" class=\"dataframe\">\n  <thead>\n    <tr style=\"text-align: right;\">\n      <th></th>\n      <th>trace_id</th>\n      <th>activities</th>\n      <th>owner</th>\n      <th>employed</th>\n      <th>age</th>\n      <th>income</th>\n    </tr>\n  </thead>\n  <tbody>\n    <tr>\n      <th>0</th>\n      <td>0</td>\n      <td>activity_09</td>\n      <td>no</td>\n      <td>yes</td>\n      <td>20-39yo</td>\n      <td>high</td>\n    </tr>\n    <tr>\n      <th>1</th>\n      <td>0</td>\n      <td>activity_04</td>\n      <td>no</td>\n      <td>yes</td>\n      <td>20-39yo</td>\n      <td>high</td>\n    </tr>\n    <tr>\n      <th>2</th>\n      <td>0</td>\n      <td>activity_02</td>\n      <td>no</td>\n      <td>yes</td>\n      <td>20-39yo</td>\n      <td>high</td>\n    </tr>\n    <tr>\n      <th>3</th>\n      <td>1</td>\n      <td>activity_09</td>\n      <td>no</td>\n      <td>yes</td>\n      <td>60-79yo</td>\n      <td>high</td>\n    </tr>\n    <tr>\n      <th>4</th>\n      <td>1</td>\n      <td>activity_04</td>\n      <td>no</td>\n      <td>yes</td>\n      <td>60-79yo</td>\n      <td>high</td>\n    </tr>\n    <tr>\n      <th>...</th>\n      <td>...</td>\n      <td>...</td>\n      <td>...</td>\n      <td>...</td>\n      <td>...</td>\n      <td>...</td>\n    </tr>\n    <tr>\n      <th>4298</th>\n      <td>4994</td>\n      <td>activity_07</td>\n      <td>yes</td>\n      <td>no</td>\n      <td>40-59yo</td>\n      <td>middle</td>\n    </tr>\n    <tr>\n      <th>4299</th>\n      <td>4994</td>\n      <td>activity_08</td>\n      <td>yes</td>\n      <td>no</td>\n      <td>40-59yo</td>\n      <td>middle</td>\n    </tr>\n    <tr>\n      <th>4300</th>\n      <td>4994</td>\n      <td>activity_09</td>\n      <td>yes</td>\n      <td>no</td>\n      <td>40-59yo</td>\n      <td>middle</td>\n    </tr>\n    <tr>\n      <th>4301</th>\n      <td>4995</td>\n      <td>activity_10</td>\n      <td>yes</td>\n      <td>yes</td>\n      <td>60-79yo</td>\n      <td>middle</td>\n    </tr>\n    <tr>\n      <th>4302</th>\n      <td>4995</td>\n      <td>activity_06</td>\n      <td>yes</td>\n      <td>yes</td>\n      <td>60-79yo</td>\n      <td>middle</td>\n    </tr>\n  </tbody>\n</table>\n<p>21521 rows × 6 columns</p>\n</div>",
      "text/plain": "      trace_id   activities owner employed      age  income\n0            0  activity_09    no      yes  20-39yo    high\n1            0  activity_04    no      yes  20-39yo    high\n2            0  activity_02    no      yes  20-39yo    high\n3            1  activity_09    no      yes  60-79yo    high\n4            1  activity_04    no      yes  60-79yo    high\n...        ...          ...   ...      ...      ...     ...\n4298      4994  activity_07   yes       no  40-59yo  middle\n4299      4994  activity_08   yes       no  40-59yo  middle\n4300      4994  activity_09   yes       no  40-59yo  middle\n4301      4995  activity_10   yes      yes  60-79yo  middle\n4302      4995  activity_06   yes      yes  60-79yo  middle\n\n[21521 rows x 6 columns]"
     },
     "execution_count": null,
     "metadata": {},
     "output_type": "execute_result"
    }
   ],
   "source": [
    "filepaths = (\n",
    "    p\n",
    "    / \"customer-journey-unil-ch-datasets\"\n",
    "    / \"csv\"\n",
    "    / \"configuration6\"\n",
    "    / \"excluding-solution\"\n",
    ").glob(\"*.csv\")\n",
    "\n",
    "\n",
    "def read_csv_list_to_df(filepaths):\n",
    "    max_trace_id = 0\n",
    "    df_list = []\n",
    "    for f in filepaths:\n",
    "        df = pd.read_csv(f)\n",
    "        df.trace_id += max_trace_id  # user id count begins from 0 at each file\n",
    "        max_trace_id = df.trace_id.max()\n",
    "        df_list.append(df)\n",
    "\n",
    "    return pd.concat(df_list)\n",
    "\n",
    "\n",
    "df = read_csv_list_to_df(filepaths)\n",
    "df"
   ]
  },
  {
   "cell_type": "code",
   "execution_count": null,
   "metadata": {},
   "outputs": [
    {
     "data": {
      "text/plain": "trace_id      4996\nactivities      15\nowner            2\nemployed         2\nage              5\nincome           3\ndtype: int64"
     },
     "execution_count": null,
     "metadata": {},
     "output_type": "execute_result"
    }
   ],
   "source": [
    "df.nunique()"
   ]
  },
  {
   "cell_type": "code",
   "execution_count": null,
   "metadata": {},
   "outputs": [
    {
     "data": {
      "text/plain": "array(['activity_09', 'activity_04', 'activity_02', 'activity_10',\n       'activity_06', 'activity_03', 'activity_07', 'activity_08',\n       'activity_01', 'activity_05', 'noise_2', 'noise_0', 'noise_4',\n       'noise_3', 'noise_1'], dtype=object)"
     },
     "execution_count": null,
     "metadata": {},
     "output_type": "execute_result"
    }
   ],
   "source": [
    "df.activities.unique()"
   ]
  },
  {
   "cell_type": "code",
   "execution_count": null,
   "metadata": {},
   "outputs": [
    {
     "data": {
      "text/plain": "array(['20-39yo', '60-79yo', '0-19yo', '40-59yo', '80yo+'], dtype=object)"
     },
     "execution_count": null,
     "metadata": {},
     "output_type": "execute_result"
    }
   ],
   "source": [
    "df.age.unique()"
   ]
  },
  {
   "cell_type": "code",
   "execution_count": null,
   "metadata": {},
   "outputs": [
    {
     "data": {
      "text/plain": "array(['high', 'middle', 'low'], dtype=object)"
     },
     "execution_count": null,
     "metadata": {},
     "output_type": "execute_result"
    }
   ],
   "source": [
    "df.income.unique()"
   ]
  },
  {
   "cell_type": "code",
   "execution_count": null,
   "metadata": {},
   "outputs": [],
   "source": [
    "df.trace_id = df.trace_id.astype(\"int\")\n",
    "df.activities = df.activities.astype(\"category\")\n",
    "df.owner = df.owner.map(lambda x: 1 if \"yes\" else 0).astype(\"uint8\")\n",
    "df.employed = df.employed.map(lambda x: 1 if \"yes\" else 0).astype(\"uint8\")\n",
    "df.age = df.age.map(\n",
    "    {\"0-19yo\": 0, \"20-39yo\": 1, \"40-59yo\": 2, \"60-79yo\": 3, \"80yo+\": 4}\n",
    ").astype(\"uint8\")\n",
    "df.income = df.income.map({\"low\": 0, \"middle\": 1, \"high\": 2}).astype(\"uint8\")"
   ]
  },
  {
   "cell_type": "code",
   "execution_count": null,
   "metadata": {},
   "outputs": [
    {
     "data": {
      "text/html": "<div>\n<style scoped>\n    .dataframe tbody tr th:only-of-type {\n        vertical-align: middle;\n    }\n\n    .dataframe tbody tr th {\n        vertical-align: top;\n    }\n\n    .dataframe thead th {\n        text-align: right;\n    }\n</style>\n<table border=\"1\" class=\"dataframe\">\n  <thead>\n    <tr style=\"text-align: right;\">\n      <th></th>\n      <th>action_index</th>\n      <th>trace_id</th>\n      <th>activities</th>\n      <th>owner</th>\n      <th>employed</th>\n      <th>age</th>\n      <th>income</th>\n    </tr>\n  </thead>\n  <tbody>\n    <tr>\n      <th>0</th>\n      <td>0</td>\n      <td>0</td>\n      <td>activity_09</td>\n      <td>1</td>\n      <td>1</td>\n      <td>1</td>\n      <td>2</td>\n    </tr>\n    <tr>\n      <th>1</th>\n      <td>1</td>\n      <td>0</td>\n      <td>activity_04</td>\n      <td>1</td>\n      <td>1</td>\n      <td>1</td>\n      <td>2</td>\n    </tr>\n    <tr>\n      <th>2</th>\n      <td>2</td>\n      <td>0</td>\n      <td>activity_02</td>\n      <td>1</td>\n      <td>1</td>\n      <td>1</td>\n      <td>2</td>\n    </tr>\n    <tr>\n      <th>3</th>\n      <td>3</td>\n      <td>1</td>\n      <td>activity_09</td>\n      <td>1</td>\n      <td>1</td>\n      <td>3</td>\n      <td>2</td>\n    </tr>\n    <tr>\n      <th>4</th>\n      <td>4</td>\n      <td>1</td>\n      <td>activity_04</td>\n      <td>1</td>\n      <td>1</td>\n      <td>3</td>\n      <td>2</td>\n    </tr>\n    <tr>\n      <th>...</th>\n      <td>...</td>\n      <td>...</td>\n      <td>...</td>\n      <td>...</td>\n      <td>...</td>\n      <td>...</td>\n      <td>...</td>\n    </tr>\n    <tr>\n      <th>21516</th>\n      <td>4298</td>\n      <td>4994</td>\n      <td>activity_07</td>\n      <td>1</td>\n      <td>1</td>\n      <td>2</td>\n      <td>1</td>\n    </tr>\n    <tr>\n      <th>21517</th>\n      <td>4299</td>\n      <td>4994</td>\n      <td>activity_08</td>\n      <td>1</td>\n      <td>1</td>\n      <td>2</td>\n      <td>1</td>\n    </tr>\n    <tr>\n      <th>21518</th>\n      <td>4300</td>\n      <td>4994</td>\n      <td>activity_09</td>\n      <td>1</td>\n      <td>1</td>\n      <td>2</td>\n      <td>1</td>\n    </tr>\n    <tr>\n      <th>21519</th>\n      <td>4301</td>\n      <td>4995</td>\n      <td>activity_10</td>\n      <td>1</td>\n      <td>1</td>\n      <td>3</td>\n      <td>1</td>\n    </tr>\n    <tr>\n      <th>21520</th>\n      <td>4302</td>\n      <td>4995</td>\n      <td>activity_06</td>\n      <td>1</td>\n      <td>1</td>\n      <td>3</td>\n      <td>1</td>\n    </tr>\n  </tbody>\n</table>\n<p>21521 rows × 7 columns</p>\n</div>",
      "text/plain": "       action_index  trace_id   activities  owner  employed  age  income\n0                 0         0  activity_09      1         1    1       2\n1                 1         0  activity_04      1         1    1       2\n2                 2         0  activity_02      1         1    1       2\n3                 3         1  activity_09      1         1    3       2\n4                 4         1  activity_04      1         1    3       2\n...             ...       ...          ...    ...       ...  ...     ...\n21516          4298      4994  activity_07      1         1    2       1\n21517          4299      4994  activity_08      1         1    2       1\n21518          4300      4994  activity_09      1         1    2       1\n21519          4301      4995  activity_10      1         1    3       1\n21520          4302      4995  activity_06      1         1    3       1\n\n[21521 rows x 7 columns]"
     },
     "execution_count": null,
     "metadata": {},
     "output_type": "execute_result"
    }
   ],
   "source": [
    "df.reset_index(inplace=True)\n",
    "df.rename({\"index\": \"action_index\"}, axis=1, inplace=True)\n",
    "df"
   ]
  },
  {
   "cell_type": "code",
   "execution_count": null,
   "metadata": {},
   "outputs": [],
   "source": [
    "#\n",
    "# we need extra category for denoting that client activity has stopped\n",
    "activity_ended = f\"activity_{df.activities.nunique()+1:d}\"\n",
    "df.activities = df.activities.cat.add_categories([activity_ended])"
   ]
  },
  {
   "cell_type": "markdown",
   "metadata": {},
   "source": [
    "- order of events for customer\r\n",
    "\r\n",
    "- next and previous event"
   ]
  },
  {
   "cell_type": "code",
   "execution_count": null,
   "metadata": {},
   "outputs": [
    {
     "data": {
      "text/plain": "Index(['action_index', 'trace_id', 'activities', 'owner', 'employed', 'age',\n       'income'],\n      dtype='object')"
     },
     "execution_count": null,
     "metadata": {},
     "output_type": "execute_result"
    }
   ],
   "source": [
    "df.columns"
   ]
  },
  {
   "cell_type": "code",
   "execution_count": null,
   "metadata": {},
   "outputs": [],
   "source": [
    "prev_next_df = pd.DataFrame(\n",
    "    columns={\n",
    "        \"client_id\": int,\n",
    "        \"action_index\": \"uint8\",\n",
    "        \"prev_activity\": \"category\",\n",
    "        \"owner\": \"uint8\",\n",
    "        \"employed\": \"uint8\",\n",
    "        \"age\": \"uint8\",\n",
    "        \"income\": \"uint8\",\n",
    "        \"next_activity\": \"category\",\n",
    "    }\n",
    ")\n",
    "\n",
    "for client_id, client_data in df.groupby(\"trace_id\"):\n",
    "    client_data.action_index -= client_data.action_index.min()\n",
    "    client_data.action_index = client_data.action_index.astype(int)\n",
    "    # rename columns\n",
    "    buf_df = client_data.rename(\n",
    "        {\"trace_id\": \"client_id\", \"activities\": \"prev_activity\"}, axis=1\n",
    "    )\n",
    "\n",
    "    # add new column for next activity\n",
    "    buf_df[\"next_activity\"] = client_data.activities.shift(\n",
    "        periods=-1, fill_value=activity_ended\n",
    "    ).astype(\"category\")\n",
    "    # add buffer to prev_next_df\n",
    "    prev_next_df = pd.concat((prev_next_df, buf_df), axis=0, ignore_index=True)"
   ]
  },
  {
   "cell_type": "code",
   "execution_count": null,
   "metadata": {},
   "outputs": [
    {
     "data": {
      "text/html": "<div>\n<style scoped>\n    .dataframe tbody tr th:only-of-type {\n        vertical-align: middle;\n    }\n\n    .dataframe tbody tr th {\n        vertical-align: top;\n    }\n\n    .dataframe thead th {\n        text-align: right;\n    }\n</style>\n<table border=\"1\" class=\"dataframe\">\n  <thead>\n    <tr style=\"text-align: right;\">\n      <th></th>\n      <th>client_id</th>\n      <th>action_index</th>\n      <th>prev_activity</th>\n      <th>owner</th>\n      <th>employed</th>\n      <th>age</th>\n      <th>income</th>\n      <th>next_activity</th>\n    </tr>\n  </thead>\n  <tbody>\n    <tr>\n      <th>0</th>\n      <td>0</td>\n      <td>0</td>\n      <td>activity_09</td>\n      <td>1</td>\n      <td>1</td>\n      <td>1</td>\n      <td>2</td>\n      <td>activity_04</td>\n    </tr>\n    <tr>\n      <th>1</th>\n      <td>0</td>\n      <td>1</td>\n      <td>activity_04</td>\n      <td>1</td>\n      <td>1</td>\n      <td>1</td>\n      <td>2</td>\n      <td>activity_02</td>\n    </tr>\n    <tr>\n      <th>2</th>\n      <td>0</td>\n      <td>2</td>\n      <td>activity_02</td>\n      <td>1</td>\n      <td>1</td>\n      <td>1</td>\n      <td>2</td>\n      <td>activity_16</td>\n    </tr>\n    <tr>\n      <th>3</th>\n      <td>1</td>\n      <td>0</td>\n      <td>activity_09</td>\n      <td>1</td>\n      <td>1</td>\n      <td>3</td>\n      <td>2</td>\n      <td>activity_04</td>\n    </tr>\n    <tr>\n      <th>4</th>\n      <td>1</td>\n      <td>1</td>\n      <td>activity_04</td>\n      <td>1</td>\n      <td>1</td>\n      <td>3</td>\n      <td>2</td>\n      <td>activity_02</td>\n    </tr>\n    <tr>\n      <th>...</th>\n      <td>...</td>\n      <td>...</td>\n      <td>...</td>\n      <td>...</td>\n      <td>...</td>\n      <td>...</td>\n      <td>...</td>\n      <td>...</td>\n    </tr>\n    <tr>\n      <th>21516</th>\n      <td>4994</td>\n      <td>2</td>\n      <td>activity_07</td>\n      <td>1</td>\n      <td>1</td>\n      <td>2</td>\n      <td>1</td>\n      <td>activity_08</td>\n    </tr>\n    <tr>\n      <th>21517</th>\n      <td>4994</td>\n      <td>3</td>\n      <td>activity_08</td>\n      <td>1</td>\n      <td>1</td>\n      <td>2</td>\n      <td>1</td>\n      <td>activity_09</td>\n    </tr>\n    <tr>\n      <th>21518</th>\n      <td>4994</td>\n      <td>4</td>\n      <td>activity_09</td>\n      <td>1</td>\n      <td>1</td>\n      <td>2</td>\n      <td>1</td>\n      <td>activity_16</td>\n    </tr>\n    <tr>\n      <th>21519</th>\n      <td>4995</td>\n      <td>0</td>\n      <td>activity_10</td>\n      <td>1</td>\n      <td>1</td>\n      <td>3</td>\n      <td>1</td>\n      <td>activity_06</td>\n    </tr>\n    <tr>\n      <th>21520</th>\n      <td>4995</td>\n      <td>1</td>\n      <td>activity_06</td>\n      <td>1</td>\n      <td>1</td>\n      <td>3</td>\n      <td>1</td>\n      <td>activity_16</td>\n    </tr>\n  </tbody>\n</table>\n<p>21521 rows × 8 columns</p>\n</div>",
      "text/plain": "      client_id action_index prev_activity owner employed age income  \\\n0             0            0   activity_09     1        1   1      2   \n1             0            1   activity_04     1        1   1      2   \n2             0            2   activity_02     1        1   1      2   \n3             1            0   activity_09     1        1   3      2   \n4             1            1   activity_04     1        1   3      2   \n...         ...          ...           ...   ...      ...  ..    ...   \n21516      4994            2   activity_07     1        1   2      1   \n21517      4994            3   activity_08     1        1   2      1   \n21518      4994            4   activity_09     1        1   2      1   \n21519      4995            0   activity_10     1        1   3      1   \n21520      4995            1   activity_06     1        1   3      1   \n\n      next_activity  \n0       activity_04  \n1       activity_02  \n2       activity_16  \n3       activity_04  \n4       activity_02  \n...             ...  \n21516   activity_08  \n21517   activity_09  \n21518   activity_16  \n21519   activity_06  \n21520   activity_16  \n\n[21521 rows x 8 columns]"
     },
     "execution_count": null,
     "metadata": {},
     "output_type": "execute_result"
    }
   ],
   "source": [
    "prev_next_df"
   ]
  },
  {
   "cell_type": "code",
   "execution_count": null,
   "metadata": {},
   "outputs": [
    {
     "name": "stdout",
     "output_type": "stream",
     "text": "Int64Index([999, 1998, 2997, 3996], dtype='int64', name='client_id')\nInt64Index([ 4295,  4296,  4297,  4298,  4299,  4300,  4301,  4302,  8592,\n             8593,  8594,  8595,  8596,  8597,  8598,  8599,  8600,  8601,\n            12881, 12882, 12883, 12884, 12885, 12886, 12887, 12888, 17213,\n            17214, 17215, 17216, 17217, 17218, 17219],\n           dtype='int64')\n"
    }
   ],
   "source": [
    "# drop outliers\n",
    "grouped_by_action_count = prev_next_df.groupby(\"client_id\").max()[[\"action_index\"]]\n",
    "clients_to_be_dropped = (\n",
    "    grouped_by_action_count[grouped_by_action_count.action_index > 10].dropna().index\n",
    ")\n",
    "# clients_to_be_dropped.to_numpy()\n",
    "print(clients_to_be_dropped)\n",
    "outliers = (\n",
    "    prev_next_df.apply(\n",
    "        lambda row: 1 if row.client_id in clients_to_be_dropped else np.nan, axis=1\n",
    "    )\n",
    "    .dropna()\n",
    "    .index\n",
    ")\n",
    "print(outliers)\n",
    "prev_next_df.drop(outliers, inplace=True)"
   ]
  },
  {
   "cell_type": "code",
   "execution_count": null,
   "metadata": {},
   "outputs": [],
   "source": [
    "prev_next_df.dropna(inplace=True)"
   ]
  },
  {
   "cell_type": "code",
   "execution_count": null,
   "metadata": {},
   "outputs": [
    {
     "data": {
      "text/plain": "client_id        4992\naction_index       11\nprev_activity      15\nowner               1\nemployed            1\nage                 5\nincome              3\nnext_activity      16\ndtype: int64"
     },
     "execution_count": null,
     "metadata": {},
     "output_type": "execute_result"
    }
   ],
   "source": [
    "prev_next_df.nunique()"
   ]
  },
  {
   "cell_type": "markdown",
   "metadata": {},
   "source": [
    "Drop uninformative columns that only contain one value"
   ]
  },
  {
   "cell_type": "code",
   "execution_count": null,
   "metadata": {},
   "outputs": [],
   "source": [
    "prev_next_df.drop([\"owner\", \"employed\"], axis=1, inplace=True)"
   ]
  },
  {
   "cell_type": "code",
   "execution_count": null,
   "metadata": {},
   "outputs": [],
   "source": [
    "prev_next_df[\"action_count\"] = prev_next_df.action_index + 1"
   ]
  },
  {
   "cell_type": "code",
   "execution_count": null,
   "metadata": {},
   "outputs": [
    {
     "data": {
      "image/png": "[encoded data removed]",
      "text/plain": "<Figure size 1080x288 with 3 Axes>"
     },
     "metadata": {
      "needs_background": "light"
     },
     "output_type": "display_data"
    }
   ],
   "source": [
    "fig, axs = plt.subplots(1, 3, figsize=(15, 4))\n",
    "\n",
    "for ax, column in zip(axs, [\"action_count\", \"age\", \"income\"]):\n",
    "    prev_next_df.groupby(\"client_id\").max()[column].hist(ax=ax, density=True)\n",
    "    ax.set_ylabel(\"%\")\n",
    "    ax.set_xlabel(column)\n",
    "    ax.spines[\"top\"].set_visible(False)\n",
    "    ax.spines[\"right\"].set_visible(False)\n",
    "    ax.grid(False)\n",
    "    [ax.axhline(tick, color=\"white\", linewidth=2) for tick in ax.get_yticks()]\n",
    "\n",
    "plt.savefig(\"results/client_histograms.png\")"
   ]
  },
  {
   "cell_type": "markdown",
   "metadata": {},
   "source": [
    "Ok, so most clients have from 3 to 5 actions (including end of journey). considering background information, all groups are well represented."
   ]
  },
  {
   "cell_type": "code",
   "execution_count": null,
   "metadata": {},
   "outputs": [],
   "source": [
    "#\n",
    "# convert state feature into one hot\n",
    "onehot = pd.get_dummies(prev_next_df.prev_activity, prefix=\"prev\")\n",
    "prev_next_df[onehot.columns] = onehot\n",
    "prev_next_df.drop(\"prev_activity\", axis=1, inplace=True)\n",
    "\n",
    "# convert label categories into numerical format\n",
    "# (this is because for the moment TFF does not support multi-output models)\n",
    "prev_next_df[[\"next_activity\"]] = prev_next_df[[\"next_activity\"]].apply(\n",
    "    lambda x: x.cat.codes\n",
    ")\n",
    "prev_next_df = prev_next_df.astype(int)"
   ]
  },
  {
   "cell_type": "code",
   "execution_count": null,
   "metadata": {},
   "outputs": [
    {
     "data": {
      "text/plain": "client_id           int64\naction_index        int64\nage                 int64\nincome              int64\nnext_activity       int64\naction_count        int64\nprev_activity_01    int64\nprev_activity_02    int64\nprev_activity_03    int64\nprev_activity_04    int64\nprev_activity_05    int64\nprev_activity_06    int64\nprev_activity_07    int64\nprev_activity_08    int64\nprev_activity_09    int64\nprev_activity_10    int64\nprev_noise_0        int64\nprev_noise_1        int64\nprev_noise_2        int64\nprev_noise_3        int64\nprev_noise_4        int64\nprev_activity_16    int64\ndtype: object"
     },
     "execution_count": null,
     "metadata": {},
     "output_type": "execute_result"
    }
   ],
   "source": [
    "prev_next_df.dtypes"
   ]
  },
  {
   "cell_type": "code",
   "execution_count": null,
   "metadata": {},
   "outputs": [
    {
     "data": {
      "text/html": "<div>\n<style scoped>\n    .dataframe tbody tr th:only-of-type {\n        vertical-align: middle;\n    }\n\n    .dataframe tbody tr th {\n        vertical-align: top;\n    }\n\n    .dataframe thead th {\n        text-align: right;\n    }\n</style>\n<table border=\"1\" class=\"dataframe\">\n  <thead>\n    <tr style=\"text-align: right;\">\n      <th></th>\n      <th>client_id</th>\n      <th>action_index</th>\n      <th>age</th>\n      <th>income</th>\n      <th>next_activity</th>\n      <th>action_count</th>\n      <th>prev_activity_01</th>\n      <th>prev_activity_02</th>\n      <th>prev_activity_03</th>\n      <th>prev_activity_04</th>\n      <th>...</th>\n      <th>prev_activity_07</th>\n      <th>prev_activity_08</th>\n      <th>prev_activity_09</th>\n      <th>prev_activity_10</th>\n      <th>prev_noise_0</th>\n      <th>prev_noise_1</th>\n      <th>prev_noise_2</th>\n      <th>prev_noise_3</th>\n      <th>prev_noise_4</th>\n      <th>prev_activity_16</th>\n    </tr>\n  </thead>\n  <tbody>\n    <tr>\n      <th>0</th>\n      <td>0</td>\n      <td>0</td>\n      <td>1</td>\n      <td>2</td>\n      <td>3</td>\n      <td>1</td>\n      <td>0</td>\n      <td>0</td>\n      <td>0</td>\n      <td>0</td>\n      <td>...</td>\n      <td>0</td>\n      <td>0</td>\n      <td>1</td>\n      <td>0</td>\n      <td>0</td>\n      <td>0</td>\n      <td>0</td>\n      <td>0</td>\n      <td>0</td>\n      <td>0</td>\n    </tr>\n    <tr>\n      <th>1</th>\n      <td>0</td>\n      <td>1</td>\n      <td>1</td>\n      <td>2</td>\n      <td>1</td>\n      <td>2</td>\n      <td>0</td>\n      <td>0</td>\n      <td>0</td>\n      <td>1</td>\n      <td>...</td>\n      <td>0</td>\n      <td>0</td>\n      <td>0</td>\n      <td>0</td>\n      <td>0</td>\n      <td>0</td>\n      <td>0</td>\n      <td>0</td>\n      <td>0</td>\n      <td>0</td>\n    </tr>\n    <tr>\n      <th>2</th>\n      <td>0</td>\n      <td>2</td>\n      <td>1</td>\n      <td>2</td>\n      <td>15</td>\n      <td>3</td>\n      <td>0</td>\n      <td>1</td>\n      <td>0</td>\n      <td>0</td>\n      <td>...</td>\n      <td>0</td>\n      <td>0</td>\n      <td>0</td>\n      <td>0</td>\n      <td>0</td>\n      <td>0</td>\n      <td>0</td>\n      <td>0</td>\n      <td>0</td>\n      <td>0</td>\n    </tr>\n    <tr>\n      <th>3</th>\n      <td>1</td>\n      <td>0</td>\n      <td>3</td>\n      <td>2</td>\n      <td>3</td>\n      <td>1</td>\n      <td>0</td>\n      <td>0</td>\n      <td>0</td>\n      <td>0</td>\n      <td>...</td>\n      <td>0</td>\n      <td>0</td>\n      <td>1</td>\n      <td>0</td>\n      <td>0</td>\n      <td>0</td>\n      <td>0</td>\n      <td>0</td>\n      <td>0</td>\n      <td>0</td>\n    </tr>\n    <tr>\n      <th>4</th>\n      <td>1</td>\n      <td>1</td>\n      <td>3</td>\n      <td>2</td>\n      <td>1</td>\n      <td>2</td>\n      <td>0</td>\n      <td>0</td>\n      <td>0</td>\n      <td>1</td>\n      <td>...</td>\n      <td>0</td>\n      <td>0</td>\n      <td>0</td>\n      <td>0</td>\n      <td>0</td>\n      <td>0</td>\n      <td>0</td>\n      <td>0</td>\n      <td>0</td>\n      <td>0</td>\n    </tr>\n    <tr>\n      <th>...</th>\n      <td>...</td>\n      <td>...</td>\n      <td>...</td>\n      <td>...</td>\n      <td>...</td>\n      <td>...</td>\n      <td>...</td>\n      <td>...</td>\n      <td>...</td>\n      <td>...</td>\n      <td>...</td>\n      <td>...</td>\n      <td>...</td>\n      <td>...</td>\n      <td>...</td>\n      <td>...</td>\n      <td>...</td>\n      <td>...</td>\n      <td>...</td>\n      <td>...</td>\n      <td>...</td>\n    </tr>\n    <tr>\n      <th>21516</th>\n      <td>4994</td>\n      <td>2</td>\n      <td>2</td>\n      <td>1</td>\n      <td>7</td>\n      <td>3</td>\n      <td>0</td>\n      <td>0</td>\n      <td>0</td>\n      <td>0</td>\n      <td>...</td>\n      <td>1</td>\n      <td>0</td>\n      <td>0</td>\n      <td>0</td>\n      <td>0</td>\n      <td>0</td>\n      <td>0</td>\n      <td>0</td>\n      <td>0</td>\n      <td>0</td>\n    </tr>\n    <tr>\n      <th>21517</th>\n      <td>4994</td>\n      <td>3</td>\n      <td>2</td>\n      <td>1</td>\n      <td>8</td>\n      <td>4</td>\n      <td>0</td>\n      <td>0</td>\n      <td>0</td>\n      <td>0</td>\n      <td>...</td>\n      <td>0</td>\n      <td>1</td>\n      <td>0</td>\n      <td>0</td>\n      <td>0</td>\n      <td>0</td>\n      <td>0</td>\n      <td>0</td>\n      <td>0</td>\n      <td>0</td>\n    </tr>\n    <tr>\n      <th>21518</th>\n      <td>4994</td>\n      <td>4</td>\n      <td>2</td>\n      <td>1</td>\n      <td>15</td>\n      <td>5</td>\n      <td>0</td>\n      <td>0</td>\n      <td>0</td>\n      <td>0</td>\n      <td>...</td>\n      <td>0</td>\n      <td>0</td>\n      <td>1</td>\n      <td>0</td>\n      <td>0</td>\n      <td>0</td>\n      <td>0</td>\n      <td>0</td>\n      <td>0</td>\n      <td>0</td>\n    </tr>\n    <tr>\n      <th>21519</th>\n      <td>4995</td>\n      <td>0</td>\n      <td>3</td>\n      <td>1</td>\n      <td>5</td>\n      <td>1</td>\n      <td>0</td>\n      <td>0</td>\n      <td>0</td>\n      <td>0</td>\n      <td>...</td>\n      <td>0</td>\n      <td>0</td>\n      <td>0</td>\n      <td>1</td>\n      <td>0</td>\n      <td>0</td>\n      <td>0</td>\n      <td>0</td>\n      <td>0</td>\n      <td>0</td>\n    </tr>\n    <tr>\n      <th>21520</th>\n      <td>4995</td>\n      <td>1</td>\n      <td>3</td>\n      <td>1</td>\n      <td>15</td>\n      <td>2</td>\n      <td>0</td>\n      <td>0</td>\n      <td>0</td>\n      <td>0</td>\n      <td>...</td>\n      <td>0</td>\n      <td>0</td>\n      <td>0</td>\n      <td>0</td>\n      <td>0</td>\n      <td>0</td>\n      <td>0</td>\n      <td>0</td>\n      <td>0</td>\n      <td>0</td>\n    </tr>\n  </tbody>\n</table>\n<p>21488 rows × 22 columns</p>\n</div>",
      "text/plain": "       client_id  action_index  age  income  next_activity  action_count  \\\n0              0             0    1       2              3             1   \n1              0             1    1       2              1             2   \n2              0             2    1       2             15             3   \n3              1             0    3       2              3             1   \n4              1             1    3       2              1             2   \n...          ...           ...  ...     ...            ...           ...   \n21516       4994             2    2       1              7             3   \n21517       4994             3    2       1              8             4   \n21518       4994             4    2       1             15             5   \n21519       4995             0    3       1              5             1   \n21520       4995             1    3       1             15             2   \n\n       prev_activity_01  prev_activity_02  prev_activity_03  prev_activity_04  \\\n0                     0                 0                 0                 0   \n1                     0                 0                 0                 1   \n2                     0                 1                 0                 0   \n3                     0                 0                 0                 0   \n4                     0                 0                 0                 1   \n...                 ...               ...               ...               ...   \n21516                 0                 0                 0                 0   \n21517                 0                 0                 0                 0   \n21518                 0                 0                 0                 0   \n21519                 0                 0                 0                 0   \n21520                 0                 0                 0                 0   \n\n       ...  prev_activity_07  prev_activity_08  prev_activity_09  \\\n0      ...                 0                 0                 1   \n1      ...                 0                 0                 0   \n2      ...                 0                 0                 0   \n3      ...                 0                 0                 1   \n4      ...                 0                 0                 0   \n...    ...               ...               ...               ...   \n21516  ...                 1                 0                 0   \n21517  ...                 0                 1                 0   \n21518  ...                 0                 0                 1   \n21519  ...                 0                 0                 0   \n21520  ...                 0                 0                 0   \n\n       prev_activity_10  prev_noise_0  prev_noise_1  prev_noise_2  \\\n0                     0             0             0             0   \n1                     0             0             0             0   \n2                     0             0             0             0   \n3                     0             0             0             0   \n4                     0             0             0             0   \n...                 ...           ...           ...           ...   \n21516                 0             0             0             0   \n21517                 0             0             0             0   \n21518                 0             0             0             0   \n21519                 1             0             0             0   \n21520                 0             0             0             0   \n\n       prev_noise_3  prev_noise_4  prev_activity_16  \n0                 0             0                 0  \n1                 0             0                 0  \n2                 0             0                 0  \n3                 0             0                 0  \n4                 0             0                 0  \n...             ...           ...               ...  \n21516             0             0                 0  \n21517             0             0                 0  \n21518             0             0                 0  \n21519             0             0                 0  \n21520             0             0                 0  \n\n[21488 rows x 22 columns]"
     },
     "execution_count": null,
     "metadata": {},
     "output_type": "execute_result"
    }
   ],
   "source": [
    "prev_next_df"
   ]
  },
  {
   "cell_type": "code",
   "execution_count": null,
   "metadata": {},
   "outputs": [
    {
     "data": {
      "text/html": "<div>\n<style scoped>\n    .dataframe tbody tr th:only-of-type {\n        vertical-align: middle;\n    }\n\n    .dataframe tbody tr th {\n        vertical-align: top;\n    }\n\n    .dataframe thead th {\n        text-align: right;\n    }\n</style>\n<table border=\"1\" class=\"dataframe\">\n  <thead>\n    <tr style=\"text-align: right;\">\n      <th></th>\n      <th>client_id</th>\n      <th>x</th>\n      <th>y</th>\n    </tr>\n  </thead>\n  <tbody>\n    <tr>\n      <th>0</th>\n      <td>0</td>\n      <td>[0, 1, 2, 1, 0, 0, 0, 0, 0, 0, 0, 0, 1, 0, 0, ...</td>\n      <td>3</td>\n    </tr>\n    <tr>\n      <th>1</th>\n      <td>0</td>\n      <td>[1, 1, 2, 2, 0, 0, 0, 1, 0, 0, 0, 0, 0, 0, 0, ...</td>\n      <td>1</td>\n    </tr>\n    <tr>\n      <th>2</th>\n      <td>0</td>\n      <td>[2, 1, 2, 3, 0, 1, 0, 0, 0, 0, 0, 0, 0, 0, 0, ...</td>\n      <td>15</td>\n    </tr>\n    <tr>\n      <th>3</th>\n      <td>1</td>\n      <td>[0, 3, 2, 1, 0, 0, 0, 0, 0, 0, 0, 0, 1, 0, 0, ...</td>\n      <td>3</td>\n    </tr>\n    <tr>\n      <th>4</th>\n      <td>1</td>\n      <td>[1, 3, 2, 2, 0, 0, 0, 1, 0, 0, 0, 0, 0, 0, 0, ...</td>\n      <td>1</td>\n    </tr>\n    <tr>\n      <th>...</th>\n      <td>...</td>\n      <td>...</td>\n      <td>...</td>\n    </tr>\n    <tr>\n      <th>21516</th>\n      <td>4994</td>\n      <td>[2, 2, 1, 3, 0, 0, 0, 0, 0, 0, 1, 0, 0, 0, 0, ...</td>\n      <td>7</td>\n    </tr>\n    <tr>\n      <th>21517</th>\n      <td>4994</td>\n      <td>[3, 2, 1, 4, 0, 0, 0, 0, 0, 0, 0, 1, 0, 0, 0, ...</td>\n      <td>8</td>\n    </tr>\n    <tr>\n      <th>21518</th>\n      <td>4994</td>\n      <td>[4, 2, 1, 5, 0, 0, 0, 0, 0, 0, 0, 0, 1, 0, 0, ...</td>\n      <td>15</td>\n    </tr>\n    <tr>\n      <th>21519</th>\n      <td>4995</td>\n      <td>[0, 3, 1, 1, 0, 0, 0, 0, 0, 0, 0, 0, 0, 1, 0, ...</td>\n      <td>5</td>\n    </tr>\n    <tr>\n      <th>21520</th>\n      <td>4995</td>\n      <td>[1, 3, 1, 2, 0, 0, 0, 0, 0, 1, 0, 0, 0, 0, 0, ...</td>\n      <td>15</td>\n    </tr>\n  </tbody>\n</table>\n<p>21488 rows × 3 columns</p>\n</div>",
      "text/plain": "       client_id                                                  x   y\n0              0  [0, 1, 2, 1, 0, 0, 0, 0, 0, 0, 0, 0, 1, 0, 0, ...   3\n1              0  [1, 1, 2, 2, 0, 0, 0, 1, 0, 0, 0, 0, 0, 0, 0, ...   1\n2              0  [2, 1, 2, 3, 0, 1, 0, 0, 0, 0, 0, 0, 0, 0, 0, ...  15\n3              1  [0, 3, 2, 1, 0, 0, 0, 0, 0, 0, 0, 0, 1, 0, 0, ...   3\n4              1  [1, 3, 2, 2, 0, 0, 0, 1, 0, 0, 0, 0, 0, 0, 0, ...   1\n...          ...                                                ...  ..\n21516       4994  [2, 2, 1, 3, 0, 0, 0, 0, 0, 0, 1, 0, 0, 0, 0, ...   7\n21517       4994  [3, 2, 1, 4, 0, 0, 0, 0, 0, 0, 0, 1, 0, 0, 0, ...   8\n21518       4994  [4, 2, 1, 5, 0, 0, 0, 0, 0, 0, 0, 0, 1, 0, 0, ...  15\n21519       4995  [0, 3, 1, 1, 0, 0, 0, 0, 0, 0, 0, 0, 0, 1, 0, ...   5\n21520       4995  [1, 3, 1, 2, 0, 0, 0, 0, 0, 1, 0, 0, 0, 0, 0, ...  15\n\n[21488 rows x 3 columns]"
     },
     "execution_count": null,
     "metadata": {},
     "output_type": "execute_result"
    }
   ],
   "source": [
    "#\n",
    "# We need to convert the data into untidy nested format for TFF\n",
    "# so that x is a vector and y is a scalar\n",
    "cxy_df = pd.DataFrame(columns=[\"client_id\", \"x\", \"y\"])\n",
    "cxy_df.client_id = prev_next_df.client_id\n",
    "cxy_df.x = prev_next_df[\n",
    "    prev_next_df.drop([\"client_id\", \"next_activity\"], axis=1).columns\n",
    "].apply(lambda row: row.to_numpy(), axis=1)\n",
    "cxy_df.y = prev_next_df.next_activity\n",
    "\n",
    "cxy_df"
   ]
  },
  {
   "cell_type": "markdown",
   "metadata": {},
   "source": [
    "## Save data for further use"
   ]
  },
  {
   "cell_type": "code",
   "execution_count": null,
   "metadata": {},
   "outputs": [],
   "source": [
    "feather.write_feather(cxy_df, \"data/preprocessed_data/data.f\")"
   ]
  },
  {
   "cell_type": "markdown",
   "metadata": {},
   "source": [
    "## Create function to convert df into tff ClientData\r\n",
    "\r\n",
    "Following this discussion: https://stackoverflow.com/questions/58965488/how-to-create-federated-dataset-from-a-csv-file"
   ]
  },
  {
   "cell_type": "code",
   "execution_count": null,
   "metadata": {},
   "outputs": [],
   "source": [
    "# export\n",
    "\n",
    "import collections\n",
    "\n",
    "\n",
    "def create_tff_client_data_from_df(\n",
    "    df,\n",
    "    client_id_col=\"client_id\",\n",
    "    sample_size=1.0,\n",
    "    shuffle_buffer=100,\n",
    "    batch_size=32,\n",
    "    num_epochs=20,\n",
    "    prefetch_buffer=100,\n",
    "    shuffle_seed=42,\n",
    "):\n",
    "    \"\"\"\n",
    "    turn pd dataframe into tff client dataset\n",
    "    \"\"\"\n",
    "\n",
    "    def batch_format_fn(element):\n",
    "        \"\"\"format data into OrderedDict where x denotes features and y labels for a client\"\"\"\n",
    "        return collections.OrderedDict(\n",
    "            x=element[\"x\"],  # tf.reshape(element[xcol], [-1, xshape]),\n",
    "            y=element[\"y\"],  # tf.reshape(element[ycol], [-1, yshape]),\n",
    "        )\n",
    "\n",
    "    def create_tf_dataset_for_client_fn(client_id):\n",
    "        \"\"\"a function which takes a client_id and returns a tf.data.Dataset for that client\"\"\"\n",
    "        client_data = df[df[client_id_col] == int(client_id)]\n",
    "        # create tf dataset\n",
    "        dataset = tf.data.Dataset.from_tensor_slices(client_data.to_dict(\"list\"))\n",
    "        # dataset = dataset.shuffle(shuffle_buffer).batch(num_batch).repeat(num_epochs)\n",
    "        dataset = (\n",
    "            dataset.repeat(num_epochs)\n",
    "            .shuffle(shuffle_buffer, seed=shuffle_seed)\n",
    "            .batch(batch_size)\n",
    "            .map(batch_format_fn)\n",
    "            .prefetch(prefetch_buffer)\n",
    "        )\n",
    "        return dataset\n",
    "\n",
    "    # split client id into train and test clients\n",
    "    client_ids = np.random.choice(\n",
    "        df[client_id_col].unique(),\n",
    "        size=int(sample_size * df[client_id_col].nunique()),\n",
    "    ).tolist()  # proportion of clients to use\n",
    "\n",
    "    # train data\n",
    "    def create_mapping(client_ids):\n",
    "        \"\"\"\n",
    "        create mapping of client ids\n",
    "        \"\"\"\n",
    "        mapping = {}\n",
    "        for client_id in client_ids:\n",
    "            mapping[client_id] = str(client_id)\n",
    "        return mapping\n",
    "\n",
    "    # create CustomClientData\n",
    "    # this is slight misuse of FilePerUserClientData but it works for now,\n",
    "    # and there seems not to be another solution for the moment :D\n",
    "    # (please suggest correction if there is a better solution)\n",
    "    tff_data = tff.simulation.datasets.FilePerUserClientData(\n",
    "        client_ids_to_files=create_mapping(client_ids),\n",
    "        dataset_fn=create_tf_dataset_for_client_fn,\n",
    "    )\n",
    "\n",
    "    return tff_data"
   ]
  },
  {
   "cell_type": "markdown",
   "metadata": {},
   "source": [
    "Test (well, at least it should not crash)"
   ]
  },
  {
   "cell_type": "code",
   "execution_count": null,
   "metadata": {},
   "outputs": [
    {
     "name": "stderr",
     "output_type": "stream",
     "text": "2021-12-23 11:41:39.523696: I tensorflow/stream_executor/platform/default/dso_loader.cc:53] Successfully opened dynamic library libcuda.so.1\n2021-12-23 11:41:39.783200: E tensorflow/stream_executor/cuda/cuda_driver.cc:328] failed call to cuInit: CUDA_ERROR_NO_DEVICE: no CUDA-capable device is detected\n2021-12-23 11:41:39.783253: I tensorflow/stream_executor/cuda/cuda_diagnostics.cc:156] kernel driver does not appear to be running on this host (ml-nuutti-1a-m-mem): /proc/driver/nvidia/version does not exist\n2021-12-23 11:41:39.785298: I tensorflow/core/platform/cpu_feature_guard.cc:142] This TensorFlow binary is optimized with oneAPI Deep Neural Network Library (oneDNN) to use the following CPU instructions in performance-critical operations:  AVX2 AVX512F FMA\nTo enable them in other operations, rebuild TensorFlow with the appropriate compiler flags.\n"
    }
   ],
   "source": [
    "tff_data = create_tff_client_data_from_df(cxy_df)"
   ]
  },
  {
   "cell_type": "code",
   "execution_count": null,
   "metadata": {},
   "outputs": [
    {
     "data": {
      "text/plain": "<PrefetchDataset shapes: OrderedDict([(x, (None, 20)), (y, (None,))]), types: OrderedDict([(x, tf.int64), (y, tf.int32)])>"
     },
     "execution_count": null,
     "metadata": {},
     "output_type": "execute_result"
    }
   ],
   "source": [
    "tff_data.create_tf_dataset_for_client(tff_data.client_ids[0])"
   ]
  },
  {
   "cell_type": "code",
   "execution_count": null,
   "metadata": {},
   "outputs": [
    {
     "name": "stderr",
     "output_type": "stream",
     "text": "2021-12-23 11:41:39.966178: I tensorflow/compiler/mlir/mlir_graph_optimization_pass.cc:176] None of the MLIR Optimization Passes are enabled (registered 2)\n2021-12-23 11:41:39.966611: I tensorflow/core/platform/profile_utils/cpu_utils.cc:114] CPU Frequency: 2095190000 Hz\n"
    }
   ],
   "source": [
    "train_data, test_data = tff.simulation.datasets.ClientData.train_test_client_split(\n",
    "    tff_data, 500\n",
    ")"
   ]
  }
 ],
 "metadata": {
  "kernelspec": {
   "display_name": "fcj38",
   "language": "python",
   "name": "fcj38"
  }
 },
 "nbformat": 4,
 "nbformat_minor": 4
}
