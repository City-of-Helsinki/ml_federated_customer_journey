{
 "cells": [
  {
   "cell_type": "code",
   "execution_count": null,
   "metadata": {},
   "outputs": [],
   "source": [
    "# default_exp model\n",
    "%load_ext lab_black\n",
    "# nb_black if running in jupyter\n",
    "%load_ext autoreload\n",
    "# automatically reload python modules if there are changes in the\n",
    "%autoreload 2"
   ]
  },
  {
   "cell_type": "code",
   "execution_count": null,
   "metadata": {},
   "outputs": [],
   "source": [
    "# hide\n",
    "from nbdev.showdoc import *"
   ]
  },
  {
   "cell_type": "markdown",
   "metadata": {},
   "source": [
    "# FederatedCustomerPath\r\n",
    "\r\n",
    "> Learning to predict customer journey with a federated setup"
   ]
  },
  {
   "cell_type": "markdown",
   "metadata": {},
   "source": [
    "***input***: data + tff conversion function from CustomClientData\n",
    "\n",
    "***output***: TFF model for predicting customer paths \n",
    "\n",
    "***description:***\n",
    "\n",
    "Simulating federated learning on predicting customer paths."
   ]
  },
  {
   "cell_type": "markdown",
   "metadata": {},
   "source": [
    "## Import relevant modules"
   ]
  },
  {
   "cell_type": "code",
   "execution_count": null,
   "metadata": {},
   "outputs": [],
   "source": [
    "#\n",
    "# uncomment this cell to get the newest version of tff\n",
    "\n",
    "# tensorflow_federated_nightly also bring in tf_nightly, which\n",
    "# can causes a duplicate tensorboard install, leading to errors.\n",
    "#!pip uninstall --yes tensorboard tb-nightly\n",
    "\n",
    "#!pip install --quiet --upgrade tensorflow-federated-nightly\n",
    "#!pip install --quiet --upgrade nest-asyncio\n",
    "#!pip install --quiet --upgrade tb-nightly  # or tensorboard, but not both"
   ]
  },
  {
   "cell_type": "code",
   "execution_count": null,
   "metadata": {},
   "outputs": [],
   "source": [
    "import numpy as np\n",
    "\n",
    "import nest_asyncio\n",
    "\n",
    "nest_asyncio.apply()"
   ]
  },
  {
   "cell_type": "markdown",
   "metadata": {},
   "source": [
    "You can also view the results using tensorboard:"
   ]
  },
  {
   "cell_type": "code",
   "execution_count": null,
   "metadata": {},
   "outputs": [],
   "source": [
    "%load_ext tensorboard"
   ]
  },
  {
   "cell_type": "code",
   "execution_count": null,
   "metadata": {},
   "outputs": [
    {
     "data": {
      "text/plain": "b'Hello, World!'"
     },
     "execution_count": null,
     "metadata": {},
     "output_type": "execute_result"
    }
   ],
   "source": [
    "import collections\n",
    "\n",
    "import numpy as np\n",
    "import tensorflow as tf\n",
    "import tensorflow_federated as tff\n",
    "\n",
    "train_test_client_split = tff.simulation.datasets.ClientData.train_test_client_split\n",
    "\n",
    "tff.federated_computation(lambda: \"Hello, World!\")()"
   ]
  },
  {
   "cell_type": "code",
   "execution_count": null,
   "metadata": {},
   "outputs": [],
   "source": [
    "import matplotlib.pyplot as plt\n",
    "from pyarrow import feather\n",
    "import pandas as pd"
   ]
  },
  {
   "cell_type": "code",
   "execution_count": null,
   "metadata": {},
   "outputs": [],
   "source": [
    "from ml_federated_customer_path.customclientdata import create_tff_client_data_from_df"
   ]
  },
  {
   "cell_type": "markdown",
   "metadata": {},
   "source": [
    "## Define notebook parameters\r\n",
    "\r\n",
    "Remember, only simple assignments here!"
   ]
  },
  {
   "cell_type": "code",
   "execution_count": null,
   "metadata": {},
   "outputs": [],
   "source": [
    "# this cell is tagged with 'parameters'\n",
    "seed = 0\n",
    "data_filepath = \"data/preprocessed_data/data.f\"\n",
    "test_split = 0.2\n",
    "\n",
    "NUM_CLIENTS = 10\n",
    "NUM_EPOCHS = 20\n",
    "BATCH_SIZE = 32\n",
    "SHUFFLE_BUFFER = 100\n",
    "PREFETCH_BUFFER = 100\n",
    "FEDERATED_UPDATES = 50"
   ]
  },
  {
   "cell_type": "markdown",
   "metadata": {},
   "source": [
    "Make immediate derivations from the parameters:"
   ]
  },
  {
   "cell_type": "code",
   "execution_count": null,
   "metadata": {},
   "outputs": [],
   "source": [
    "np.random.seed(seed)\n",
    "tf.random.set_seed(seed)"
   ]
  },
  {
   "cell_type": "markdown",
   "metadata": {},
   "source": [
    "## Load Data"
   ]
  },
  {
   "cell_type": "code",
   "execution_count": null,
   "metadata": {},
   "outputs": [
    {
     "data": {
      "text/html": "<div>\n<style scoped>\n    .dataframe tbody tr th:only-of-type {\n        vertical-align: middle;\n    }\n\n    .dataframe tbody tr th {\n        vertical-align: top;\n    }\n\n    .dataframe thead th {\n        text-align: right;\n    }\n</style>\n<table border=\"1\" class=\"dataframe\">\n  <thead>\n    <tr style=\"text-align: right;\">\n      <th></th>\n      <th>client_id</th>\n      <th>x</th>\n      <th>y</th>\n    </tr>\n  </thead>\n  <tbody>\n    <tr>\n      <th>0</th>\n      <td>0</td>\n      <td>[0, 1, 1, 1, 2, 0, 0, 0, 0, 0, 0, 0, 0, 1, 0, 0]</td>\n      <td>3</td>\n    </tr>\n    <tr>\n      <th>1</th>\n      <td>0</td>\n      <td>[1, 1, 1, 1, 2, 0, 0, 0, 1, 0, 0, 0, 0, 0, 0, 0]</td>\n      <td>1</td>\n    </tr>\n    <tr>\n      <th>2</th>\n      <td>0</td>\n      <td>[2, 1, 1, 1, 2, 0, 1, 0, 0, 0, 0, 0, 0, 0, 0, 0]</td>\n      <td>10</td>\n    </tr>\n    <tr>\n      <th>3</th>\n      <td>1</td>\n      <td>[0, 1, 1, 3, 2, 0, 0, 0, 0, 0, 0, 0, 0, 1, 0, 0]</td>\n      <td>3</td>\n    </tr>\n    <tr>\n      <th>4</th>\n      <td>1</td>\n      <td>[1, 1, 1, 3, 2, 0, 0, 0, 1, 0, 0, 0, 0, 0, 0, 0]</td>\n      <td>1</td>\n    </tr>\n    <tr>\n      <th>...</th>\n      <td>...</td>\n      <td>...</td>\n      <td>...</td>\n    </tr>\n    <tr>\n      <th>4295</th>\n      <td>999</td>\n      <td>[0, 1, 1, 2, 1, 0, 0, 0, 0, 0, 0, 0, 0, 0, 1, 0]</td>\n      <td>5</td>\n    </tr>\n    <tr>\n      <th>4296</th>\n      <td>999</td>\n      <td>[1, 1, 1, 2, 1, 0, 0, 0, 0, 0, 1, 0, 0, 0, 0, 0]</td>\n      <td>1</td>\n    </tr>\n    <tr>\n      <th>4297</th>\n      <td>999</td>\n      <td>[2, 1, 1, 2, 1, 0, 1, 0, 0, 0, 0, 0, 0, 0, 0, 0]</td>\n      <td>2</td>\n    </tr>\n    <tr>\n      <th>4298</th>\n      <td>999</td>\n      <td>[3, 1, 1, 2, 1, 0, 0, 1, 0, 0, 0, 0, 0, 0, 0, 0]</td>\n      <td>6</td>\n    </tr>\n    <tr>\n      <th>4299</th>\n      <td>999</td>\n      <td>[4, 1, 1, 2, 1, 0, 0, 0, 0, 0, 0, 1, 0, 0, 0, 0]</td>\n      <td>10</td>\n    </tr>\n  </tbody>\n</table>\n<p>4300 rows × 3 columns</p>\n</div>",
      "text/plain": "      client_id                                                 x   y\n0             0  [0, 1, 1, 1, 2, 0, 0, 0, 0, 0, 0, 0, 0, 1, 0, 0]   3\n1             0  [1, 1, 1, 1, 2, 0, 0, 0, 1, 0, 0, 0, 0, 0, 0, 0]   1\n2             0  [2, 1, 1, 1, 2, 0, 1, 0, 0, 0, 0, 0, 0, 0, 0, 0]  10\n3             1  [0, 1, 1, 3, 2, 0, 0, 0, 0, 0, 0, 0, 0, 1, 0, 0]   3\n4             1  [1, 1, 1, 3, 2, 0, 0, 0, 1, 0, 0, 0, 0, 0, 0, 0]   1\n...         ...                                               ...  ..\n4295        999  [0, 1, 1, 2, 1, 0, 0, 0, 0, 0, 0, 0, 0, 0, 1, 0]   5\n4296        999  [1, 1, 1, 2, 1, 0, 0, 0, 0, 0, 1, 0, 0, 0, 0, 0]   1\n4297        999  [2, 1, 1, 2, 1, 0, 1, 0, 0, 0, 0, 0, 0, 0, 0, 0]   2\n4298        999  [3, 1, 1, 2, 1, 0, 0, 1, 0, 0, 0, 0, 0, 0, 0, 0]   6\n4299        999  [4, 1, 1, 2, 1, 0, 0, 0, 0, 0, 0, 1, 0, 0, 0, 0]  10\n\n[4300 rows x 3 columns]"
     },
     "execution_count": null,
     "metadata": {},
     "output_type": "execute_result"
    }
   ],
   "source": [
    "df = feather.read_feather(data_filepath)\n",
    "df"
   ]
  },
  {
   "cell_type": "code",
   "execution_count": null,
   "metadata": {},
   "outputs": [
    {
     "data": {
      "text/plain": "(4300, 3)"
     },
     "execution_count": null,
     "metadata": {},
     "output_type": "execute_result"
    }
   ],
   "source": [
    "df.shape"
   ]
  },
  {
   "cell_type": "code",
   "execution_count": null,
   "metadata": {},
   "outputs": [
    {
     "data": {
      "text/plain": "(16,)"
     },
     "execution_count": null,
     "metadata": {},
     "output_type": "execute_result"
    }
   ],
   "source": [
    "df.x[0].shape"
   ]
  },
  {
   "cell_type": "markdown",
   "metadata": {},
   "source": [
    "Convert into tff ClientData (training + testing datasets):"
   ]
  },
  {
   "cell_type": "code",
   "execution_count": null,
   "metadata": {},
   "outputs": [],
   "source": [
    "client_data = create_tff_client_data_from_df(df, sample_size=1)\n",
    "train_data, test_data = train_test_client_split(\n",
    "    client_data, int(df.client_id.nunique() * test_split)\n",
    ")"
   ]
  },
  {
   "cell_type": "code",
   "execution_count": null,
   "metadata": {},
   "outputs": [
    {
     "data": {
      "text/plain": "450"
     },
     "execution_count": null,
     "metadata": {},
     "output_type": "execute_result"
    }
   ],
   "source": [
    "len(train_data.client_ids)"
   ]
  },
  {
   "cell_type": "code",
   "execution_count": null,
   "metadata": {},
   "outputs": [
    {
     "data": {
      "text/plain": "200"
     },
     "execution_count": null,
     "metadata": {},
     "output_type": "execute_result"
    }
   ],
   "source": [
    "len(test_data.client_ids)"
   ]
  },
  {
   "cell_type": "code",
   "execution_count": null,
   "metadata": {},
   "outputs": [
    {
     "data": {
      "text/plain": "OrderedDict([('x', TensorSpec(shape=(None, 16), dtype=tf.int64, name=None)),\n             ('y', TensorSpec(shape=(None,), dtype=tf.int32, name=None))])"
     },
     "execution_count": null,
     "metadata": {},
     "output_type": "execute_result"
    }
   ],
   "source": [
    "train_data.element_type_structure"
   ]
  },
  {
   "cell_type": "code",
   "execution_count": null,
   "metadata": {},
   "outputs": [
    {
     "data": {
      "text/plain": "array([[1, 1, 1, 0, 2, 0, 0, 0, 1, 0, 0, 0, 0, 0, 0, 0],\n       [2, 1, 1, 0, 2, 0, 1, 0, 0, 0, 0, 0, 0, 0, 0, 0],\n       [2, 1, 1, 0, 2, 0, 1, 0, 0, 0, 0, 0, 0, 0, 0, 0],\n       [0, 1, 1, 0, 2, 0, 0, 0, 0, 0, 0, 0, 0, 1, 0, 0],\n       [0, 1, 1, 0, 2, 0, 0, 0, 0, 0, 0, 0, 0, 1, 0, 0],\n       [0, 1, 1, 0, 2, 0, 0, 0, 0, 0, 0, 0, 0, 1, 0, 0],\n       [1, 1, 1, 0, 2, 0, 0, 0, 1, 0, 0, 0, 0, 0, 0, 0],\n       [0, 1, 1, 0, 2, 0, 0, 0, 0, 0, 0, 0, 0, 1, 0, 0],\n       [0, 1, 1, 0, 2, 0, 0, 0, 0, 0, 0, 0, 0, 1, 0, 0],\n       [1, 1, 1, 0, 2, 0, 0, 0, 1, 0, 0, 0, 0, 0, 0, 0],\n       [2, 1, 1, 0, 2, 0, 1, 0, 0, 0, 0, 0, 0, 0, 0, 0],\n       [0, 1, 1, 0, 2, 0, 0, 0, 0, 0, 0, 0, 0, 1, 0, 0],\n       [2, 1, 1, 0, 2, 0, 1, 0, 0, 0, 0, 0, 0, 0, 0, 0],\n       [2, 1, 1, 0, 2, 0, 1, 0, 0, 0, 0, 0, 0, 0, 0, 0],\n       [2, 1, 1, 0, 2, 0, 1, 0, 0, 0, 0, 0, 0, 0, 0, 0],\n       [2, 1, 1, 0, 2, 0, 1, 0, 0, 0, 0, 0, 0, 0, 0, 0],\n       [0, 1, 1, 0, 2, 0, 0, 0, 0, 0, 0, 0, 0, 1, 0, 0],\n       [2, 1, 1, 0, 2, 0, 1, 0, 0, 0, 0, 0, 0, 0, 0, 0],\n       [1, 1, 1, 0, 2, 0, 0, 0, 1, 0, 0, 0, 0, 0, 0, 0],\n       [2, 1, 1, 0, 2, 0, 1, 0, 0, 0, 0, 0, 0, 0, 0, 0],\n       [1, 1, 1, 0, 2, 0, 0, 0, 1, 0, 0, 0, 0, 0, 0, 0],\n       [0, 1, 1, 0, 2, 0, 0, 0, 0, 0, 0, 0, 0, 1, 0, 0],\n       [2, 1, 1, 0, 2, 0, 1, 0, 0, 0, 0, 0, 0, 0, 0, 0],\n       [0, 1, 1, 0, 2, 0, 0, 0, 0, 0, 0, 0, 0, 1, 0, 0],\n       [0, 1, 1, 0, 2, 0, 0, 0, 0, 0, 0, 0, 0, 1, 0, 0],\n       [1, 1, 1, 0, 2, 0, 0, 0, 1, 0, 0, 0, 0, 0, 0, 0],\n       [1, 1, 1, 0, 2, 0, 0, 0, 1, 0, 0, 0, 0, 0, 0, 0],\n       [1, 1, 1, 0, 2, 0, 0, 0, 1, 0, 0, 0, 0, 0, 0, 0],\n       [1, 1, 1, 0, 2, 0, 0, 0, 1, 0, 0, 0, 0, 0, 0, 0],\n       [0, 1, 1, 0, 2, 0, 0, 0, 0, 0, 0, 0, 0, 1, 0, 0],\n       [0, 1, 1, 0, 2, 0, 0, 0, 0, 0, 0, 0, 0, 1, 0, 0],\n       [1, 1, 1, 0, 2, 0, 0, 0, 1, 0, 0, 0, 0, 0, 0, 0]])"
     },
     "execution_count": null,
     "metadata": {},
     "output_type": "execute_result"
    }
   ],
   "source": [
    "example_dataset = train_data.create_tf_dataset_for_client(train_data.client_ids[0])\n",
    "\n",
    "example_element = next(iter(example_dataset))\n",
    "\n",
    "example_dataset.element_spec\n",
    "example_element[\"x\"].numpy()"
   ]
  },
  {
   "cell_type": "markdown",
   "metadata": {},
   "source": [
    "## Create Federeted ML Process with TFF\n"
   ]
  },
  {
   "cell_type": "code",
   "execution_count": null,
   "metadata": {},
   "outputs": [],
   "source": [
    "# input layer\n",
    "def create_keras_model():\n",
    "    \"\"\"\n",
    "    Return new keras model instance\n",
    "    \"\"\"\n",
    "    visible = tf.keras.layers.Input(shape=(16,))\n",
    "\n",
    "    hidden1 = tf.keras.layers.Dense(32, activation=None, name=\"l1relu\")(visible)\n",
    "    output = tf.keras.layers.Dense(11, activation=\"softmax\", name=\"l3softmax\")(hidden1)\n",
    "    model = tf.keras.Model(inputs=visible, outputs=output)\n",
    "    return model"
   ]
  },
  {
   "cell_type": "code",
   "execution_count": null,
   "metadata": {},
   "outputs": [
    {
     "data": {
      "text/plain": "555"
     },
     "execution_count": null,
     "metadata": {},
     "output_type": "execute_result"
    }
   ],
   "source": [
    "input_size = 16\n",
    "l1_size = 32\n",
    "l2_size = 0\n",
    "l3_size = 11\n",
    "\n",
    "((input_size + 1) * l1_size + (l1_size + 1) * l2_size + (l2_size + 1) * l3_size)"
   ]
  },
  {
   "cell_type": "code",
   "execution_count": null,
   "metadata": {},
   "outputs": [],
   "source": [
    "def model_fn():\n",
    "    \"\"\"\n",
    "    Create tff model (keras model + data format + loss & metrics)\n",
    "    \"\"\"\n",
    "    # We _must_ create a new model here, and _not_ capture it from an external\n",
    "    # scope. TFF will call this within different graph contexts.\n",
    "    keras_model = create_keras_model()\n",
    "    return tff.learning.from_keras_model(\n",
    "        keras_model,\n",
    "        input_spec=collections.OrderedDict(\n",
    "            x=example_dataset.element_spec[\"x\"],\n",
    "            y=example_dataset.element_spec[\"y\"],\n",
    "        ),\n",
    "        loss=tf.keras.losses.SparseCategoricalCrossentropy(),\n",
    "        metrics=[tf.keras.metrics.SparseCategoricalAccuracy()],\n",
    "    )"
   ]
  },
  {
   "cell_type": "markdown",
   "metadata": {},
   "source": [
    "Create federated process:"
   ]
  },
  {
   "cell_type": "code",
   "execution_count": null,
   "metadata": {},
   "outputs": [],
   "source": [
    "iterative_process = tff.learning.build_federated_averaging_process(\n",
    "    model_fn,\n",
    "    client_optimizer_fn=lambda: tf.keras.optimizers.RMSprop(learning_rate=0.02),\n",
    "    server_optimizer_fn=lambda: tf.keras.optimizers.RMSprop(learning_rate=1.0),\n",
    ")"
   ]
  },
  {
   "cell_type": "markdown",
   "metadata": {},
   "source": [
    "Initialize:"
   ]
  },
  {
   "cell_type": "code",
   "execution_count": null,
   "metadata": {},
   "outputs": [
    {
     "name": "stdout",
     "output_type": "stream",
     "text": "WARNING:tensorflow:From /anaconda/envs/federated_customer_path/lib/python3.8/site-packages/tensorflow_federated/python/core/impl/compiler/tensorflow_computation_transformations.py:59: extract_sub_graph (from tensorflow.python.framework.graph_util_impl) is deprecated and will be removed in a future version.\nInstructions for updating:\nUse `tf.compat.v1.graph_util.extract_sub_graph`\n"
    },
    {
     "name": "stderr",
     "output_type": "stream",
     "text": "WARNING:tensorflow:From /anaconda/envs/federated_customer_path/lib/python3.8/site-packages/tensorflow_federated/python/core/impl/compiler/tensorflow_computation_transformations.py:59: extract_sub_graph (from tensorflow.python.framework.graph_util_impl) is deprecated and will be removed in a future version.\nInstructions for updating:\nUse `tf.compat.v1.graph_util.extract_sub_graph`\n"
    }
   ],
   "source": [
    "state = iterative_process.initialize()"
   ]
  },
  {
   "cell_type": "markdown",
   "metadata": {},
   "source": [
    "Create federated evaluation process (validation):"
   ]
  },
  {
   "cell_type": "code",
   "execution_count": null,
   "metadata": {},
   "outputs": [],
   "source": [
    "# evaluation\n",
    "evaluation = tff.learning.build_federated_evaluation(model_fn)"
   ]
  },
  {
   "cell_type": "code",
   "execution_count": null,
   "metadata": {},
   "outputs": [],
   "source": [
    "iterable = train_data.create_tf_dataset_for_client(train_data.client_ids[1])"
   ]
  },
  {
   "cell_type": "code",
   "execution_count": null,
   "metadata": {},
   "outputs": [
    {
     "data": {
      "text/plain": "OrderedDict([('x',\n              <tf.Tensor: shape=(32, 16), dtype=int64, numpy=\n              array([[1, 1, 1, 0, 2, 0, 0, 0, 1, 0, 0, 0, 0, 0, 0, 0],\n                     [2, 1, 1, 0, 2, 0, 1, 0, 0, 0, 0, 0, 0, 0, 0, 0],\n                     [2, 1, 1, 0, 2, 0, 1, 0, 0, 0, 0, 0, 0, 0, 0, 0],\n                     [0, 1, 1, 0, 2, 0, 0, 0, 0, 0, 0, 0, 0, 1, 0, 0],\n                     [0, 1, 1, 0, 2, 0, 0, 0, 0, 0, 0, 0, 0, 1, 0, 0],\n                     [0, 1, 1, 0, 2, 0, 0, 0, 0, 0, 0, 0, 0, 1, 0, 0],\n                     [1, 1, 1, 0, 2, 0, 0, 0, 1, 0, 0, 0, 0, 0, 0, 0],\n                     [0, 1, 1, 0, 2, 0, 0, 0, 0, 0, 0, 0, 0, 1, 0, 0],\n                     [0, 1, 1, 0, 2, 0, 0, 0, 0, 0, 0, 0, 0, 1, 0, 0],\n                     [1, 1, 1, 0, 2, 0, 0, 0, 1, 0, 0, 0, 0, 0, 0, 0],\n                     [2, 1, 1, 0, 2, 0, 1, 0, 0, 0, 0, 0, 0, 0, 0, 0],\n                     [0, 1, 1, 0, 2, 0, 0, 0, 0, 0, 0, 0, 0, 1, 0, 0],\n                     [2, 1, 1, 0, 2, 0, 1, 0, 0, 0, 0, 0, 0, 0, 0, 0],\n                     [2, 1, 1, 0, 2, 0, 1, 0, 0, 0, 0, 0, 0, 0, 0, 0],\n                     [2, 1, 1, 0, 2, 0, 1, 0, 0, 0, 0, 0, 0, 0, 0, 0],\n                     [2, 1, 1, 0, 2, 0, 1, 0, 0, 0, 0, 0, 0, 0, 0, 0],\n                     [0, 1, 1, 0, 2, 0, 0, 0, 0, 0, 0, 0, 0, 1, 0, 0],\n                     [2, 1, 1, 0, 2, 0, 1, 0, 0, 0, 0, 0, 0, 0, 0, 0],\n                     [1, 1, 1, 0, 2, 0, 0, 0, 1, 0, 0, 0, 0, 0, 0, 0],\n                     [2, 1, 1, 0, 2, 0, 1, 0, 0, 0, 0, 0, 0, 0, 0, 0],\n                     [1, 1, 1, 0, 2, 0, 0, 0, 1, 0, 0, 0, 0, 0, 0, 0],\n                     [0, 1, 1, 0, 2, 0, 0, 0, 0, 0, 0, 0, 0, 1, 0, 0],\n                     [2, 1, 1, 0, 2, 0, 1, 0, 0, 0, 0, 0, 0, 0, 0, 0],\n                     [0, 1, 1, 0, 2, 0, 0, 0, 0, 0, 0, 0, 0, 1, 0, 0],\n                     [0, 1, 1, 0, 2, 0, 0, 0, 0, 0, 0, 0, 0, 1, 0, 0],\n                     [1, 1, 1, 0, 2, 0, 0, 0, 1, 0, 0, 0, 0, 0, 0, 0],\n                     [1, 1, 1, 0, 2, 0, 0, 0, 1, 0, 0, 0, 0, 0, 0, 0],\n                     [1, 1, 1, 0, 2, 0, 0, 0, 1, 0, 0, 0, 0, 0, 0, 0],\n                     [1, 1, 1, 0, 2, 0, 0, 0, 1, 0, 0, 0, 0, 0, 0, 0],\n                     [0, 1, 1, 0, 2, 0, 0, 0, 0, 0, 0, 0, 0, 1, 0, 0],\n                     [0, 1, 1, 0, 2, 0, 0, 0, 0, 0, 0, 0, 0, 1, 0, 0],\n                     [1, 1, 1, 0, 2, 0, 0, 0, 1, 0, 0, 0, 0, 0, 0, 0]])>),\n             ('y',\n              <tf.Tensor: shape=(32,), dtype=int32, numpy=\n              array([ 1, 10, 10,  3,  3,  3,  1,  3,  3,  1, 10,  3, 10, 10, 10, 10,  3,\n                     10,  1, 10,  1,  3, 10,  3,  3,  1,  1,  1,  1,  3,  3,  1],\n                    dtype=int32)>)])"
     },
     "execution_count": null,
     "metadata": {},
     "output_type": "execute_result"
    }
   ],
   "source": [
    "d = next(iter(iterable))\n",
    "d"
   ]
  },
  {
   "cell_type": "code",
   "execution_count": null,
   "metadata": {},
   "outputs": [
    {
     "data": {
      "text/plain": "<PrefetchDataset shapes: OrderedDict([(x, (None, 16)), (y, (None,))]), types: OrderedDict([(x, tf.int64), (y, tf.int32)])>"
     },
     "execution_count": null,
     "metadata": {},
     "output_type": "execute_result"
    }
   ],
   "source": [
    "train_data.create_tf_dataset_for_client(train_data.client_ids[0])"
   ]
  },
  {
   "cell_type": "code",
   "execution_count": null,
   "metadata": {},
   "outputs": [
    {
     "data": {
      "text/plain": "450"
     },
     "execution_count": null,
     "metadata": {},
     "output_type": "execute_result"
    }
   ],
   "source": [
    "len(train_data.client_ids)"
   ]
  },
  {
   "cell_type": "code",
   "execution_count": null,
   "metadata": {},
   "outputs": [],
   "source": []
  },
  {
   "cell_type": "markdown",
   "metadata": {},
   "source": [
    "Function for loading client data in batches:"
   ]
  },
  {
   "cell_type": "code",
   "execution_count": null,
   "metadata": {},
   "outputs": [],
   "source": [
    "def batch_client_data(client_data, batch_size=BATCH_SIZE):\n",
    "    batch = [\n",
    "        client_data.create_tf_dataset_for_client(client_data.client_ids[idx])\n",
    "        for idx in np.random.choice(\n",
    "            np.arange(len(client_data.client_ids)), size=BATCH_SIZE\n",
    "        )\n",
    "    ]\n",
    "    return batch"
   ]
  },
  {
   "cell_type": "markdown",
   "metadata": {},
   "source": [
    "### Federated training & evaluation:"
   ]
  },
  {
   "cell_type": "code",
   "execution_count": null,
   "metadata": {},
   "outputs": [
    {
     "name": "stdout",
     "output_type": "stream",
     "text": "round  1, metrics=OrderedDict([('broadcast', ()), ('aggregation', OrderedDict([('mean_value', ()), ('mean_weight', ())])), ('train', OrderedDict([('sparse_categorical_accuracy', 0.43257576), ('loss', 1.8088098)])), ('stat', OrderedDict([('num_examples', 2640)]))])\nfederated_update  1, loss=14.02, accuracy=0.12\nfederated_update  2, loss=12.14, accuracy=0.25\nfederated_update  3, loss=11.57, accuracy=0.28\nfederated_update  4, loss=11.74, accuracy=0.27\nfederated_update  5, loss=8.16, accuracy=0.49\nfederated_update  6, loss=10.05, accuracy=0.37\nfederated_update  7, loss=10.71, accuracy=0.33\nfederated_update  8, loss=6.13, accuracy=0.58\nfederated_update  9, loss=6.37, accuracy=0.60\nfederated_update  10, loss=6.92, accuracy=0.57\nfederated_update  11, loss=7.67, accuracy=0.52\nfederated_update  12, loss=6.33, accuracy=0.60\nfederated_update  13, loss=5.96, accuracy=0.62\nfederated_update  14, loss=6.29, accuracy=0.61\nfederated_update  15, loss=7.26, accuracy=0.54\nfederated_update  16, loss=8.26, accuracy=0.48\nfederated_update  17, loss=4.80, accuracy=0.69\nfederated_update  18, loss=5.90, accuracy=0.63\nfederated_update  19, loss=5.73, accuracy=0.64\nfederated_update  20, loss=5.83, accuracy=0.63\nfederated_update  21, loss=6.09, accuracy=0.62\nfederated_update  22, loss=5.67, accuracy=0.64\nfederated_update  23, loss=6.09, accuracy=0.62\nfederated_update  24, loss=7.34, accuracy=0.54\nfederated_update  25, loss=6.20, accuracy=0.61\nfederated_update  26, loss=7.85, accuracy=0.51\nfederated_update  27, loss=6.14, accuracy=0.62\nfederated_update  28, loss=6.11, accuracy=0.61\nfederated_update  29, loss=5.76, accuracy=0.64\nfederated_update  30, loss=4.64, accuracy=0.69\nfederated_update  31, loss=5.26, accuracy=0.67\nfederated_update  32, loss=7.44, accuracy=0.54\nfederated_update  33, loss=8.37, accuracy=0.47\nfederated_update  34, loss=9.27, accuracy=0.42\nfederated_update  35, loss=5.45, accuracy=0.65\nfederated_update  36, loss=7.63, accuracy=0.52\nfederated_update  37, loss=6.80, accuracy=0.58\nfederated_update  38, loss=9.91, accuracy=0.38\nfederated_update  39, loss=8.38, accuracy=0.46\nfederated_update  40, loss=5.42, accuracy=0.65\nfederated_update  41, loss=3.46, accuracy=0.77\nfederated_update  42, loss=6.41, accuracy=0.59\nfederated_update  43, loss=4.92, accuracy=0.69\nfederated_update  44, loss=7.03, accuracy=0.55\nfederated_update  45, loss=4.74, accuracy=0.70\nfederated_update  46, loss=6.42, accuracy=0.59\nfederated_update  47, loss=6.84, accuracy=0.57\nfederated_update  48, loss=8.18, accuracy=0.48\nfederated_update  49, loss=5.19, accuracy=0.68\nfederated_update  50, loss=5.21, accuracy=0.66\nCPU times: user 5min 26s, sys: 12.9 s, total: 5min 39s\nWall time: 2min 40s\n"
    },
    {
     "data": {
      "text/html": "<div>\n<style scoped>\n    .dataframe tbody tr th:only-of-type {\n        vertical-align: middle;\n    }\n\n    .dataframe tbody tr th {\n        vertical-align: top;\n    }\n\n    .dataframe thead th {\n        text-align: right;\n    }\n</style>\n<table border=\"1\" class=\"dataframe\">\n  <thead>\n    <tr style=\"text-align: right;\">\n      <th></th>\n      <th>train_loss</th>\n      <th>train_accuracy</th>\n      <th>train_size</th>\n      <th>test_loss</th>\n      <th>test_accuracy</th>\n    </tr>\n    <tr>\n      <th>federated_update</th>\n      <th></th>\n      <th></th>\n      <th></th>\n      <th></th>\n      <th></th>\n    </tr>\n  </thead>\n  <tbody>\n    <tr>\n      <th>0</th>\n      <td>1.808810</td>\n      <td>0.432576</td>\n      <td>2640</td>\n      <td>14.421456</td>\n      <td>0.105263</td>\n    </tr>\n    <tr>\n      <th>1</th>\n      <td>14.015739</td>\n      <td>0.124342</td>\n      <td>3040</td>\n      <td>12.353285</td>\n      <td>0.233577</td>\n    </tr>\n    <tr>\n      <th>2</th>\n      <td>12.144375</td>\n      <td>0.246538</td>\n      <td>2600</td>\n      <td>13.675147</td>\n      <td>0.138462</td>\n    </tr>\n    <tr>\n      <th>3</th>\n      <td>11.573055</td>\n      <td>0.280822</td>\n      <td>2920</td>\n      <td>13.834701</td>\n      <td>0.141667</td>\n    </tr>\n    <tr>\n      <th>4</th>\n      <td>11.740512</td>\n      <td>0.270652</td>\n      <td>2760</td>\n      <td>9.900205</td>\n      <td>0.373134</td>\n    </tr>\n    <tr>\n      <th>5</th>\n      <td>8.156461</td>\n      <td>0.486594</td>\n      <td>2760</td>\n      <td>11.808990</td>\n      <td>0.263158</td>\n    </tr>\n    <tr>\n      <th>6</th>\n      <td>10.046040</td>\n      <td>0.368382</td>\n      <td>2720</td>\n      <td>10.960307</td>\n      <td>0.320000</td>\n    </tr>\n    <tr>\n      <th>7</th>\n      <td>10.705562</td>\n      <td>0.333439</td>\n      <td>3140</td>\n      <td>7.915101</td>\n      <td>0.488189</td>\n    </tr>\n    <tr>\n      <th>8</th>\n      <td>6.132945</td>\n      <td>0.583588</td>\n      <td>2620</td>\n      <td>7.933738</td>\n      <td>0.500000</td>\n    </tr>\n    <tr>\n      <th>9</th>\n      <td>6.371140</td>\n      <td>0.602721</td>\n      <td>2940</td>\n      <td>7.050449</td>\n      <td>0.559055</td>\n    </tr>\n    <tr>\n      <th>10</th>\n      <td>6.923367</td>\n      <td>0.570567</td>\n      <td>2820</td>\n      <td>8.267695</td>\n      <td>0.479339</td>\n    </tr>\n    <tr>\n      <th>11</th>\n      <td>7.674607</td>\n      <td>0.521575</td>\n      <td>2920</td>\n      <td>6.958552</td>\n      <td>0.544118</td>\n    </tr>\n    <tr>\n      <th>12</th>\n      <td>6.332461</td>\n      <td>0.595886</td>\n      <td>3160</td>\n      <td>7.265779</td>\n      <td>0.539007</td>\n    </tr>\n    <tr>\n      <th>13</th>\n      <td>5.961299</td>\n      <td>0.619872</td>\n      <td>3120</td>\n      <td>7.981911</td>\n      <td>0.480315</td>\n    </tr>\n    <tr>\n      <th>14</th>\n      <td>6.289588</td>\n      <td>0.605594</td>\n      <td>2860</td>\n      <td>7.535802</td>\n      <td>0.529851</td>\n    </tr>\n    <tr>\n      <th>15</th>\n      <td>7.263941</td>\n      <td>0.541718</td>\n      <td>3260</td>\n      <td>8.499982</td>\n      <td>0.470149</td>\n    </tr>\n    <tr>\n      <th>16</th>\n      <td>8.256957</td>\n      <td>0.484615</td>\n      <td>2600</td>\n      <td>7.202517</td>\n      <td>0.546154</td>\n    </tr>\n    <tr>\n      <th>17</th>\n      <td>4.796502</td>\n      <td>0.693590</td>\n      <td>3120</td>\n      <td>7.157948</td>\n      <td>0.549618</td>\n    </tr>\n    <tr>\n      <th>18</th>\n      <td>5.904964</td>\n      <td>0.631679</td>\n      <td>2620</td>\n      <td>5.459988</td>\n      <td>0.642336</td>\n    </tr>\n    <tr>\n      <th>19</th>\n      <td>5.726029</td>\n      <td>0.640071</td>\n      <td>2820</td>\n      <td>6.422056</td>\n      <td>0.601562</td>\n    </tr>\n    <tr>\n      <th>20</th>\n      <td>5.829286</td>\n      <td>0.629110</td>\n      <td>2920</td>\n      <td>6.992494</td>\n      <td>0.566176</td>\n    </tr>\n    <tr>\n      <th>21</th>\n      <td>6.086339</td>\n      <td>0.616779</td>\n      <td>2980</td>\n      <td>7.703620</td>\n      <td>0.522059</td>\n    </tr>\n    <tr>\n      <th>22</th>\n      <td>5.673300</td>\n      <td>0.642279</td>\n      <td>2720</td>\n      <td>8.391767</td>\n      <td>0.478632</td>\n    </tr>\n    <tr>\n      <th>23</th>\n      <td>6.085241</td>\n      <td>0.621377</td>\n      <td>2760</td>\n      <td>8.864955</td>\n      <td>0.450000</td>\n    </tr>\n    <tr>\n      <th>24</th>\n      <td>7.339912</td>\n      <td>0.537770</td>\n      <td>2780</td>\n      <td>5.830652</td>\n      <td>0.634328</td>\n    </tr>\n    <tr>\n      <th>25</th>\n      <td>6.204646</td>\n      <td>0.609864</td>\n      <td>2940</td>\n      <td>9.762143</td>\n      <td>0.387597</td>\n    </tr>\n    <tr>\n      <th>26</th>\n      <td>7.847938</td>\n      <td>0.506643</td>\n      <td>2860</td>\n      <td>7.350801</td>\n      <td>0.542636</td>\n    </tr>\n    <tr>\n      <th>27</th>\n      <td>6.143465</td>\n      <td>0.618116</td>\n      <td>2760</td>\n      <td>6.622263</td>\n      <td>0.589147</td>\n    </tr>\n    <tr>\n      <th>28</th>\n      <td>6.108966</td>\n      <td>0.612992</td>\n      <td>2540</td>\n      <td>6.887965</td>\n      <td>0.567164</td>\n    </tr>\n    <tr>\n      <th>29</th>\n      <td>5.758586</td>\n      <td>0.641786</td>\n      <td>2800</td>\n      <td>6.159680</td>\n      <td>0.611111</td>\n    </tr>\n    <tr>\n      <th>30</th>\n      <td>4.642611</td>\n      <td>0.692208</td>\n      <td>3080</td>\n      <td>6.127542</td>\n      <td>0.619835</td>\n    </tr>\n    <tr>\n      <th>31</th>\n      <td>5.256361</td>\n      <td>0.669408</td>\n      <td>3040</td>\n      <td>7.803234</td>\n      <td>0.515873</td>\n    </tr>\n    <tr>\n      <th>32</th>\n      <td>7.440046</td>\n      <td>0.538433</td>\n      <td>2680</td>\n      <td>9.670862</td>\n      <td>0.400000</td>\n    </tr>\n    <tr>\n      <th>33</th>\n      <td>8.370415</td>\n      <td>0.475000</td>\n      <td>3200</td>\n      <td>9.744448</td>\n      <td>0.395522</td>\n    </tr>\n    <tr>\n      <th>34</th>\n      <td>9.270182</td>\n      <td>0.420076</td>\n      <td>2640</td>\n      <td>5.925643</td>\n      <td>0.627907</td>\n    </tr>\n    <tr>\n      <th>35</th>\n      <td>5.451687</td>\n      <td>0.652431</td>\n      <td>2880</td>\n      <td>8.038772</td>\n      <td>0.500000</td>\n    </tr>\n    <tr>\n      <th>36</th>\n      <td>7.627800</td>\n      <td>0.520536</td>\n      <td>3360</td>\n      <td>9.192522</td>\n      <td>0.429688</td>\n    </tr>\n    <tr>\n      <th>37</th>\n      <td>6.800397</td>\n      <td>0.577305</td>\n      <td>2820</td>\n      <td>10.745397</td>\n      <td>0.333333</td>\n    </tr>\n    <tr>\n      <th>38</th>\n      <td>9.906415</td>\n      <td>0.384211</td>\n      <td>3040</td>\n      <td>10.314495</td>\n      <td>0.354331</td>\n    </tr>\n    <tr>\n      <th>39</th>\n      <td>8.379910</td>\n      <td>0.464029</td>\n      <td>2780</td>\n      <td>7.356061</td>\n      <td>0.538462</td>\n    </tr>\n    <tr>\n      <th>40</th>\n      <td>5.424562</td>\n      <td>0.652536</td>\n      <td>2760</td>\n      <td>4.381676</td>\n      <td>0.715447</td>\n    </tr>\n    <tr>\n      <th>41</th>\n      <td>3.462277</td>\n      <td>0.768792</td>\n      <td>2980</td>\n      <td>7.075546</td>\n      <td>0.551471</td>\n    </tr>\n    <tr>\n      <th>42</th>\n      <td>6.406912</td>\n      <td>0.592248</td>\n      <td>2580</td>\n      <td>3.553597</td>\n      <td>0.779528</td>\n    </tr>\n    <tr>\n      <th>43</th>\n      <td>4.921207</td>\n      <td>0.687324</td>\n      <td>2840</td>\n      <td>7.609043</td>\n      <td>0.518519</td>\n    </tr>\n    <tr>\n      <th>44</th>\n      <td>7.028027</td>\n      <td>0.553147</td>\n      <td>2860</td>\n      <td>6.315828</td>\n      <td>0.605634</td>\n    </tr>\n    <tr>\n      <th>45</th>\n      <td>4.737906</td>\n      <td>0.703435</td>\n      <td>2620</td>\n      <td>2.204185</td>\n      <td>0.863248</td>\n    </tr>\n    <tr>\n      <th>46</th>\n      <td>6.421421</td>\n      <td>0.589815</td>\n      <td>3240</td>\n      <td>10.369579</td>\n      <td>0.354839</td>\n    </tr>\n    <tr>\n      <th>47</th>\n      <td>6.842340</td>\n      <td>0.573490</td>\n      <td>2980</td>\n      <td>8.603168</td>\n      <td>0.459259</td>\n    </tr>\n    <tr>\n      <th>48</th>\n      <td>8.183483</td>\n      <td>0.481164</td>\n      <td>2920</td>\n      <td>6.651913</td>\n      <td>0.587302</td>\n    </tr>\n    <tr>\n      <th>49</th>\n      <td>5.187374</td>\n      <td>0.676623</td>\n      <td>3080</td>\n      <td>5.740869</td>\n      <td>0.634328</td>\n    </tr>\n    <tr>\n      <th>50</th>\n      <td>5.210506</td>\n      <td>0.664388</td>\n      <td>2780</td>\n      <td>6.368561</td>\n      <td>0.595041</td>\n    </tr>\n  </tbody>\n</table>\n</div>",
      "text/plain": "                  train_loss  train_accuracy  train_size  test_loss  \\\nfederated_update                                                      \n0                   1.808810        0.432576        2640  14.421456   \n1                  14.015739        0.124342        3040  12.353285   \n2                  12.144375        0.246538        2600  13.675147   \n3                  11.573055        0.280822        2920  13.834701   \n4                  11.740512        0.270652        2760   9.900205   \n5                   8.156461        0.486594        2760  11.808990   \n6                  10.046040        0.368382        2720  10.960307   \n7                  10.705562        0.333439        3140   7.915101   \n8                   6.132945        0.583588        2620   7.933738   \n9                   6.371140        0.602721        2940   7.050449   \n10                  6.923367        0.570567        2820   8.267695   \n11                  7.674607        0.521575        2920   6.958552   \n12                  6.332461        0.595886        3160   7.265779   \n13                  5.961299        0.619872        3120   7.981911   \n14                  6.289588        0.605594        2860   7.535802   \n15                  7.263941        0.541718        3260   8.499982   \n16                  8.256957        0.484615        2600   7.202517   \n17                  4.796502        0.693590        3120   7.157948   \n18                  5.904964        0.631679        2620   5.459988   \n19                  5.726029        0.640071        2820   6.422056   \n20                  5.829286        0.629110        2920   6.992494   \n21                  6.086339        0.616779        2980   7.703620   \n22                  5.673300        0.642279        2720   8.391767   \n23                  6.085241        0.621377        2760   8.864955   \n24                  7.339912        0.537770        2780   5.830652   \n25                  6.204646        0.609864        2940   9.762143   \n26                  7.847938        0.506643        2860   7.350801   \n27                  6.143465        0.618116        2760   6.622263   \n28                  6.108966        0.612992        2540   6.887965   \n29                  5.758586        0.641786        2800   6.159680   \n30                  4.642611        0.692208        3080   6.127542   \n31                  5.256361        0.669408        3040   7.803234   \n32                  7.440046        0.538433        2680   9.670862   \n33                  8.370415        0.475000        3200   9.744448   \n34                  9.270182        0.420076        2640   5.925643   \n35                  5.451687        0.652431        2880   8.038772   \n36                  7.627800        0.520536        3360   9.192522   \n37                  6.800397        0.577305        2820  10.745397   \n38                  9.906415        0.384211        3040  10.314495   \n39                  8.379910        0.464029        2780   7.356061   \n40                  5.424562        0.652536        2760   4.381676   \n41                  3.462277        0.768792        2980   7.075546   \n42                  6.406912        0.592248        2580   3.553597   \n43                  4.921207        0.687324        2840   7.609043   \n44                  7.028027        0.553147        2860   6.315828   \n45                  4.737906        0.703435        2620   2.204185   \n46                  6.421421        0.589815        3240  10.369579   \n47                  6.842340        0.573490        2980   8.603168   \n48                  8.183483        0.481164        2920   6.651913   \n49                  5.187374        0.676623        3080   5.740869   \n50                  5.210506        0.664388        2780   6.368561   \n\n                  test_accuracy  \nfederated_update                 \n0                      0.105263  \n1                      0.233577  \n2                      0.138462  \n3                      0.141667  \n4                      0.373134  \n5                      0.263158  \n6                      0.320000  \n7                      0.488189  \n8                      0.500000  \n9                      0.559055  \n10                     0.479339  \n11                     0.544118  \n12                     0.539007  \n13                     0.480315  \n14                     0.529851  \n15                     0.470149  \n16                     0.546154  \n17                     0.549618  \n18                     0.642336  \n19                     0.601562  \n20                     0.566176  \n21                     0.522059  \n22                     0.478632  \n23                     0.450000  \n24                     0.634328  \n25                     0.387597  \n26                     0.542636  \n27                     0.589147  \n28                     0.567164  \n29                     0.611111  \n30                     0.619835  \n31                     0.515873  \n32                     0.400000  \n33                     0.395522  \n34                     0.627907  \n35                     0.500000  \n36                     0.429688  \n37                     0.333333  \n38                     0.354331  \n39                     0.538462  \n40                     0.715447  \n41                     0.551471  \n42                     0.779528  \n43                     0.518519  \n44                     0.605634  \n45                     0.863248  \n46                     0.354839  \n47                     0.459259  \n48                     0.587302  \n49                     0.634328  \n50                     0.595041  "
     },
     "execution_count": null,
     "metadata": {},
     "output_type": "execute_result"
    }
   ],
   "source": [
    "%%time\n",
    "\n",
    "state, train_metrics = iterative_process.next(state, batch_client_data(train_data))\n",
    "test_metrics = evaluation(state.model, batch_client_data(test_data))\n",
    "\n",
    "print(\"round  1, metrics={}\".format(train_metrics))\n",
    "\n",
    "metrics_df = pd.DataFrame(\n",
    "    {\n",
    "        \"federated_update\": [0],\n",
    "        \"train_loss\": [train_metrics[\"train\"][\"loss\"]],\n",
    "        \"train_accuracy\": [train_metrics[\"train\"][\"sparse_categorical_accuracy\"]],\n",
    "        \"train_size\": [train_metrics[\"stat\"][\"num_examples\"]],\n",
    "        \"test_loss\": [test_metrics[\"loss\"]],\n",
    "        \"test_accuracy\": [test_metrics[\"sparse_categorical_accuracy\"]],\n",
    "    }\n",
    ")  # , 'test_loss': float, 'test_size':int})\n",
    "\n",
    "for i in range(FEDERATED_UPDATES):\n",
    "    state, train_metrics = iterative_process.next(state, batch_client_data(train_data))\n",
    "    test_metrics = evaluation(state.model, batch_client_data(test_data))\n",
    "    metrics_df = pd.concat(\n",
    "        (\n",
    "            metrics_df,\n",
    "            pd.DataFrame(\n",
    "                {\n",
    "                    \"federated_update\": [i + 1],\n",
    "                    \"train_loss\": [train_metrics[\"train\"][\"loss\"]],\n",
    "                    \"train_accuracy\": [\n",
    "                        train_metrics[\"train\"][\"sparse_categorical_accuracy\"]\n",
    "                    ],\n",
    "                    \"train_size\": [train_metrics[\"stat\"][\"num_examples\"]],\n",
    "                    \"test_loss\": [test_metrics[\"loss\"]],\n",
    "                    \"test_accuracy\": [test_metrics[\"sparse_categorical_accuracy\"]],\n",
    "                }\n",
    "            ),\n",
    "        ),\n",
    "        axis=0,\n",
    "    )\n",
    "    print(\"federated_update  {}, loss={:.2f}, accuracy={:.2f}\".format(i + 1, train_metrics['train']['loss'], train_metrics['train']['sparse_categorical_accuracy']))\n",
    "metrics_df.set_index(\"federated_update\", drop=True, inplace=True)\n",
    "metrics_df"
   ]
  },
  {
   "cell_type": "markdown",
   "metadata": {},
   "source": [
    "Plot results:"
   ]
  },
  {
   "cell_type": "code",
   "execution_count": null,
   "metadata": {},
   "outputs": [
    {
     "data": {
      "text/plain": "(0.0, 15.05208866596222)"
     },
     "execution_count": null,
     "metadata": {},
     "output_type": "execute_result"
    },
    {
     "data": {
      "image/png": "[encoded data removed]",
      "text/plain": "<Figure size 432x288 with 1 Axes>"
     },
     "metadata": {
      "needs_background": "light"
     },
     "output_type": "display_data"
    }
   ],
   "source": [
    "fig, ax = plt.subplots(1, constrained_layout=True)\n",
    "metrics_df.plot(ax=ax, y=[\"train_loss\", \"test_loss\"])\n",
    "ax.set_ylabel(\"loss (sparse_categorical_crossentropy)\")\n",
    "ax.spines[\"top\"].set_visible(False)\n",
    "ax.spines[\"right\"].set_visible(False)\n",
    "ax.set_ylim(ymin=0)"
   ]
  },
  {
   "cell_type": "code",
   "execution_count": null,
   "metadata": {},
   "outputs": [
    {
     "data": {
      "text/plain": "(0.0, 1.0)"
     },
     "execution_count": null,
     "metadata": {},
     "output_type": "execute_result"
    },
    {
     "data": {
      "image/png": "[encoded data removed]",
      "text/plain": "<Figure size 432x288 with 1 Axes>"
     },
     "metadata": {
      "needs_background": "light"
     },
     "output_type": "display_data"
    }
   ],
   "source": [
    "fig, ax = plt.subplots(1, constrained_layout=True)\n",
    "metrics_df.plot(ax=ax, y=[\"train_accuracy\", \"test_accuracy\"])\n",
    "ax.axhline(1 / 11, linestyle=\"--\", color=\"r\", label=\"baseline (random quessing)\")\n",
    "ax.legend()\n",
    "ax.spines[\"top\"].set_visible(False)\n",
    "ax.spines[\"right\"].set_visible(False)\n",
    "ax.set_ylim(0, 1)"
   ]
  },
  {
   "cell_type": "markdown",
   "metadata": {},
   "source": [
    "## Conclusions"
   ]
  },
  {
   "cell_type": "markdown",
   "metadata": {},
   "source": [
    "- We can do federated learning of customer paths even with quite little data\r\n",
    "- It's not astonishingly good, but neither is our data\r\n",
    "\r\n",
    "\r\n",
    "- should compare to centralized computation\r\n"
   ]
  }
 ],
 "metadata": {
  "kernelspec": {
   "display_name": "Python 3.8 (fcp)",
   "language": "python",
   "name": "federated_customer_path"
  }
 },
 "nbformat": 4,
 "nbformat_minor": 4
}
