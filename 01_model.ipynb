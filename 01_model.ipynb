{
 "cells": [
  {
   "cell_type": "code",
   "execution_count": null,
   "metadata": {},
   "outputs": [],
   "source": [
    "# default_exp model\n",
    "%load_ext lab_black\n",
    "# nb_black if running in jupyter\n",
    "%load_ext autoreload\n",
    "# automatically reload python modules if there are changes in the\n",
    "%autoreload 2"
   ]
  },
  {
   "cell_type": "code",
   "execution_count": null,
   "metadata": {},
   "outputs": [],
   "source": [
    "# hide\n",
    "from nbdev.showdoc import *"
   ]
  },
  {
   "cell_type": "markdown",
   "metadata": {},
   "source": [
    "# FederatedCustomerPath\r\n",
    "\r\n",
    "> Learning to predict customer journey with a federated setup"
   ]
  },
  {
   "cell_type": "markdown",
   "metadata": {},
   "source": [
    "***input***: data + tff conversion function from CustomClientData\n",
    "\n",
    "***output***: TFF model for predicting customer paths \n",
    "\n",
    "***description:***\n",
    "\n",
    "Simulating federated learning on predicting customer paths."
   ]
  },
  {
   "cell_type": "markdown",
   "metadata": {},
   "source": [
    "## Import relevant modules"
   ]
  },
  {
   "cell_type": "code",
   "execution_count": null,
   "metadata": {},
   "outputs": [],
   "source": [
    "#\n",
    "# uncomment this cell to get the newest version of tff\n",
    "\n",
    "# tensorflow_federated_nightly also bring in tf_nightly, which\n",
    "# can causes a duplicate tensorboard install, leading to errors.\n",
    "#!pip uninstall --yes tensorboard tb-nightly\n",
    "\n",
    "#!pip install --quiet --upgrade tensorflow-federated-nightly\n",
    "#!pip install --quiet --upgrade nest-asyncio\n",
    "#!pip install --quiet --upgrade tb-nightly  # or tensorboard, but not both"
   ]
  },
  {
   "cell_type": "code",
   "execution_count": null,
   "metadata": {},
   "outputs": [],
   "source": [
    "import numpy as np\n",
    "\n",
    "import nest_asyncio\n",
    "\n",
    "nest_asyncio.apply()"
   ]
  },
  {
   "cell_type": "markdown",
   "metadata": {},
   "source": [
    "You can also view the results using tensorboard:"
   ]
  },
  {
   "cell_type": "code",
   "execution_count": null,
   "metadata": {},
   "outputs": [],
   "source": [
    "%load_ext tensorboard"
   ]
  },
  {
   "cell_type": "code",
   "execution_count": null,
   "metadata": {},
   "outputs": [
    {
     "data": {
      "text/plain": "b'Hello, World!'"
     },
     "execution_count": null,
     "metadata": {},
     "output_type": "execute_result"
    }
   ],
   "source": [
    "import collections\n",
    "\n",
    "import numpy as np\n",
    "import tensorflow as tf\n",
    "import tensorflow_federated as tff\n",
    "\n",
    "train_test_client_split = tff.simulation.datasets.ClientData.train_test_client_split\n",
    "\n",
    "tff.federated_computation(lambda: \"Hello, World!\")()"
   ]
  },
  {
   "cell_type": "code",
   "execution_count": null,
   "metadata": {},
   "outputs": [],
   "source": [
    "import matplotlib.pyplot as plt\n",
    "from pyarrow import feather\n",
    "import pandas as pd"
   ]
  },
  {
   "cell_type": "code",
   "execution_count": null,
   "metadata": {},
   "outputs": [],
   "source": [
    "from ml_federated_customer_path.customclientdata import create_tff_client_data_from_df"
   ]
  },
  {
   "cell_type": "markdown",
   "metadata": {},
   "source": [
    "## Define notebook parameters\r\n",
    "\r\n",
    "Remember, only simple assignments here!"
   ]
  },
  {
   "cell_type": "code",
   "execution_count": null,
   "metadata": {},
   "outputs": [],
   "source": [
    "# this cell is tagged with 'parameters'\n",
    "seed = 0\n",
    "data_filepath = \"data/preprocessed_data/data.f\"\n",
    "test_split = 0.2\n",
    "toy_size = 0.1\n",
    "\n",
    "NUM_CLIENTS = 10\n",
    "NUM_EPOCHS = 20\n",
    "BATCH_SIZE = 32\n",
    "SHUFFLE_BUFFER = 100\n",
    "PREFETCH_BUFFER = 100\n",
    "FEDERATED_UPDATES = 30"
   ]
  },
  {
   "cell_type": "markdown",
   "metadata": {},
   "source": [
    "Make immediate derivations from the parameters:"
   ]
  },
  {
   "cell_type": "code",
   "execution_count": null,
   "metadata": {},
   "outputs": [],
   "source": [
    "np.random.seed(seed)\n",
    "tf.random.set_seed(seed)"
   ]
  },
  {
   "cell_type": "markdown",
   "metadata": {},
   "source": [
    "## Load Data"
   ]
  },
  {
   "cell_type": "code",
   "execution_count": null,
   "metadata": {},
   "outputs": [
    {
     "data": {
      "text/html": "<div>\n<style scoped>\n    .dataframe tbody tr th:only-of-type {\n        vertical-align: middle;\n    }\n\n    .dataframe tbody tr th {\n        vertical-align: top;\n    }\n\n    .dataframe thead th {\n        text-align: right;\n    }\n</style>\n<table border=\"1\" class=\"dataframe\">\n  <thead>\n    <tr style=\"text-align: right;\">\n      <th></th>\n      <th>client_id</th>\n      <th>x</th>\n      <th>y</th>\n    </tr>\n  </thead>\n  <tbody>\n    <tr>\n      <th>0</th>\n      <td>0</td>\n      <td>[1, 0, 0, 0, 0, 0, 0, 0, 1, 0, 0, 0, 0, 0, 0, 0]</td>\n      <td>5</td>\n    </tr>\n    <tr>\n      <th>1</th>\n      <td>0</td>\n      <td>[1, 0, 0, 0, 0, 0, 0, 0, 0, 0, 0, 0, 0, 1, 0, 0]</td>\n      <td>6</td>\n    </tr>\n    <tr>\n      <th>2</th>\n      <td>0</td>\n      <td>[0, 0, 0, 0, 0, 1, 0, 0, 0, 0, 0, 0, 0, 0, 1, 0]</td>\n      <td>1</td>\n    </tr>\n    <tr>\n      <th>3</th>\n      <td>0</td>\n      <td>[0, 0, 0, 0, 0, 0, 1, 0, 0, 1, 0, 0, 0, 0, 0, 0]</td>\n      <td>8</td>\n    </tr>\n    <tr>\n      <th>4</th>\n      <td>1</td>\n      <td>[1, 0, 0, 0, 0, 0, 0, 0, 1, 0, 0, 0, 0, 0, 0, 0]</td>\n      <td>5</td>\n    </tr>\n    <tr>\n      <th>...</th>\n      <td>...</td>\n      <td>...</td>\n      <td>...</td>\n    </tr>\n    <tr>\n      <th>45507</th>\n      <td>9999</td>\n      <td>[0, 0, 0, 0, 0, 0, 1, 0, 0, 0, 0, 0, 0, 0, 1, 0]</td>\n      <td>5</td>\n    </tr>\n    <tr>\n      <th>45508</th>\n      <td>9999</td>\n      <td>[0, 0, 0, 0, 0, 0, 1, 0, 0, 0, 0, 0, 0, 1, 0, 0]</td>\n      <td>6</td>\n    </tr>\n    <tr>\n      <th>45509</th>\n      <td>9999</td>\n      <td>[0, 0, 0, 0, 0, 1, 0, 0, 0, 0, 0, 0, 0, 0, 1, 0]</td>\n      <td>2</td>\n    </tr>\n    <tr>\n      <th>45510</th>\n      <td>9999</td>\n      <td>[0, 0, 0, 0, 0, 0, 1, 0, 0, 0, 1, 0, 0, 0, 0, 0]</td>\n      <td>1</td>\n    </tr>\n    <tr>\n      <th>45511</th>\n      <td>9999</td>\n      <td>[0, 0, 1, 0, 0, 0, 0, 0, 0, 1, 0, 0, 0, 0, 0, 0]</td>\n      <td>8</td>\n    </tr>\n  </tbody>\n</table>\n<p>45512 rows × 3 columns</p>\n</div>",
      "text/plain": "       client_id                                                 x  y\n0              0  [1, 0, 0, 0, 0, 0, 0, 0, 1, 0, 0, 0, 0, 0, 0, 0]  5\n1              0  [1, 0, 0, 0, 0, 0, 0, 0, 0, 0, 0, 0, 0, 1, 0, 0]  6\n2              0  [0, 0, 0, 0, 0, 1, 0, 0, 0, 0, 0, 0, 0, 0, 1, 0]  1\n3              0  [0, 0, 0, 0, 0, 0, 1, 0, 0, 1, 0, 0, 0, 0, 0, 0]  8\n4              1  [1, 0, 0, 0, 0, 0, 0, 0, 1, 0, 0, 0, 0, 0, 0, 0]  5\n...          ...                                               ... ..\n45507       9999  [0, 0, 0, 0, 0, 0, 1, 0, 0, 0, 0, 0, 0, 0, 1, 0]  5\n45508       9999  [0, 0, 0, 0, 0, 0, 1, 0, 0, 0, 0, 0, 0, 1, 0, 0]  6\n45509       9999  [0, 0, 0, 0, 0, 1, 0, 0, 0, 0, 0, 0, 0, 0, 1, 0]  2\n45510       9999  [0, 0, 0, 0, 0, 0, 1, 0, 0, 0, 1, 0, 0, 0, 0, 0]  1\n45511       9999  [0, 0, 1, 0, 0, 0, 0, 0, 0, 1, 0, 0, 0, 0, 0, 0]  8\n\n[45512 rows x 3 columns]"
     },
     "execution_count": null,
     "metadata": {},
     "output_type": "execute_result"
    }
   ],
   "source": [
    "df = feather.read_feather(data_filepath)\n",
    "df"
   ]
  },
  {
   "cell_type": "markdown",
   "metadata": {},
   "source": [
    "Convert into tff ClientData (training + testing datasets):"
   ]
  },
  {
   "cell_type": "code",
   "execution_count": null,
   "metadata": {},
   "outputs": [],
   "source": [
    "client_data = create_tff_client_data_from_df(df, sample_size=1)\n",
    "train_data, test_data = train_test_client_split(\n",
    "    client_data, int(toy_size * df.client_id.nunique() * test_split)\n",
    ")"
   ]
  },
  {
   "cell_type": "code",
   "execution_count": null,
   "metadata": {},
   "outputs": [
    {
     "data": {
      "text/plain": "6134"
     },
     "execution_count": null,
     "metadata": {},
     "output_type": "execute_result"
    }
   ],
   "source": [
    "len(train_data.client_ids)"
   ]
  },
  {
   "cell_type": "code",
   "execution_count": null,
   "metadata": {},
   "outputs": [
    {
     "data": {
      "text/plain": "200"
     },
     "execution_count": null,
     "metadata": {},
     "output_type": "execute_result"
    }
   ],
   "source": [
    "len(test_data.client_ids)"
   ]
  },
  {
   "cell_type": "markdown",
   "metadata": {},
   "source": [
    "Clear dataframe as no longer needed:"
   ]
  },
  {
   "cell_type": "code",
   "execution_count": null,
   "metadata": {},
   "outputs": [],
   "source": [
    "df = None"
   ]
  },
  {
   "cell_type": "markdown",
   "metadata": {},
   "source": [
    "## Explain the math behind"
   ]
  },
  {
   "cell_type": "code",
   "execution_count": null,
   "metadata": {},
   "outputs": [
    {
     "data": {
      "text/plain": "OrderedDict([('x', TensorSpec(shape=(None, 16), dtype=tf.uint8, name=None)),\n             ('y', TensorSpec(shape=(None,), dtype=tf.int32, name=None))])"
     },
     "execution_count": null,
     "metadata": {},
     "output_type": "execute_result"
    }
   ],
   "source": [
    "train_data.element_type_structure"
   ]
  },
  {
   "cell_type": "code",
   "execution_count": null,
   "metadata": {},
   "outputs": [
    {
     "data": {
      "text/plain": "array([[1, 0, 0, 0, 0, 0, 0, 0, 0, 0, 0, 0, 0, 1, 0, 0],\n       [0, 0, 0, 0, 0, 1, 0, 0, 0, 0, 0, 0, 0, 0, 1, 0],\n       [0, 0, 0, 0, 0, 1, 0, 0, 0, 0, 0, 0, 0, 0, 1, 0],\n       [1, 0, 0, 0, 0, 0, 0, 0, 1, 0, 0, 0, 0, 0, 0, 0],\n       [1, 0, 0, 0, 0, 0, 0, 0, 1, 0, 0, 0, 0, 0, 0, 0],\n       [1, 0, 0, 0, 0, 0, 0, 0, 1, 0, 0, 0, 0, 0, 0, 0],\n       [1, 0, 0, 0, 0, 0, 0, 0, 0, 0, 0, 0, 0, 1, 0, 0],\n       [1, 0, 0, 0, 0, 0, 0, 0, 1, 0, 0, 0, 0, 0, 0, 0],\n       [1, 0, 0, 0, 0, 0, 0, 0, 1, 0, 0, 0, 0, 0, 0, 0],\n       [1, 0, 0, 0, 0, 0, 0, 0, 0, 0, 0, 0, 0, 1, 0, 0],\n       [0, 0, 0, 0, 0, 1, 0, 0, 0, 0, 0, 0, 0, 0, 1, 0],\n       [1, 0, 0, 0, 0, 0, 0, 0, 1, 0, 0, 0, 0, 0, 0, 0],\n       [0, 0, 0, 0, 0, 1, 0, 0, 0, 0, 0, 0, 0, 0, 1, 0],\n       [0, 0, 0, 0, 0, 1, 0, 0, 0, 0, 0, 0, 0, 0, 1, 0],\n       [0, 0, 0, 0, 0, 1, 0, 0, 0, 0, 0, 0, 0, 0, 1, 0],\n       [0, 0, 0, 0, 0, 1, 0, 0, 0, 0, 0, 0, 0, 0, 1, 0],\n       [1, 0, 0, 0, 0, 0, 0, 0, 1, 0, 0, 0, 0, 0, 0, 0],\n       [0, 0, 0, 0, 0, 1, 0, 0, 0, 0, 0, 0, 0, 0, 1, 0],\n       [1, 0, 0, 0, 0, 0, 0, 0, 0, 0, 0, 0, 0, 1, 0, 0],\n       [0, 0, 0, 0, 0, 1, 0, 0, 0, 0, 0, 0, 0, 0, 1, 0],\n       [1, 0, 0, 0, 0, 0, 0, 0, 0, 0, 0, 0, 0, 1, 0, 0],\n       [1, 0, 0, 0, 0, 0, 0, 0, 1, 0, 0, 0, 0, 0, 0, 0],\n       [0, 0, 0, 0, 0, 1, 0, 0, 0, 0, 0, 0, 0, 0, 1, 0],\n       [1, 0, 0, 0, 0, 0, 0, 0, 1, 0, 0, 0, 0, 0, 0, 0],\n       [1, 0, 0, 0, 0, 0, 0, 0, 1, 0, 0, 0, 0, 0, 0, 0],\n       [1, 0, 0, 0, 0, 0, 0, 0, 0, 0, 0, 0, 0, 1, 0, 0],\n       [1, 0, 0, 0, 0, 0, 0, 0, 0, 0, 0, 0, 0, 1, 0, 0],\n       [1, 0, 0, 0, 0, 0, 0, 0, 0, 0, 0, 0, 0, 1, 0, 0],\n       [1, 0, 0, 0, 0, 0, 0, 0, 0, 0, 0, 0, 0, 1, 0, 0],\n       [1, 0, 0, 0, 0, 0, 0, 0, 1, 0, 0, 0, 0, 0, 0, 0],\n       [1, 0, 0, 0, 0, 0, 0, 0, 1, 0, 0, 0, 0, 0, 0, 0],\n       [1, 0, 0, 0, 0, 0, 0, 0, 0, 0, 0, 0, 0, 1, 0, 0]], dtype=uint8)"
     },
     "execution_count": null,
     "metadata": {},
     "output_type": "execute_result"
    }
   ],
   "source": [
    "example_dataset = train_data.create_tf_dataset_for_client(train_data.client_ids[0])\n",
    "\n",
    "example_element = next(iter(example_dataset))\n",
    "\n",
    "example_dataset.element_spec\n",
    "example_element[\"x\"].numpy()"
   ]
  },
  {
   "cell_type": "code",
   "execution_count": null,
   "metadata": {},
   "outputs": [
    {
     "data": {
      "text/plain": "array([[1, 0, 0, 0, 0, 0, 0, 0, 1, 0, 0, 0, 0, 0, 0, 0],\n       [0, 0, 0, 0, 0, 1, 0, 0, 0, 0, 0, 0, 0, 0, 1, 0],\n       [1, 0, 0, 0, 0, 0, 0, 0, 1, 0, 0, 0, 0, 0, 0, 0],\n       [0, 0, 0, 0, 0, 1, 0, 0, 0, 0, 0, 0, 0, 0, 1, 0],\n       [1, 0, 0, 0, 0, 0, 0, 0, 1, 0, 0, 0, 0, 0, 0, 0],\n       [1, 0, 0, 0, 0, 0, 0, 0, 0, 0, 0, 0, 0, 1, 0, 0],\n       [1, 0, 0, 0, 0, 0, 0, 0, 0, 0, 0, 0, 0, 1, 0, 0],\n       [1, 0, 0, 0, 0, 0, 0, 0, 1, 0, 0, 0, 0, 0, 0, 0],\n       [1, 0, 0, 0, 0, 0, 0, 0, 0, 0, 0, 0, 0, 1, 0, 0],\n       [1, 0, 0, 0, 0, 0, 0, 0, 0, 0, 0, 0, 0, 1, 0, 0],\n       [1, 0, 0, 0, 0, 0, 0, 0, 1, 0, 0, 0, 0, 0, 0, 0],\n       [0, 0, 0, 0, 0, 1, 0, 0, 0, 0, 0, 0, 0, 0, 1, 0],\n       [1, 0, 0, 0, 0, 0, 0, 0, 1, 0, 0, 0, 0, 0, 0, 0],\n       [1, 0, 0, 0, 0, 0, 0, 0, 0, 0, 0, 0, 0, 1, 0, 0],\n       [0, 0, 0, 0, 0, 1, 0, 0, 0, 0, 0, 0, 0, 0, 1, 0],\n       [0, 0, 0, 0, 0, 1, 0, 0, 0, 0, 0, 0, 0, 0, 1, 0],\n       [1, 0, 0, 0, 0, 0, 0, 0, 1, 0, 0, 0, 0, 0, 0, 0],\n       [0, 0, 0, 0, 0, 1, 0, 0, 0, 0, 0, 0, 0, 0, 1, 0],\n       [0, 0, 0, 0, 0, 1, 0, 0, 0, 0, 0, 0, 0, 0, 1, 0],\n       [0, 0, 0, 0, 0, 1, 0, 0, 0, 0, 0, 0, 0, 0, 1, 0],\n       [0, 0, 0, 0, 0, 1, 0, 0, 0, 0, 0, 0, 0, 0, 1, 0],\n       [1, 0, 0, 0, 0, 0, 0, 0, 1, 0, 0, 0, 0, 0, 0, 0],\n       [1, 0, 0, 0, 0, 0, 0, 0, 0, 0, 0, 0, 0, 1, 0, 0],\n       [1, 0, 0, 0, 0, 0, 0, 0, 1, 0, 0, 0, 0, 0, 0, 0],\n       [1, 0, 0, 0, 0, 0, 0, 0, 0, 0, 0, 0, 0, 1, 0, 0],\n       [1, 0, 0, 0, 0, 0, 0, 0, 0, 0, 0, 0, 0, 1, 0, 0],\n       [1, 0, 0, 0, 0, 0, 0, 0, 1, 0, 0, 0, 0, 0, 0, 0],\n       [1, 0, 0, 0, 0, 0, 0, 0, 0, 0, 0, 0, 0, 1, 0, 0],\n       [1, 0, 0, 0, 0, 0, 0, 0, 0, 0, 0, 0, 0, 1, 0, 0],\n       [1, 0, 0, 0, 0, 0, 0, 0, 0, 0, 0, 0, 0, 1, 0, 0],\n       [1, 0, 0, 0, 0, 0, 0, 0, 0, 0, 0, 0, 0, 1, 0, 0],\n       [0, 0, 0, 0, 0, 1, 0, 0, 0, 0, 0, 0, 0, 0, 1, 0]], dtype=uint8)"
     },
     "execution_count": null,
     "metadata": {},
     "output_type": "execute_result"
    }
   ],
   "source": [
    "example_element = next(iter(example_dataset))\n",
    "\n",
    "example_dataset.element_spec\n",
    "example_element[\"x\"].numpy()"
   ]
  },
  {
   "cell_type": "code",
   "execution_count": null,
   "metadata": {},
   "outputs": [],
   "source": []
  },
  {
   "cell_type": "markdown",
   "metadata": {},
   "source": [
    "## Create Federeted ML Process with TFF\n"
   ]
  },
  {
   "cell_type": "code",
   "execution_count": null,
   "metadata": {},
   "outputs": [],
   "source": [
    "# input layer\n",
    "def create_keras_model():\n",
    "    \"\"\"\n",
    "    Return new keras model instance\n",
    "    \"\"\"\n",
    "    visible = tf.keras.layers.Input(shape=(16,))\n",
    "\n",
    "    hidden1 = tf.keras.layers.Dense(256, name=\"l1linear\")(visible)\n",
    "    hidden2 = tf.keras.layers.Dense(18, activation=\"sigmoid\", name=\"l2sigmoid\")(hidden1)\n",
    "    output = tf.keras.layers.Dense(9, activation=\"softmax\", name=\"l3softmax\")(hidden2)\n",
    "    model = tf.keras.Model(inputs=visible, outputs=output)\n",
    "    return model"
   ]
  },
  {
   "cell_type": "code",
   "execution_count": null,
   "metadata": {},
   "outputs": [
    {
     "data": {
      "text/plain": "819"
     },
     "execution_count": null,
     "metadata": {},
     "output_type": "execute_result"
    }
   ],
   "source": [
    "input_size = 16\n",
    "l1_size = 18\n",
    "l2_size = 18\n",
    "l3_size = 9\n",
    "\n",
    "((input_size + 1) * l1_size + (l1_size + 1) * l2_size + (l2_size + 1) * l3_size)"
   ]
  },
  {
   "cell_type": "code",
   "execution_count": null,
   "metadata": {},
   "outputs": [],
   "source": [
    "def model_fn():\n",
    "    \"\"\"\n",
    "    Create tff model (keras model + data format + loss & metrics)\n",
    "    \"\"\"\n",
    "    # We _must_ create a new model here, and _not_ capture it from an external\n",
    "    # scope. TFF will call this within different graph contexts.\n",
    "    keras_model = create_keras_model()\n",
    "    return tff.learning.from_keras_model(\n",
    "        keras_model,\n",
    "        input_spec=collections.OrderedDict(\n",
    "            x=example_dataset.element_spec[\"x\"],\n",
    "            y=example_dataset.element_spec[\"y\"],\n",
    "        ),\n",
    "        loss=tf.keras.losses.SparseCategoricalCrossentropy(),\n",
    "        metrics=[tf.keras.metrics.SparseCategoricalAccuracy()],\n",
    "    )"
   ]
  },
  {
   "cell_type": "markdown",
   "metadata": {},
   "source": [
    "Create federated process:"
   ]
  },
  {
   "cell_type": "code",
   "execution_count": null,
   "metadata": {},
   "outputs": [],
   "source": [
    "iterative_process = tff.learning.build_federated_averaging_process(\n",
    "    model_fn,\n",
    "    client_optimizer_fn=lambda: tf.keras.optimizers.RMSprop(learning_rate=0.02),\n",
    "    server_optimizer_fn=lambda: tf.keras.optimizers.RMSprop(learning_rate=1.0),\n",
    ")"
   ]
  },
  {
   "cell_type": "markdown",
   "metadata": {},
   "source": [
    "Initialize:"
   ]
  },
  {
   "cell_type": "code",
   "execution_count": null,
   "metadata": {},
   "outputs": [
    {
     "name": "stdout",
     "output_type": "stream",
     "text": "WARNING:tensorflow:From /anaconda/envs/federated_customer_path/lib/python3.8/site-packages/tensorflow_federated/python/core/impl/compiler/tensorflow_computation_transformations.py:59: extract_sub_graph (from tensorflow.python.framework.graph_util_impl) is deprecated and will be removed in a future version.\nInstructions for updating:\nUse `tf.compat.v1.graph_util.extract_sub_graph`\n"
    },
    {
     "name": "stderr",
     "output_type": "stream",
     "text": "WARNING:tensorflow:From /anaconda/envs/federated_customer_path/lib/python3.8/site-packages/tensorflow_federated/python/core/impl/compiler/tensorflow_computation_transformations.py:59: extract_sub_graph (from tensorflow.python.framework.graph_util_impl) is deprecated and will be removed in a future version.\nInstructions for updating:\nUse `tf.compat.v1.graph_util.extract_sub_graph`\n"
    }
   ],
   "source": [
    "state = iterative_process.initialize()"
   ]
  },
  {
   "cell_type": "markdown",
   "metadata": {},
   "source": [
    "Create federated evaluation process (validation):"
   ]
  },
  {
   "cell_type": "code",
   "execution_count": null,
   "metadata": {},
   "outputs": [],
   "source": [
    "# evaluation\n",
    "evaluation = tff.learning.build_federated_evaluation(model_fn)"
   ]
  },
  {
   "cell_type": "code",
   "execution_count": null,
   "metadata": {},
   "outputs": [],
   "source": [
    "iterable = train_data.create_tf_dataset_for_client(train_data.client_ids[1])"
   ]
  },
  {
   "cell_type": "code",
   "execution_count": null,
   "metadata": {},
   "outputs": [
    {
     "data": {
      "text/plain": "OrderedDict([('x',\n              <tf.Tensor: shape=(20, 16), dtype=uint8, numpy=\n              array([[1, 0, 0, 0, 0, 0, 0, 0, 1, 0, 0, 0, 0, 0, 0, 0],\n                     [1, 0, 0, 0, 0, 0, 0, 0, 1, 0, 0, 0, 0, 0, 0, 0],\n                     [1, 0, 0, 0, 0, 0, 0, 0, 1, 0, 0, 0, 0, 0, 0, 0],\n                     [1, 0, 0, 0, 0, 0, 0, 0, 1, 0, 0, 0, 0, 0, 0, 0],\n                     [1, 0, 0, 0, 0, 0, 0, 0, 1, 0, 0, 0, 0, 0, 0, 0],\n                     [1, 0, 0, 0, 0, 0, 0, 0, 1, 0, 0, 0, 0, 0, 0, 0],\n                     [1, 0, 0, 0, 0, 0, 0, 0, 1, 0, 0, 0, 0, 0, 0, 0],\n                     [1, 0, 0, 0, 0, 0, 0, 0, 1, 0, 0, 0, 0, 0, 0, 0],\n                     [1, 0, 0, 0, 0, 0, 0, 0, 1, 0, 0, 0, 0, 0, 0, 0],\n                     [1, 0, 0, 0, 0, 0, 0, 0, 1, 0, 0, 0, 0, 0, 0, 0],\n                     [1, 0, 0, 0, 0, 0, 0, 0, 1, 0, 0, 0, 0, 0, 0, 0],\n                     [1, 0, 0, 0, 0, 0, 0, 0, 1, 0, 0, 0, 0, 0, 0, 0],\n                     [1, 0, 0, 0, 0, 0, 0, 0, 1, 0, 0, 0, 0, 0, 0, 0],\n                     [1, 0, 0, 0, 0, 0, 0, 0, 1, 0, 0, 0, 0, 0, 0, 0],\n                     [1, 0, 0, 0, 0, 0, 0, 0, 1, 0, 0, 0, 0, 0, 0, 0],\n                     [1, 0, 0, 0, 0, 0, 0, 0, 1, 0, 0, 0, 0, 0, 0, 0],\n                     [1, 0, 0, 0, 0, 0, 0, 0, 1, 0, 0, 0, 0, 0, 0, 0],\n                     [1, 0, 0, 0, 0, 0, 0, 0, 1, 0, 0, 0, 0, 0, 0, 0],\n                     [1, 0, 0, 0, 0, 0, 0, 0, 1, 0, 0, 0, 0, 0, 0, 0],\n                     [1, 0, 0, 0, 0, 0, 0, 0, 1, 0, 0, 0, 0, 0, 0, 0]], dtype=uint8)>),\n             ('y',\n              <tf.Tensor: shape=(20,), dtype=int32, numpy=\n              array([8, 8, 8, 8, 8, 8, 8, 8, 8, 8, 8, 8, 8, 8, 8, 8, 8, 8, 8, 8],\n                    dtype=int32)>)])"
     },
     "execution_count": null,
     "metadata": {},
     "output_type": "execute_result"
    }
   ],
   "source": [
    "d = next(iter(iterable))\n",
    "d"
   ]
  },
  {
   "cell_type": "code",
   "execution_count": null,
   "metadata": {},
   "outputs": [
    {
     "data": {
      "text/plain": "<PrefetchDataset shapes: OrderedDict([(x, (None, 16)), (y, (None,))]), types: OrderedDict([(x, tf.uint8), (y, tf.int32)])>"
     },
     "execution_count": null,
     "metadata": {},
     "output_type": "execute_result"
    }
   ],
   "source": [
    "train_data.create_tf_dataset_for_client(train_data.client_ids[0])"
   ]
  },
  {
   "cell_type": "code",
   "execution_count": null,
   "metadata": {},
   "outputs": [
    {
     "data": {
      "text/plain": "6134"
     },
     "execution_count": null,
     "metadata": {},
     "output_type": "execute_result"
    }
   ],
   "source": [
    "len(train_data.client_ids)"
   ]
  },
  {
   "cell_type": "code",
   "execution_count": null,
   "metadata": {},
   "outputs": [],
   "source": []
  },
  {
   "cell_type": "markdown",
   "metadata": {},
   "source": [
    "Function for loading client data in batches:"
   ]
  },
  {
   "cell_type": "code",
   "execution_count": null,
   "metadata": {},
   "outputs": [],
   "source": [
    "def batch_client_data(client_data, batch_size=BATCH_SIZE):\n",
    "    batch = [\n",
    "        client_data.create_tf_dataset_for_client(client_data.client_ids[idx])\n",
    "        for idx in np.random.choice(\n",
    "            np.arange(len(client_data.client_ids)), size=BATCH_SIZE\n",
    "        )\n",
    "    ]\n",
    "    return batch"
   ]
  },
  {
   "cell_type": "markdown",
   "metadata": {},
   "source": [
    "### Federated training & evaluation:"
   ]
  },
  {
   "cell_type": "code",
   "execution_count": null,
   "metadata": {},
   "outputs": [
    {
     "name": "stdout",
     "output_type": "stream",
     "text": "round  1, metrics=OrderedDict([('broadcast', ()), ('aggregation', OrderedDict([('mean_value', ()), ('mean_weight', ())])), ('train', OrderedDict([('sparse_categorical_accuracy', 0.608216), ('loss', 1.1541091)])), ('stat', OrderedDict([('num_examples', 4260)]))])\nfederated_update  1, metrics=OrderedDict([('broadcast', ()), ('aggregation', OrderedDict([('mean_value', ()), ('mean_weight', ())])), ('train', OrderedDict([('sparse_categorical_accuracy', 0.2537234), ('loss', 11.486003)])), ('stat', OrderedDict([('num_examples', 3760)]))])\nfederated_update  2, metrics=OrderedDict([('broadcast', ()), ('aggregation', OrderedDict([('mean_value', ()), ('mean_weight', ())])), ('train', OrderedDict([('sparse_categorical_accuracy', 0.12232143), ('loss', 11.277099)])), ('stat', OrderedDict([('num_examples', 3360)]))])\nfederated_update  3, metrics=OrderedDict([('broadcast', ()), ('aggregation', OrderedDict([('mean_value', ()), ('mean_weight', ())])), ('train', OrderedDict([('sparse_categorical_accuracy', 0.21725352), ('loss', 8.827074)])), ('stat', OrderedDict([('num_examples', 2840)]))])\nfederated_update  4, metrics=OrderedDict([('broadcast', ()), ('aggregation', OrderedDict([('mean_value', ()), ('mean_weight', ())])), ('train', OrderedDict([('sparse_categorical_accuracy', 0.13051948), ('loss', 9.977898)])), ('stat', OrderedDict([('num_examples', 3080)]))])\nfederated_update  5, metrics=OrderedDict([('broadcast', ()), ('aggregation', OrderedDict([('mean_value', ()), ('mean_weight', ())])), ('train', OrderedDict([('sparse_categorical_accuracy', 0.17928177), ('loss', 7.595474)])), ('stat', OrderedDict([('num_examples', 3620)]))])\nfederated_update  6, metrics=OrderedDict([('broadcast', ()), ('aggregation', OrderedDict([('mean_value', ()), ('mean_weight', ())])), ('train', OrderedDict([('sparse_categorical_accuracy', 0.16089743), ('loss', 9.552562)])), ('stat', OrderedDict([('num_examples', 3120)]))])\nfederated_update  7, metrics=OrderedDict([('broadcast', ()), ('aggregation', OrderedDict([('mean_value', ()), ('mean_weight', ())])), ('train', OrderedDict([('sparse_categorical_accuracy', 0.28206897), ('loss', 9.718163)])), ('stat', OrderedDict([('num_examples', 2900)]))])\nfederated_update  8, metrics=OrderedDict([('broadcast', ()), ('aggregation', OrderedDict([('mean_value', ()), ('mean_weight', ())])), ('train', OrderedDict([('sparse_categorical_accuracy', 0.1560606), ('loss', 8.446747)])), ('stat', OrderedDict([('num_examples', 3960)]))])\nfederated_update  9, metrics=OrderedDict([('broadcast', ()), ('aggregation', OrderedDict([('mean_value', ()), ('mean_weight', ())])), ('train', OrderedDict([('sparse_categorical_accuracy', 0.27861446), ('loss', 8.003144)])), ('stat', OrderedDict([('num_examples', 3320)]))])\nfederated_update  10, metrics=OrderedDict([('broadcast', ()), ('aggregation', OrderedDict([('mean_value', ()), ('mean_weight', ())])), ('train', OrderedDict([('sparse_categorical_accuracy', 0.2787037), ('loss', 5.8507204)])), ('stat', OrderedDict([('num_examples', 2160)]))])\nfederated_update  11, metrics=OrderedDict([('broadcast', ()), ('aggregation', OrderedDict([('mean_value', ()), ('mean_weight', ())])), ('train', OrderedDict([('sparse_categorical_accuracy', 0.16580883), ('loss', 8.689862)])), ('stat', OrderedDict([('num_examples', 2720)]))])\nfederated_update  12, metrics=OrderedDict([('broadcast', ()), ('aggregation', OrderedDict([('mean_value', ()), ('mean_weight', ())])), ('train', OrderedDict([('sparse_categorical_accuracy', 0.13874172), ('loss', 7.057915)])), ('stat', OrderedDict([('num_examples', 3020)]))])\nfederated_update  13, metrics=OrderedDict([('broadcast', ()), ('aggregation', OrderedDict([('mean_value', ()), ('mean_weight', ())])), ('train', OrderedDict([('sparse_categorical_accuracy', 0.22091503), ('loss', 9.496842)])), ('stat', OrderedDict([('num_examples', 3060)]))])\nfederated_update  14, metrics=OrderedDict([('broadcast', ()), ('aggregation', OrderedDict([('mean_value', ()), ('mean_weight', ())])), ('train', OrderedDict([('sparse_categorical_accuracy', 0.21476685), ('loss', 6.3877153)])), ('stat', OrderedDict([('num_examples', 3860)]))])\nfederated_update  15, metrics=OrderedDict([('broadcast', ()), ('aggregation', OrderedDict([('mean_value', ()), ('mean_weight', ())])), ('train', OrderedDict([('sparse_categorical_accuracy', 0.19924812), ('loss', 9.367715)])), ('stat', OrderedDict([('num_examples', 2660)]))])\nfederated_update  16, metrics=OrderedDict([('broadcast', ()), ('aggregation', OrderedDict([('mean_value', ()), ('mean_weight', ())])), ('train', OrderedDict([('sparse_categorical_accuracy', 0.18120568), ('loss', 5.106866)])), ('stat', OrderedDict([('num_examples', 2820)]))])\nfederated_update  17, metrics=OrderedDict([('broadcast', ()), ('aggregation', OrderedDict([('mean_value', ()), ('mean_weight', ())])), ('train', OrderedDict([('sparse_categorical_accuracy', 0.21598984), ('loss', 8.043041)])), ('stat', OrderedDict([('num_examples', 3940)]))])\nfederated_update  18, metrics=OrderedDict([('broadcast', ()), ('aggregation', OrderedDict([('mean_value', ()), ('mean_weight', ())])), ('train', OrderedDict([('sparse_categorical_accuracy', 0.13414635), ('loss', 10.113278)])), ('stat', OrderedDict([('num_examples', 2460)]))])\nfederated_update  19, metrics=OrderedDict([('broadcast', ()), ('aggregation', OrderedDict([('mean_value', ()), ('mean_weight', ())])), ('train', OrderedDict([('sparse_categorical_accuracy', 0.25150603), ('loss', 7.170433)])), ('stat', OrderedDict([('num_examples', 3320)]))])\nfederated_update  20, metrics=OrderedDict([('broadcast', ()), ('aggregation', OrderedDict([('mean_value', ()), ('mean_weight', ())])), ('train', OrderedDict([('sparse_categorical_accuracy', 0.16024844), ('loss', 6.522927)])), ('stat', OrderedDict([('num_examples', 3220)]))])\nfederated_update  21, metrics=OrderedDict([('broadcast', ()), ('aggregation', OrderedDict([('mean_value', ()), ('mean_weight', ())])), ('train', OrderedDict([('sparse_categorical_accuracy', 0.22810458), ('loss', 7.751923)])), ('stat', OrderedDict([('num_examples', 3060)]))])\nfederated_update  22, metrics=OrderedDict([('broadcast', ()), ('aggregation', OrderedDict([('mean_value', ()), ('mean_weight', ())])), ('train', OrderedDict([('sparse_categorical_accuracy', 0.2484127), ('loss', 5.9915247)])), ('stat', OrderedDict([('num_examples', 2520)]))])\nfederated_update  23, metrics=OrderedDict([('broadcast', ()), ('aggregation', OrderedDict([('mean_value', ()), ('mean_weight', ())])), ('train', OrderedDict([('sparse_categorical_accuracy', 0.23203126), ('loss', 5.793689)])), ('stat', OrderedDict([('num_examples', 2560)]))])\nfederated_update  24, metrics=OrderedDict([('broadcast', ()), ('aggregation', OrderedDict([('mean_value', ()), ('mean_weight', ())])), ('train', OrderedDict([('sparse_categorical_accuracy', 0.14913043), ('loss', 8.7284)])), ('stat', OrderedDict([('num_examples', 2300)]))])\nfederated_update  25, metrics=OrderedDict([('broadcast', ()), ('aggregation', OrderedDict([('mean_value', ()), ('mean_weight', ())])), ('train', OrderedDict([('sparse_categorical_accuracy', 0.291), ('loss', 5.592342)])), ('stat', OrderedDict([('num_examples', 3000)]))])\nfederated_update  26, metrics=OrderedDict([('broadcast', ()), ('aggregation', OrderedDict([('mean_value', ()), ('mean_weight', ())])), ('train', OrderedDict([('sparse_categorical_accuracy', 0.11875), ('loss', 9.297412)])), ('stat', OrderedDict([('num_examples', 2080)]))])\nfederated_update  27, metrics=OrderedDict([('broadcast', ()), ('aggregation', OrderedDict([('mean_value', ()), ('mean_weight', ())])), ('train', OrderedDict([('sparse_categorical_accuracy', 0.25993377), ('loss', 5.259574)])), ('stat', OrderedDict([('num_examples', 3020)]))])\nfederated_update  28, metrics=OrderedDict([('broadcast', ()), ('aggregation', OrderedDict([('mean_value', ()), ('mean_weight', ())])), ('train', OrderedDict([('sparse_categorical_accuracy', 0.14293194), ('loss', 6.614023)])), ('stat', OrderedDict([('num_examples', 3820)]))])\nfederated_update  29, metrics=OrderedDict([('broadcast', ()), ('aggregation', OrderedDict([('mean_value', ()), ('mean_weight', ())])), ('train', OrderedDict([('sparse_categorical_accuracy', 0.18896551), ('loss', 10.513029)])), ('stat', OrderedDict([('num_examples', 2900)]))])\nfederated_update  30, metrics=OrderedDict([('broadcast', ()), ('aggregation', OrderedDict([('mean_value', ()), ('mean_weight', ())])), ('train', OrderedDict([('sparse_categorical_accuracy', 0.17716049), ('loss', 7.3284783)])), ('stat', OrderedDict([('num_examples', 3240)]))])\n"
    },
    {
     "data": {
      "text/html": "<div>\n<style scoped>\n    .dataframe tbody tr th:only-of-type {\n        vertical-align: middle;\n    }\n\n    .dataframe tbody tr th {\n        vertical-align: top;\n    }\n\n    .dataframe thead th {\n        text-align: right;\n    }\n</style>\n<table border=\"1\" class=\"dataframe\">\n  <thead>\n    <tr style=\"text-align: right;\">\n      <th></th>\n      <th>train_loss</th>\n      <th>train_accuracy</th>\n      <th>train_size</th>\n      <th>test_loss</th>\n      <th>test_accuracy</th>\n    </tr>\n    <tr>\n      <th>federated_update</th>\n      <th></th>\n      <th></th>\n      <th></th>\n      <th></th>\n      <th></th>\n    </tr>\n  </thead>\n  <tbody>\n    <tr>\n      <th>0</th>\n      <td>1.154109</td>\n      <td>0.608216</td>\n      <td>4260</td>\n      <td>12.718521</td>\n      <td>0.162011</td>\n    </tr>\n    <tr>\n      <th>1</th>\n      <td>11.486003</td>\n      <td>0.253723</td>\n      <td>3760</td>\n      <td>11.410460</td>\n      <td>0.132743</td>\n    </tr>\n    <tr>\n      <th>2</th>\n      <td>11.277099</td>\n      <td>0.122321</td>\n      <td>3360</td>\n      <td>8.308939</td>\n      <td>0.171642</td>\n    </tr>\n    <tr>\n      <th>3</th>\n      <td>8.827074</td>\n      <td>0.217254</td>\n      <td>2840</td>\n      <td>10.985971</td>\n      <td>0.121429</td>\n    </tr>\n    <tr>\n      <th>4</th>\n      <td>9.977898</td>\n      <td>0.130519</td>\n      <td>3080</td>\n      <td>8.811869</td>\n      <td>0.144928</td>\n    </tr>\n    <tr>\n      <th>5</th>\n      <td>7.595474</td>\n      <td>0.179282</td>\n      <td>3620</td>\n      <td>10.126745</td>\n      <td>0.183673</td>\n    </tr>\n    <tr>\n      <th>6</th>\n      <td>9.552562</td>\n      <td>0.160897</td>\n      <td>3120</td>\n      <td>12.015807</td>\n      <td>0.162791</td>\n    </tr>\n    <tr>\n      <th>7</th>\n      <td>9.718163</td>\n      <td>0.282069</td>\n      <td>2900</td>\n      <td>9.806708</td>\n      <td>0.142045</td>\n    </tr>\n    <tr>\n      <th>8</th>\n      <td>8.446747</td>\n      <td>0.156061</td>\n      <td>3960</td>\n      <td>8.814686</td>\n      <td>0.241935</td>\n    </tr>\n    <tr>\n      <th>9</th>\n      <td>8.003144</td>\n      <td>0.278614</td>\n      <td>3320</td>\n      <td>7.505780</td>\n      <td>0.205479</td>\n    </tr>\n    <tr>\n      <th>10</th>\n      <td>5.850720</td>\n      <td>0.278704</td>\n      <td>2160</td>\n      <td>8.326336</td>\n      <td>0.184783</td>\n    </tr>\n    <tr>\n      <th>11</th>\n      <td>8.689862</td>\n      <td>0.165809</td>\n      <td>2720</td>\n      <td>7.861428</td>\n      <td>0.165605</td>\n    </tr>\n    <tr>\n      <th>12</th>\n      <td>7.057915</td>\n      <td>0.138742</td>\n      <td>3020</td>\n      <td>10.974699</td>\n      <td>0.212121</td>\n    </tr>\n    <tr>\n      <th>13</th>\n      <td>9.496842</td>\n      <td>0.220915</td>\n      <td>3060</td>\n      <td>8.397317</td>\n      <td>0.147287</td>\n    </tr>\n    <tr>\n      <th>14</th>\n      <td>6.387715</td>\n      <td>0.214767</td>\n      <td>3860</td>\n      <td>10.067312</td>\n      <td>0.210227</td>\n    </tr>\n    <tr>\n      <th>15</th>\n      <td>9.367715</td>\n      <td>0.199248</td>\n      <td>2660</td>\n      <td>6.559236</td>\n      <td>0.160714</td>\n    </tr>\n    <tr>\n      <th>16</th>\n      <td>5.106866</td>\n      <td>0.181206</td>\n      <td>2820</td>\n      <td>8.329330</td>\n      <td>0.230769</td>\n    </tr>\n    <tr>\n      <th>17</th>\n      <td>8.043041</td>\n      <td>0.215990</td>\n      <td>3940</td>\n      <td>12.037640</td>\n      <td>0.094891</td>\n    </tr>\n    <tr>\n      <th>18</th>\n      <td>10.113278</td>\n      <td>0.134146</td>\n      <td>2460</td>\n      <td>8.211611</td>\n      <td>0.197080</td>\n    </tr>\n    <tr>\n      <th>19</th>\n      <td>7.170433</td>\n      <td>0.251506</td>\n      <td>3320</td>\n      <td>8.171766</td>\n      <td>0.105882</td>\n    </tr>\n    <tr>\n      <th>20</th>\n      <td>6.522927</td>\n      <td>0.160248</td>\n      <td>3220</td>\n      <td>9.099100</td>\n      <td>0.184615</td>\n    </tr>\n    <tr>\n      <th>21</th>\n      <td>7.751923</td>\n      <td>0.228105</td>\n      <td>3060</td>\n      <td>6.991352</td>\n      <td>0.181287</td>\n    </tr>\n    <tr>\n      <th>22</th>\n      <td>5.991525</td>\n      <td>0.248413</td>\n      <td>2520</td>\n      <td>7.212708</td>\n      <td>0.179641</td>\n    </tr>\n    <tr>\n      <th>23</th>\n      <td>5.793689</td>\n      <td>0.232031</td>\n      <td>2560</td>\n      <td>8.566303</td>\n      <td>0.114286</td>\n    </tr>\n    <tr>\n      <th>24</th>\n      <td>8.728400</td>\n      <td>0.149130</td>\n      <td>2300</td>\n      <td>6.102575</td>\n      <td>0.300813</td>\n    </tr>\n    <tr>\n      <th>25</th>\n      <td>5.592342</td>\n      <td>0.291000</td>\n      <td>3000</td>\n      <td>9.452503</td>\n      <td>0.116402</td>\n    </tr>\n    <tr>\n      <th>26</th>\n      <td>9.297412</td>\n      <td>0.118750</td>\n      <td>2080</td>\n      <td>6.201462</td>\n      <td>0.254237</td>\n    </tr>\n    <tr>\n      <th>27</th>\n      <td>5.259574</td>\n      <td>0.259934</td>\n      <td>3020</td>\n      <td>8.821965</td>\n      <td>0.127517</td>\n    </tr>\n    <tr>\n      <th>28</th>\n      <td>6.614023</td>\n      <td>0.142932</td>\n      <td>3820</td>\n      <td>9.402834</td>\n      <td>0.293233</td>\n    </tr>\n    <tr>\n      <th>29</th>\n      <td>10.513029</td>\n      <td>0.188966</td>\n      <td>2900</td>\n      <td>9.329738</td>\n      <td>0.089552</td>\n    </tr>\n    <tr>\n      <th>30</th>\n      <td>7.328478</td>\n      <td>0.177160</td>\n      <td>3240</td>\n      <td>7.000681</td>\n      <td>0.245714</td>\n    </tr>\n  </tbody>\n</table>\n</div>",
      "text/plain": "                  train_loss  train_accuracy  train_size  test_loss  \\\nfederated_update                                                      \n0                   1.154109        0.608216        4260  12.718521   \n1                  11.486003        0.253723        3760  11.410460   \n2                  11.277099        0.122321        3360   8.308939   \n3                   8.827074        0.217254        2840  10.985971   \n4                   9.977898        0.130519        3080   8.811869   \n5                   7.595474        0.179282        3620  10.126745   \n6                   9.552562        0.160897        3120  12.015807   \n7                   9.718163        0.282069        2900   9.806708   \n8                   8.446747        0.156061        3960   8.814686   \n9                   8.003144        0.278614        3320   7.505780   \n10                  5.850720        0.278704        2160   8.326336   \n11                  8.689862        0.165809        2720   7.861428   \n12                  7.057915        0.138742        3020  10.974699   \n13                  9.496842        0.220915        3060   8.397317   \n14                  6.387715        0.214767        3860  10.067312   \n15                  9.367715        0.199248        2660   6.559236   \n16                  5.106866        0.181206        2820   8.329330   \n17                  8.043041        0.215990        3940  12.037640   \n18                 10.113278        0.134146        2460   8.211611   \n19                  7.170433        0.251506        3320   8.171766   \n20                  6.522927        0.160248        3220   9.099100   \n21                  7.751923        0.228105        3060   6.991352   \n22                  5.991525        0.248413        2520   7.212708   \n23                  5.793689        0.232031        2560   8.566303   \n24                  8.728400        0.149130        2300   6.102575   \n25                  5.592342        0.291000        3000   9.452503   \n26                  9.297412        0.118750        2080   6.201462   \n27                  5.259574        0.259934        3020   8.821965   \n28                  6.614023        0.142932        3820   9.402834   \n29                 10.513029        0.188966        2900   9.329738   \n30                  7.328478        0.177160        3240   7.000681   \n\n                  test_accuracy  \nfederated_update                 \n0                      0.162011  \n1                      0.132743  \n2                      0.171642  \n3                      0.121429  \n4                      0.144928  \n5                      0.183673  \n6                      0.162791  \n7                      0.142045  \n8                      0.241935  \n9                      0.205479  \n10                     0.184783  \n11                     0.165605  \n12                     0.212121  \n13                     0.147287  \n14                     0.210227  \n15                     0.160714  \n16                     0.230769  \n17                     0.094891  \n18                     0.197080  \n19                     0.105882  \n20                     0.184615  \n21                     0.181287  \n22                     0.179641  \n23                     0.114286  \n24                     0.300813  \n25                     0.116402  \n26                     0.254237  \n27                     0.127517  \n28                     0.293233  \n29                     0.089552  \n30                     0.245714  "
     },
     "execution_count": null,
     "metadata": {},
     "output_type": "execute_result"
    }
   ],
   "source": [
    "state, train_metrics = iterative_process.next(state, batch_client_data(train_data))\n",
    "test_metrics = evaluation(state.model, batch_client_data(test_data))\n",
    "\n",
    "print(\"round  1, metrics={}\".format(train_metrics))\n",
    "\n",
    "metrics_df = pd.DataFrame(\n",
    "    {\n",
    "        \"federated_update\": [0],\n",
    "        \"train_loss\": [train_metrics[\"train\"][\"loss\"]],\n",
    "        \"train_accuracy\": [train_metrics[\"train\"][\"sparse_categorical_accuracy\"]],\n",
    "        \"train_size\": [train_metrics[\"stat\"][\"num_examples\"]],\n",
    "        \"test_loss\": [test_metrics[\"loss\"]],\n",
    "        \"test_accuracy\": [test_metrics[\"sparse_categorical_accuracy\"]],\n",
    "    }\n",
    ")  # , 'test_loss': float, 'test_size':int})\n",
    "\n",
    "for i in range(FEDERATED_UPDATES):\n",
    "    state, train_metrics = iterative_process.next(state, batch_client_data(train_data))\n",
    "    test_metrics = evaluation(state.model, batch_client_data(test_data))\n",
    "    metrics_df = pd.concat(\n",
    "        (\n",
    "            metrics_df,\n",
    "            pd.DataFrame(\n",
    "                {\n",
    "                    \"federated_update\": [i + 1],\n",
    "                    \"train_loss\": [train_metrics[\"train\"][\"loss\"]],\n",
    "                    \"train_accuracy\": [\n",
    "                        train_metrics[\"train\"][\"sparse_categorical_accuracy\"]\n",
    "                    ],\n",
    "                    \"train_size\": [train_metrics[\"stat\"][\"num_examples\"]],\n",
    "                    \"test_loss\": [test_metrics[\"loss\"]],\n",
    "                    \"test_accuracy\": [test_metrics[\"sparse_categorical_accuracy\"]],\n",
    "                }\n",
    "            ),\n",
    "        ),\n",
    "        axis=0,\n",
    "    )\n",
    "    print(\"federated_update  {}, metrics={}\".format(i + 1, train_metrics))\n",
    "metrics_df.set_index(\"federated_update\", drop=True, inplace=True)\n",
    "metrics_df"
   ]
  },
  {
   "cell_type": "code",
   "execution_count": null,
   "metadata": {},
   "outputs": [],
   "source": []
  },
  {
   "cell_type": "markdown",
   "metadata": {},
   "source": [
    "Plot results:"
   ]
  },
  {
   "cell_type": "code",
   "execution_count": null,
   "metadata": {},
   "outputs": [
    {
     "data": {
      "text/plain": "(0.0, 13.296741718053818)"
     },
     "execution_count": null,
     "metadata": {},
     "output_type": "execute_result"
    },
    {
     "data": {
      "image/png": "[encoded data removed]",
      "text/plain": "<Figure size 432x288 with 1 Axes>"
     },
     "metadata": {
      "needs_background": "light"
     },
     "output_type": "display_data"
    }
   ],
   "source": [
    "fig, ax = plt.subplots(1, constrained_layout=True)\n",
    "metrics_df.plot(ax=ax, y=[\"train_loss\", \"test_loss\"])\n",
    "ax.set_ylabel(\"loss (sparse_categorical_crossentropy)\")\n",
    "ax.spines[\"top\"].set_visible(False)\n",
    "ax.spines[\"right\"].set_visible(False)\n",
    "ax.set_ylim(ymin=0)"
   ]
  },
  {
   "cell_type": "code",
   "execution_count": null,
   "metadata": {},
   "outputs": [
    {
     "data": {
      "text/plain": "(0.0, 1.0)"
     },
     "execution_count": null,
     "metadata": {},
     "output_type": "execute_result"
    },
    {
     "data": {
      "image/png": "[encoded data removed]",
      "text/plain": "<Figure size 432x288 with 1 Axes>"
     },
     "metadata": {
      "needs_background": "light"
     },
     "output_type": "display_data"
    }
   ],
   "source": [
    "fig, ax = plt.subplots(1, constrained_layout=True)\n",
    "metrics_df.plot(ax=ax, y=[\"train_accuracy\", \"test_accuracy\"])\n",
    "ax.axhline(1 / 8, linestyle=\"--\", color=\"r\", label=\"baseline (random quessing)\")\n",
    "ax.legend()\n",
    "ax.spines[\"top\"].set_visible(False)\n",
    "ax.spines[\"right\"].set_visible(False)\n",
    "ax.set_ylim(0, 1)"
   ]
  },
  {
   "cell_type": "markdown",
   "metadata": {},
   "source": [
    "## Conclusions"
   ]
  }
 ],
 "metadata": {
  "kernelspec": {
   "display_name": "Python 3.8 (fcp)",
   "language": "python",
   "name": "federated_customer_path"
  }
 },
 "nbformat": 4,
 "nbformat_minor": 4
}
