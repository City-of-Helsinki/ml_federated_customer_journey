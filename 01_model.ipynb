{
 "cells": [
  {
   "cell_type": "code",
   "execution_count": null,
   "metadata": {},
   "outputs": [],
   "source": [
    "# default_exp model\n",
    "%load_ext lab_black\n",
    "# nb_black if running in jupyter\n",
    "%load_ext autoreload\n",
    "# automatically reload python modules if there are changes in the\n",
    "%autoreload 2"
   ]
  },
  {
   "cell_type": "code",
   "execution_count": null,
   "metadata": {},
   "outputs": [],
   "source": [
    "# hide\n",
    "from nbdev.showdoc import *"
   ]
  },
  {
   "cell_type": "markdown",
   "metadata": {},
   "source": [
    "# Model\r\n",
    "\r\n",
    "> In this notebook you create and test a Python class to hold your machine learning model."
   ]
  },
  {
   "cell_type": "markdown",
   "metadata": {},
   "source": [
    "***input***: toy dataset from data-notebook\n",
    "\n",
    "***output***: TFF model for predicting customer paths \n",
    "\n",
    "***description:***\n",
    "\n",
    "Model for simulating federated learning on predicting customer paths."
   ]
  },
  {
   "cell_type": "markdown",
   "metadata": {},
   "source": [
    "## Import relevant modules"
   ]
  },
  {
   "cell_type": "code",
   "execution_count": null,
   "metadata": {},
   "outputs": [],
   "source": [
    "# tensorflow_federated_nightly also bring in tf_nightly, which\n",
    "# can causes a duplicate tensorboard install, leading to errors.\n",
    "#!pip uninstall --yes tensorboard tb-nightly\n",
    "\n",
    "#!pip install --quiet --upgrade tensorflow-federated-nightly\n",
    "#!pip install --quiet --upgrade nest-asyncio\n",
    "#!pip install --quiet --upgrade tb-nightly  # or tensorboard, but not both"
   ]
  },
  {
   "cell_type": "code",
   "execution_count": null,
   "metadata": {},
   "outputs": [],
   "source": [
    "# export\n",
    "import numpy as np\n",
    "\n",
    "import nest_asyncio\n",
    "\n",
    "nest_asyncio.apply()"
   ]
  },
  {
   "cell_type": "code",
   "execution_count": null,
   "metadata": {},
   "outputs": [],
   "source": [
    "%load_ext tensorboard"
   ]
  },
  {
   "cell_type": "code",
   "execution_count": null,
   "metadata": {},
   "outputs": [
    {
     "data": {
      "text/plain": "b'Hello, World!'"
     },
     "execution_count": null,
     "metadata": {},
     "output_type": "execute_result"
    }
   ],
   "source": [
    "import collections\n",
    "\n",
    "import numpy as np\n",
    "import tensorflow as tf\n",
    "import tensorflow_federated as tff\n",
    "\n",
    "train_test_client_split = tff.simulation.datasets.ClientData.train_test_client_split\n",
    "\n",
    "tff.federated_computation(lambda: \"Hello, World!\")()"
   ]
  },
  {
   "cell_type": "code",
   "execution_count": null,
   "metadata": {},
   "outputs": [],
   "source": [
    "import matplotlib.pyplot as plt\n",
    "from pyarrow import feather\n",
    "import pandas as pd"
   ]
  },
  {
   "cell_type": "code",
   "execution_count": null,
   "metadata": {},
   "outputs": [],
   "source": [
    "from ml_federated_customer_path.data import create_tff_client_data_from_df"
   ]
  },
  {
   "cell_type": "markdown",
   "metadata": {},
   "source": [
    "## Define notebook parameters\r\n",
    "\r\n",
    "Remember, only simple assignments here!"
   ]
  },
  {
   "cell_type": "code",
   "execution_count": null,
   "metadata": {},
   "outputs": [],
   "source": [
    "# this cell is tagged with 'parameters'\n",
    "seed = 0\n",
    "data_filepath = \"data/preprocessed_data/data.f\"\n",
    "test_split = 0.2\n",
    "toy_size = 0.1\n",
    "\n",
    "NUM_CLIENTS = 10\n",
    "NUM_EPOCHS = 20\n",
    "BATCH_SIZE = 32\n",
    "SHUFFLE_BUFFER = 100\n",
    "PREFETCH_BUFFER = 32\n",
    "FEDERATED_UPDATES = 20"
   ]
  },
  {
   "cell_type": "markdown",
   "metadata": {},
   "source": [
    "Make immediate derivations from the parameters:"
   ]
  },
  {
   "cell_type": "code",
   "execution_count": null,
   "metadata": {},
   "outputs": [],
   "source": [
    "np.random.seed(seed)\n",
    "tf.random.set_seed(seed)"
   ]
  },
  {
   "cell_type": "markdown",
   "metadata": {},
   "source": [
    "## Import toy data for testing"
   ]
  },
  {
   "cell_type": "code",
   "execution_count": null,
   "metadata": {},
   "outputs": [
    {
     "data": {
      "text/html": "<div>\n<style scoped>\n    .dataframe tbody tr th:only-of-type {\n        vertical-align: middle;\n    }\n\n    .dataframe tbody tr th {\n        vertical-align: top;\n    }\n\n    .dataframe thead th {\n        text-align: right;\n    }\n</style>\n<table border=\"1\" class=\"dataframe\">\n  <thead>\n    <tr style=\"text-align: right;\">\n      <th></th>\n      <th>client_id</th>\n      <th>x</th>\n      <th>y</th>\n    </tr>\n  </thead>\n  <tbody>\n    <tr>\n      <th>0</th>\n      <td>0</td>\n      <td>[0, 1, 0, 0, 0, 0, 0, 0, 0]</td>\n      <td>5</td>\n    </tr>\n    <tr>\n      <th>1</th>\n      <td>0</td>\n      <td>[1, 0, 0, 0, 0, 0, 1, 0, 0]</td>\n      <td>6</td>\n    </tr>\n    <tr>\n      <th>2</th>\n      <td>0</td>\n      <td>[2, 0, 0, 0, 0, 0, 0, 1, 0]</td>\n      <td>1</td>\n    </tr>\n    <tr>\n      <th>3</th>\n      <td>0</td>\n      <td>[3, 0, 1, 0, 0, 0, 0, 0, 0]</td>\n      <td>8</td>\n    </tr>\n    <tr>\n      <th>4</th>\n      <td>1</td>\n      <td>[0, 1, 0, 0, 0, 0, 0, 0, 0]</td>\n      <td>5</td>\n    </tr>\n    <tr>\n      <th>...</th>\n      <td>...</td>\n      <td>...</td>\n      <td>...</td>\n    </tr>\n    <tr>\n      <th>45507</th>\n      <td>9999</td>\n      <td>[27, 0, 0, 0, 0, 0, 0, 1, 0]</td>\n      <td>5</td>\n    </tr>\n    <tr>\n      <th>45508</th>\n      <td>9999</td>\n      <td>[28, 0, 0, 0, 0, 0, 1, 0, 0]</td>\n      <td>6</td>\n    </tr>\n    <tr>\n      <th>45509</th>\n      <td>9999</td>\n      <td>[29, 0, 0, 0, 0, 0, 0, 1, 0]</td>\n      <td>2</td>\n    </tr>\n    <tr>\n      <th>45510</th>\n      <td>9999</td>\n      <td>[30, 0, 0, 1, 0, 0, 0, 0, 0]</td>\n      <td>1</td>\n    </tr>\n    <tr>\n      <th>45511</th>\n      <td>9999</td>\n      <td>[31, 0, 1, 0, 0, 0, 0, 0, 0]</td>\n      <td>8</td>\n    </tr>\n  </tbody>\n</table>\n<p>45512 rows × 3 columns</p>\n</div>",
      "text/plain": "       client_id                             x  y\n0              0   [0, 1, 0, 0, 0, 0, 0, 0, 0]  5\n1              0   [1, 0, 0, 0, 0, 0, 1, 0, 0]  6\n2              0   [2, 0, 0, 0, 0, 0, 0, 1, 0]  1\n3              0   [3, 0, 1, 0, 0, 0, 0, 0, 0]  8\n4              1   [0, 1, 0, 0, 0, 0, 0, 0, 0]  5\n...          ...                           ... ..\n45507       9999  [27, 0, 0, 0, 0, 0, 0, 1, 0]  5\n45508       9999  [28, 0, 0, 0, 0, 0, 1, 0, 0]  6\n45509       9999  [29, 0, 0, 0, 0, 0, 0, 1, 0]  2\n45510       9999  [30, 0, 0, 1, 0, 0, 0, 0, 0]  1\n45511       9999  [31, 0, 1, 0, 0, 0, 0, 0, 0]  8\n\n[45512 rows x 3 columns]"
     },
     "execution_count": null,
     "metadata": {},
     "output_type": "execute_result"
    }
   ],
   "source": [
    "df = feather.read_feather(data_filepath)\n",
    "df"
   ]
  },
  {
   "cell_type": "markdown",
   "metadata": {},
   "source": [
    "Convert into tff ClientData (training + testing datasets):"
   ]
  },
  {
   "cell_type": "code",
   "execution_count": null,
   "metadata": {},
   "outputs": [],
   "source": [
    "client_data = create_tff_client_data_from_df(df, sample_size=1)  # 0.1)\n",
    "train_data, test_data = train_test_client_split(\n",
    "    client_data, int(toy_size * df.client_id.nunique() * test_split)\n",
    ")"
   ]
  },
  {
   "cell_type": "code",
   "execution_count": null,
   "metadata": {},
   "outputs": [
    {
     "data": {
      "text/plain": "6134"
     },
     "execution_count": null,
     "metadata": {},
     "output_type": "execute_result"
    }
   ],
   "source": [
    "len(train_data.client_ids)"
   ]
  },
  {
   "cell_type": "code",
   "execution_count": null,
   "metadata": {},
   "outputs": [
    {
     "data": {
      "text/plain": "200"
     },
     "execution_count": null,
     "metadata": {},
     "output_type": "execute_result"
    }
   ],
   "source": [
    "len(test_data.client_ids)"
   ]
  },
  {
   "cell_type": "markdown",
   "metadata": {},
   "source": [
    "Clear dataframe as no longer needed:"
   ]
  },
  {
   "cell_type": "code",
   "execution_count": null,
   "metadata": {},
   "outputs": [],
   "source": [
    "df = None"
   ]
  },
  {
   "cell_type": "markdown",
   "metadata": {},
   "source": [
    "## Explain the math behind"
   ]
  },
  {
   "cell_type": "markdown",
   "metadata": {},
   "source": [
    "## Explore with simple scripts before constructing the model class"
   ]
  },
  {
   "cell_type": "code",
   "execution_count": null,
   "metadata": {},
   "outputs": [
    {
     "data": {
      "text/plain": "OrderedDict([('x', TensorSpec(shape=(None, 9), dtype=tf.uint8, name=None)),\n             ('y', TensorSpec(shape=(None,), dtype=tf.int32, name=None))])"
     },
     "execution_count": null,
     "metadata": {},
     "output_type": "execute_result"
    }
   ],
   "source": [
    "train_data.element_type_structure"
   ]
  },
  {
   "cell_type": "code",
   "execution_count": null,
   "metadata": {},
   "outputs": [
    {
     "data": {
      "text/plain": "array([[0, 1, 0, 0, 0, 0, 0, 0, 0],\n       [3, 0, 0, 0, 1, 0, 0, 0, 0],\n       [3, 0, 0, 0, 1, 0, 0, 0, 0],\n       [3, 0, 0, 0, 1, 0, 0, 0, 0],\n       [4, 0, 0, 0, 0, 0, 0, 1, 0],\n       [4, 0, 0, 0, 0, 0, 0, 1, 0],\n       [0, 1, 0, 0, 0, 0, 0, 0, 0],\n       [1, 0, 0, 0, 0, 0, 0, 1, 0],\n       [3, 0, 0, 0, 1, 0, 0, 0, 0],\n       [4, 0, 0, 0, 0, 0, 0, 1, 0],\n       [2, 0, 0, 1, 0, 0, 0, 0, 0],\n       [0, 1, 0, 0, 0, 0, 0, 0, 0],\n       [2, 0, 0, 1, 0, 0, 0, 0, 0],\n       [0, 1, 0, 0, 0, 0, 0, 0, 0],\n       [2, 0, 0, 1, 0, 0, 0, 0, 0],\n       [4, 0, 0, 0, 0, 0, 0, 1, 0],\n       [1, 0, 0, 0, 0, 0, 0, 1, 0],\n       [3, 0, 0, 0, 1, 0, 0, 0, 0],\n       [0, 1, 0, 0, 0, 0, 0, 0, 0],\n       [2, 0, 0, 1, 0, 0, 0, 0, 0]], dtype=uint8)"
     },
     "execution_count": null,
     "metadata": {},
     "output_type": "execute_result"
    }
   ],
   "source": [
    "example_dataset = train_data.create_tf_dataset_for_client(train_data.client_ids[0])\n",
    "\n",
    "example_element = next(iter(example_dataset))\n",
    "\n",
    "example_dataset.element_spec\n",
    "example_element[\"x\"].numpy()"
   ]
  },
  {
   "cell_type": "code",
   "execution_count": null,
   "metadata": {},
   "outputs": [
    {
     "data": {
      "text/plain": "array([[4, 0, 0, 0, 0, 0, 0, 1, 0],\n       [4, 0, 0, 0, 0, 0, 0, 1, 0],\n       [3, 0, 0, 0, 1, 0, 0, 0, 0],\n       [4, 0, 0, 0, 0, 0, 0, 1, 0],\n       [4, 0, 0, 0, 0, 0, 0, 1, 0],\n       [0, 1, 0, 0, 0, 0, 0, 0, 0],\n       [2, 0, 0, 1, 0, 0, 0, 0, 0],\n       [3, 0, 0, 0, 1, 0, 0, 0, 0],\n       [1, 0, 0, 0, 0, 0, 0, 1, 0],\n       [0, 1, 0, 0, 0, 0, 0, 0, 0],\n       [0, 1, 0, 0, 0, 0, 0, 0, 0],\n       [3, 0, 0, 0, 1, 0, 0, 0, 0],\n       [2, 0, 0, 1, 0, 0, 0, 0, 0],\n       [1, 0, 0, 0, 0, 0, 0, 1, 0],\n       [3, 0, 0, 0, 1, 0, 0, 0, 0],\n       [2, 0, 0, 1, 0, 0, 0, 0, 0],\n       [0, 1, 0, 0, 0, 0, 0, 0, 0],\n       [3, 0, 0, 0, 1, 0, 0, 0, 0],\n       [1, 0, 0, 0, 0, 0, 0, 1, 0],\n       [4, 0, 0, 0, 0, 0, 0, 1, 0]], dtype=uint8)"
     },
     "execution_count": null,
     "metadata": {},
     "output_type": "execute_result"
    }
   ],
   "source": [
    "example_element = next(iter(example_dataset))\n",
    "\n",
    "example_dataset.element_spec\n",
    "example_element[\"x\"].numpy()"
   ]
  },
  {
   "cell_type": "code",
   "execution_count": null,
   "metadata": {},
   "outputs": [],
   "source": []
  },
  {
   "cell_type": "markdown",
   "metadata": {},
   "source": [
    "## Define you ML model class\n",
    "\n",
    "Remember that you can also create base class and subclasses to utilize heritance!"
   ]
  },
  {
   "cell_type": "code",
   "execution_count": null,
   "metadata": {},
   "outputs": [],
   "source": [
    "# input layer\n",
    "def create_keras_model():\n",
    "    visible = tf.keras.layers.Input(shape=(9,))\n",
    "\n",
    "    hidden11 = tf.keras.layers.Dense(9, activation=\"sigmoid\", name=\"l1relu\")(visible)\n",
    "    # hidden12 = tf.keras.layers.Dense(9, activation=\"softmax\", name=\"l1softmax\")(visible)\n",
    "    hidden12 = tf.keras.layers.Dense(18, name=\"l1linear\")(visible)\n",
    "    merge1 = tf.keras.layers.concatenate([hidden11, hidden12])\n",
    "\n",
    "    hidden2 = tf.keras.layers.Dense(32, activation=\"sigmoid\", name=\"l2sigmoid\")(merge1)\n",
    "\n",
    "    output = tf.keras.layers.Dense(9, activation=\"softmax\", name=\"l3softmax\")(hidden2)\n",
    "    model = tf.keras.Model(inputs=visible, outputs=output)\n",
    "    return model"
   ]
  },
  {
   "cell_type": "code",
   "execution_count": null,
   "metadata": {},
   "outputs": [
    {
     "data": {
      "text/plain": "1044"
     },
     "execution_count": null,
     "metadata": {},
     "output_type": "execute_result"
    }
   ],
   "source": [
    "18 * 18 + 32 * 18 + 16 * 9"
   ]
  },
  {
   "cell_type": "code",
   "execution_count": null,
   "metadata": {},
   "outputs": [],
   "source": [
    "def model_fn():\n",
    "    # We _must_ create a new model here, and _not_ capture it from an external\n",
    "    # scope. TFF will call this within different graph contexts.\n",
    "    keras_model = create_keras_model()\n",
    "    return tff.learning.from_keras_model(\n",
    "        keras_model,\n",
    "        input_spec=collections.OrderedDict(\n",
    "            x=example_dataset.element_spec[\"x\"],\n",
    "            y=example_dataset.element_spec[\"y\"],\n",
    "        ),\n",
    "        loss=tf.keras.losses.SparseCategoricalCrossentropy(),\n",
    "        metrics=[tf.keras.metrics.SparseCategoricalAccuracy()],\n",
    "    )"
   ]
  },
  {
   "cell_type": "code",
   "execution_count": null,
   "metadata": {},
   "outputs": [],
   "source": [
    "iterative_process = tff.learning.build_federated_averaging_process(\n",
    "    model_fn,\n",
    "    client_optimizer_fn=lambda: tf.keras.optimizers.RMSprop(learning_rate=0.02),\n",
    "    server_optimizer_fn=lambda: tf.keras.optimizers.RMSprop(learning_rate=1.0),\n",
    ")"
   ]
  },
  {
   "cell_type": "code",
   "execution_count": null,
   "metadata": {},
   "outputs": [
    {
     "name": "stdout",
     "output_type": "stream",
     "text": "WARNING:tensorflow:From /anaconda/envs/federated_customer_path/lib/python3.8/site-packages/tensorflow_federated/python/core/impl/compiler/tensorflow_computation_transformations.py:59: extract_sub_graph (from tensorflow.python.framework.graph_util_impl) is deprecated and will be removed in a future version.\nInstructions for updating:\nUse `tf.compat.v1.graph_util.extract_sub_graph`\n"
    },
    {
     "name": "stderr",
     "output_type": "stream",
     "text": "WARNING:tensorflow:From /anaconda/envs/federated_customer_path/lib/python3.8/site-packages/tensorflow_federated/python/core/impl/compiler/tensorflow_computation_transformations.py:59: extract_sub_graph (from tensorflow.python.framework.graph_util_impl) is deprecated and will be removed in a future version.\nInstructions for updating:\nUse `tf.compat.v1.graph_util.extract_sub_graph`\n"
    }
   ],
   "source": [
    "state = iterative_process.initialize()"
   ]
  },
  {
   "cell_type": "code",
   "execution_count": null,
   "metadata": {},
   "outputs": [],
   "source": [
    "# evaluation\n",
    "evaluation = tff.learning.build_federated_evaluation(model_fn)"
   ]
  },
  {
   "cell_type": "code",
   "execution_count": null,
   "metadata": {},
   "outputs": [],
   "source": [
    "iterable = train_data.create_tf_dataset_for_client(train_data.client_ids[1])"
   ]
  },
  {
   "cell_type": "code",
   "execution_count": null,
   "metadata": {},
   "outputs": [
    {
     "data": {
      "text/plain": "OrderedDict([('x',\n              <tf.Tensor: shape=(10, 9), dtype=uint8, numpy=\n              array([[1, 0, 0, 0, 0, 0, 1, 0, 0],\n                     [1, 0, 0, 0, 0, 0, 1, 0, 0],\n                     [0, 1, 0, 0, 0, 0, 0, 0, 0],\n                     [0, 1, 0, 0, 0, 0, 0, 0, 0],\n                     [1, 0, 0, 0, 0, 0, 1, 0, 0],\n                     [1, 0, 0, 0, 0, 0, 1, 0, 0],\n                     [0, 1, 0, 0, 0, 0, 0, 0, 0],\n                     [1, 0, 0, 0, 0, 0, 1, 0, 0],\n                     [0, 1, 0, 0, 0, 0, 0, 0, 0],\n                     [0, 1, 0, 0, 0, 0, 0, 0, 0]], dtype=uint8)>),\n             ('y',\n              <tf.Tensor: shape=(10,), dtype=int32, numpy=array([8, 8, 5, 5, 8, 8, 5, 8, 5, 5], dtype=int32)>)])"
     },
     "execution_count": null,
     "metadata": {},
     "output_type": "execute_result"
    }
   ],
   "source": [
    "d = next(iter(iterable))\n",
    "d"
   ]
  },
  {
   "cell_type": "code",
   "execution_count": null,
   "metadata": {},
   "outputs": [
    {
     "data": {
      "text/plain": "<PrefetchDataset shapes: OrderedDict([(x, (None, 9)), (y, (None,))]), types: OrderedDict([(x, tf.uint8), (y, tf.int32)])>"
     },
     "execution_count": null,
     "metadata": {},
     "output_type": "execute_result"
    }
   ],
   "source": [
    "train_data.create_tf_dataset_for_client(train_data.client_ids[0])"
   ]
  },
  {
   "cell_type": "code",
   "execution_count": null,
   "metadata": {},
   "outputs": [
    {
     "data": {
      "text/plain": "6134"
     },
     "execution_count": null,
     "metadata": {},
     "output_type": "execute_result"
    }
   ],
   "source": [
    "len(train_data.client_ids)"
   ]
  },
  {
   "cell_type": "code",
   "execution_count": null,
   "metadata": {},
   "outputs": [],
   "source": []
  },
  {
   "cell_type": "code",
   "execution_count": null,
   "metadata": {},
   "outputs": [],
   "source": [
    "def batch_client_data(client_data, batch_size=BATCH_SIZE):\n",
    "    batch = [\n",
    "        client_data.create_tf_dataset_for_client(client_data.client_ids[idx])\n",
    "        for idx in np.random.choice(\n",
    "            np.arange(len(client_data.client_ids)), size=BATCH_SIZE\n",
    "        )\n",
    "    ]\n",
    "    return batch"
   ]
  },
  {
   "cell_type": "code",
   "execution_count": null,
   "metadata": {},
   "outputs": [],
   "source": [
    "def batch_client_data(client_data, batch_size=BATCH_SIZE):\n",
    "    batch = [\n",
    "        client_data.create_tf_dataset_for_client(client_data.client_ids[idx])\n",
    "        for idx in np.random.choice(\n",
    "            np.arange(len(client_data.client_ids)), size=BATCH_SIZE\n",
    "        )\n",
    "    ]\n",
    "    return batch"
   ]
  },
  {
   "cell_type": "code",
   "execution_count": null,
   "metadata": {},
   "outputs": [
    {
     "name": "stdout",
     "output_type": "stream",
     "text": "round  1, metrics=OrderedDict([('broadcast', ()), ('aggregation', OrderedDict([('mean_value', ()), ('mean_weight', ())])), ('train', OrderedDict([('sparse_categorical_accuracy', 0.20714286), ('loss', 2.3102422)])), ('stat', OrderedDict([('num_examples', 840)]))])\nfederated_update  1, metrics=OrderedDict([('broadcast', ()), ('aggregation', OrderedDict([('mean_value', ()), ('mean_weight', ())])), ('train', OrderedDict([('sparse_categorical_accuracy', 0.14453782), ('loss', 11.739257)])), ('stat', OrderedDict([('num_examples', 595)]))])\nfederated_update  2, metrics=OrderedDict([('broadcast', ()), ('aggregation', OrderedDict([('mean_value', ()), ('mean_weight', ())])), ('train', OrderedDict([('sparse_categorical_accuracy', 0.17266187), ('loss', 10.568255)])), ('stat', OrderedDict([('num_examples', 695)]))])\nfederated_update  3, metrics=OrderedDict([('broadcast', ()), ('aggregation', OrderedDict([('mean_value', ()), ('mean_weight', ())])), ('train', OrderedDict([('sparse_categorical_accuracy', 0.24615385), ('loss', 6.0064793)])), ('stat', OrderedDict([('num_examples', 650)]))])\nfederated_update  4, metrics=OrderedDict([('broadcast', ()), ('aggregation', OrderedDict([('mean_value', ()), ('mean_weight', ())])), ('train', OrderedDict([('sparse_categorical_accuracy', 0.13088235), ('loss', 7.956097)])), ('stat', OrderedDict([('num_examples', 680)]))])\nfederated_update  5, metrics=OrderedDict([('broadcast', ()), ('aggregation', OrderedDict([('mean_value', ()), ('mean_weight', ())])), ('train', OrderedDict([('sparse_categorical_accuracy', 0.052941177), ('loss', 8.740099)])), ('stat', OrderedDict([('num_examples', 850)]))])\nfederated_update  6, metrics=OrderedDict([('broadcast', ()), ('aggregation', OrderedDict([('mean_value', ()), ('mean_weight', ())])), ('train', OrderedDict([('sparse_categorical_accuracy', 0.11363637), ('loss', 6.6604395)])), ('stat', OrderedDict([('num_examples', 660)]))])\nfederated_update  7, metrics=OrderedDict([('broadcast', ()), ('aggregation', OrderedDict([('mean_value', ()), ('mean_weight', ())])), ('train', OrderedDict([('sparse_categorical_accuracy', 0.1891892), ('loss', 6.68803)])), ('stat', OrderedDict([('num_examples', 740)]))])\nfederated_update  8, metrics=OrderedDict([('broadcast', ()), ('aggregation', OrderedDict([('mean_value', ()), ('mean_weight', ())])), ('train', OrderedDict([('sparse_categorical_accuracy', 0.22916667), ('loss', 8.699183)])), ('stat', OrderedDict([('num_examples', 720)]))])\nfederated_update  9, metrics=OrderedDict([('broadcast', ()), ('aggregation', OrderedDict([('mean_value', ()), ('mean_weight', ())])), ('train', OrderedDict([('sparse_categorical_accuracy', 0.062111802), ('loss', 13.35261)])), ('stat', OrderedDict([('num_examples', 805)]))])\nfederated_update  10, metrics=OrderedDict([('broadcast', ()), ('aggregation', OrderedDict([('mean_value', ()), ('mean_weight', ())])), ('train', OrderedDict([('sparse_categorical_accuracy', 0.11888112), ('loss', 5.1126513)])), ('stat', OrderedDict([('num_examples', 715)]))])\nfederated_update  11, metrics=OrderedDict([('broadcast', ()), ('aggregation', OrderedDict([('mean_value', ()), ('mean_weight', ())])), ('train', OrderedDict([('sparse_categorical_accuracy', 0.1826087), ('loss', 7.122073)])), ('stat', OrderedDict([('num_examples', 805)]))])\nfederated_update  12, metrics=OrderedDict([('broadcast', ()), ('aggregation', OrderedDict([('mean_value', ()), ('mean_weight', ())])), ('train', OrderedDict([('sparse_categorical_accuracy', 0.12571429), ('loss', 6.3403153)])), ('stat', OrderedDict([('num_examples', 875)]))])\nfederated_update  13, metrics=OrderedDict([('broadcast', ()), ('aggregation', OrderedDict([('mean_value', ()), ('mean_weight', ())])), ('train', OrderedDict([('sparse_categorical_accuracy', 0.13821138), ('loss', 6.3262496)])), ('stat', OrderedDict([('num_examples', 615)]))])\nfederated_update  14, metrics=OrderedDict([('broadcast', ()), ('aggregation', OrderedDict([('mean_value', ()), ('mean_weight', ())])), ('train', OrderedDict([('sparse_categorical_accuracy', 0.24113475), ('loss', 6.618844)])), ('stat', OrderedDict([('num_examples', 705)]))])\nfederated_update  15, metrics=OrderedDict([('broadcast', ()), ('aggregation', OrderedDict([('mean_value', ()), ('mean_weight', ())])), ('train', OrderedDict([('sparse_categorical_accuracy', 0.23046358), ('loss', 7.255705)])), ('stat', OrderedDict([('num_examples', 755)]))])\nfederated_update  16, metrics=OrderedDict([('broadcast', ()), ('aggregation', OrderedDict([('mean_value', ()), ('mean_weight', ())])), ('train', OrderedDict([('sparse_categorical_accuracy', 0.12881356), ('loss', 6.4896507)])), ('stat', OrderedDict([('num_examples', 590)]))])\nfederated_update  17, metrics=OrderedDict([('broadcast', ()), ('aggregation', OrderedDict([('mean_value', ()), ('mean_weight', ())])), ('train', OrderedDict([('sparse_categorical_accuracy', 0.1891892), ('loss', 5.921718)])), ('stat', OrderedDict([('num_examples', 740)]))])\nfederated_update  18, metrics=OrderedDict([('broadcast', ()), ('aggregation', OrderedDict([('mean_value', ()), ('mean_weight', ())])), ('train', OrderedDict([('sparse_categorical_accuracy', 0.088435374), ('loss', 6.8142905)])), ('stat', OrderedDict([('num_examples', 735)]))])\nfederated_update  19, metrics=OrderedDict([('broadcast', ()), ('aggregation', OrderedDict([('mean_value', ()), ('mean_weight', ())])), ('train', OrderedDict([('sparse_categorical_accuracy', 0.20300752), ('loss', 6.637894)])), ('stat', OrderedDict([('num_examples', 665)]))])\nfederated_update  20, metrics=OrderedDict([('broadcast', ()), ('aggregation', OrderedDict([('mean_value', ()), ('mean_weight', ())])), ('train', OrderedDict([('sparse_categorical_accuracy', 0.18666667), ('loss', 9.007243)])), ('stat', OrderedDict([('num_examples', 750)]))])\n"
    },
    {
     "data": {
      "text/html": "<div>\n<style scoped>\n    .dataframe tbody tr th:only-of-type {\n        vertical-align: middle;\n    }\n\n    .dataframe tbody tr th {\n        vertical-align: top;\n    }\n\n    .dataframe thead th {\n        text-align: right;\n    }\n</style>\n<table border=\"1\" class=\"dataframe\">\n  <thead>\n    <tr style=\"text-align: right;\">\n      <th></th>\n      <th>train_loss</th>\n      <th>train_accuracy</th>\n      <th>train_size</th>\n      <th>test_loss</th>\n      <th>test_accuracy</th>\n    </tr>\n    <tr>\n      <th>federated_update</th>\n      <th></th>\n      <th></th>\n      <th></th>\n      <th></th>\n      <th></th>\n    </tr>\n  </thead>\n  <tbody>\n    <tr>\n      <th>0</th>\n      <td>2.310242</td>\n      <td>0.207143</td>\n      <td>840</td>\n      <td>10.212491</td>\n      <td>0.266304</td>\n    </tr>\n    <tr>\n      <th>1</th>\n      <td>11.739257</td>\n      <td>0.144538</td>\n      <td>595</td>\n      <td>10.027062</td>\n      <td>0.216667</td>\n    </tr>\n    <tr>\n      <th>2</th>\n      <td>10.568255</td>\n      <td>0.172662</td>\n      <td>695</td>\n      <td>6.081841</td>\n      <td>0.268908</td>\n    </tr>\n    <tr>\n      <th>3</th>\n      <td>6.006479</td>\n      <td>0.246154</td>\n      <td>650</td>\n      <td>8.250731</td>\n      <td>0.126667</td>\n    </tr>\n    <tr>\n      <th>4</th>\n      <td>7.956097</td>\n      <td>0.130882</td>\n      <td>680</td>\n      <td>9.108946</td>\n      <td>0.077348</td>\n    </tr>\n    <tr>\n      <th>5</th>\n      <td>8.740099</td>\n      <td>0.052941</td>\n      <td>850</td>\n      <td>7.838289</td>\n      <td>0.122093</td>\n    </tr>\n    <tr>\n      <th>6</th>\n      <td>6.660439</td>\n      <td>0.113636</td>\n      <td>660</td>\n      <td>7.592634</td>\n      <td>0.183824</td>\n    </tr>\n    <tr>\n      <th>7</th>\n      <td>6.688030</td>\n      <td>0.189189</td>\n      <td>740</td>\n      <td>8.939564</td>\n      <td>0.178571</td>\n    </tr>\n    <tr>\n      <th>8</th>\n      <td>8.699183</td>\n      <td>0.229167</td>\n      <td>720</td>\n      <td>13.570992</td>\n      <td>0.089172</td>\n    </tr>\n    <tr>\n      <th>9</th>\n      <td>13.352610</td>\n      <td>0.062112</td>\n      <td>805</td>\n      <td>4.831962</td>\n      <td>0.116959</td>\n    </tr>\n    <tr>\n      <th>10</th>\n      <td>5.112651</td>\n      <td>0.118881</td>\n      <td>715</td>\n      <td>8.144788</td>\n      <td>0.145251</td>\n    </tr>\n    <tr>\n      <th>11</th>\n      <td>7.122073</td>\n      <td>0.182609</td>\n      <td>805</td>\n      <td>6.981374</td>\n      <td>0.112676</td>\n    </tr>\n    <tr>\n      <th>12</th>\n      <td>6.340315</td>\n      <td>0.125714</td>\n      <td>875</td>\n      <td>7.489493</td>\n      <td>0.115942</td>\n    </tr>\n    <tr>\n      <th>13</th>\n      <td>6.326250</td>\n      <td>0.138211</td>\n      <td>615</td>\n      <td>7.355000</td>\n      <td>0.188976</td>\n    </tr>\n    <tr>\n      <th>14</th>\n      <td>6.618844</td>\n      <td>0.241135</td>\n      <td>705</td>\n      <td>6.985551</td>\n      <td>0.238806</td>\n    </tr>\n    <tr>\n      <th>15</th>\n      <td>7.255705</td>\n      <td>0.230464</td>\n      <td>755</td>\n      <td>6.201253</td>\n      <td>0.103896</td>\n    </tr>\n    <tr>\n      <th>16</th>\n      <td>6.489651</td>\n      <td>0.128814</td>\n      <td>590</td>\n      <td>6.674784</td>\n      <td>0.209790</td>\n    </tr>\n    <tr>\n      <th>17</th>\n      <td>5.921718</td>\n      <td>0.189189</td>\n      <td>740</td>\n      <td>7.265049</td>\n      <td>0.131737</td>\n    </tr>\n    <tr>\n      <th>18</th>\n      <td>6.814291</td>\n      <td>0.088435</td>\n      <td>735</td>\n      <td>7.225276</td>\n      <td>0.190751</td>\n    </tr>\n    <tr>\n      <th>19</th>\n      <td>6.637894</td>\n      <td>0.203008</td>\n      <td>665</td>\n      <td>9.124618</td>\n      <td>0.188811</td>\n    </tr>\n    <tr>\n      <th>20</th>\n      <td>9.007243</td>\n      <td>0.186667</td>\n      <td>750</td>\n      <td>6.028329</td>\n      <td>0.110236</td>\n    </tr>\n  </tbody>\n</table>\n</div>",
      "text/plain": "                  train_loss  train_accuracy  train_size  test_loss  \\\nfederated_update                                                      \n0                   2.310242        0.207143         840  10.212491   \n1                  11.739257        0.144538         595  10.027062   \n2                  10.568255        0.172662         695   6.081841   \n3                   6.006479        0.246154         650   8.250731   \n4                   7.956097        0.130882         680   9.108946   \n5                   8.740099        0.052941         850   7.838289   \n6                   6.660439        0.113636         660   7.592634   \n7                   6.688030        0.189189         740   8.939564   \n8                   8.699183        0.229167         720  13.570992   \n9                  13.352610        0.062112         805   4.831962   \n10                  5.112651        0.118881         715   8.144788   \n11                  7.122073        0.182609         805   6.981374   \n12                  6.340315        0.125714         875   7.489493   \n13                  6.326250        0.138211         615   7.355000   \n14                  6.618844        0.241135         705   6.985551   \n15                  7.255705        0.230464         755   6.201253   \n16                  6.489651        0.128814         590   6.674784   \n17                  5.921718        0.189189         740   7.265049   \n18                  6.814291        0.088435         735   7.225276   \n19                  6.637894        0.203008         665   9.124618   \n20                  9.007243        0.186667         750   6.028329   \n\n                  test_accuracy  \nfederated_update                 \n0                      0.266304  \n1                      0.216667  \n2                      0.268908  \n3                      0.126667  \n4                      0.077348  \n5                      0.122093  \n6                      0.183824  \n7                      0.178571  \n8                      0.089172  \n9                      0.116959  \n10                     0.145251  \n11                     0.112676  \n12                     0.115942  \n13                     0.188976  \n14                     0.238806  \n15                     0.103896  \n16                     0.209790  \n17                     0.131737  \n18                     0.190751  \n19                     0.188811  \n20                     0.110236  "
     },
     "execution_count": null,
     "metadata": {},
     "output_type": "execute_result"
    }
   ],
   "source": [
    "state, train_metrics = iterative_process.next(state, batch_client_data(train_data))\n",
    "test_metrics = evaluation(state.model, batch_client_data(test_data))\n",
    "\n",
    "print(\"round  1, metrics={}\".format(train_metrics))\n",
    "\n",
    "metrics_df = pd.DataFrame(\n",
    "    {\n",
    "        \"federated_update\": [0],\n",
    "        \"train_loss\": [train_metrics[\"train\"][\"loss\"]],\n",
    "        \"train_accuracy\": [train_metrics[\"train\"][\"sparse_categorical_accuracy\"]],\n",
    "        \"train_size\": [train_metrics[\"stat\"][\"num_examples\"]],\n",
    "        \"test_loss\": [test_metrics[\"loss\"]],\n",
    "        \"test_accuracy\": [test_metrics[\"sparse_categorical_accuracy\"]],\n",
    "    }\n",
    ")  # , 'test_loss': float, 'test_size':int})\n",
    "\n",
    "for i in range(FEDERATED_UPDATES):\n",
    "    state, train_metrics = iterative_process.next(state, batch_client_data(train_data))\n",
    "    test_metrics = evaluation(state.model, batch_client_data(test_data))\n",
    "    metrics_df = pd.concat(\n",
    "        (\n",
    "            metrics_df,\n",
    "            pd.DataFrame(\n",
    "                {\n",
    "                    \"federated_update\": [i + 1],\n",
    "                    \"train_loss\": [train_metrics[\"train\"][\"loss\"]],\n",
    "                    \"train_accuracy\": [\n",
    "                        train_metrics[\"train\"][\"sparse_categorical_accuracy\"]\n",
    "                    ],\n",
    "                    \"train_size\": [train_metrics[\"stat\"][\"num_examples\"]],\n",
    "                    \"test_loss\": [test_metrics[\"loss\"]],\n",
    "                    \"test_accuracy\": [test_metrics[\"sparse_categorical_accuracy\"]],\n",
    "                }\n",
    "            ),\n",
    "        ),\n",
    "        axis=0,\n",
    "    )\n",
    "    print(\"federated_update  {}, metrics={}\".format(i + 1, train_metrics))\n",
    "metrics_df.set_index(\"federated_update\", drop=True, inplace=True)\n",
    "metrics_df"
   ]
  },
  {
   "cell_type": "code",
   "execution_count": null,
   "metadata": {},
   "outputs": [],
   "source": []
  },
  {
   "cell_type": "code",
   "execution_count": null,
   "metadata": {},
   "outputs": [
    {
     "data": {
      "text/plain": "(0.0, 14.13402898311615)"
     },
     "execution_count": null,
     "metadata": {},
     "output_type": "execute_result"
    },
    {
     "data": {
      "image/png": "[encoded data removed]",
      "text/plain": "<Figure size 432x288 with 1 Axes>"
     },
     "metadata": {
      "needs_background": "light"
     },
     "output_type": "display_data"
    }
   ],
   "source": [
    "fig, ax = plt.subplots(1, constrained_layout=True)\n",
    "metrics_df.plot(ax=ax, y=[\"train_loss\", \"test_loss\"])\n",
    "ax.set_ylabel(\"loss (sparse_categorical_crossentropy)\")\n",
    "ax.spines[\"top\"].set_visible(False)\n",
    "ax.spines[\"right\"].set_visible(False)\n",
    "ax.set_ylim(ymin=0)"
   ]
  },
  {
   "cell_type": "code",
   "execution_count": null,
   "metadata": {},
   "outputs": [
    {
     "data": {
      "text/plain": "(0.0, 1.0)"
     },
     "execution_count": null,
     "metadata": {},
     "output_type": "execute_result"
    },
    {
     "data": {
      "image/png": "[encoded data removed]",
      "text/plain": "<Figure size 432x288 with 1 Axes>"
     },
     "metadata": {
      "needs_background": "light"
     },
     "output_type": "display_data"
    }
   ],
   "source": [
    "fig, ax = plt.subplots(1, constrained_layout=True)\n",
    "metrics_df.plot(ax=ax, y=[\"train_accuracy\", \"test_accuracy\"])\n",
    "ax.axhline(1 / 9, linestyle=\"--\", color=\"r\", label=\"baseline (random quessing)\")\n",
    "ax.legend()\n",
    "ax.spines[\"top\"].set_visible(False)\n",
    "ax.spines[\"right\"].set_visible(False)\n",
    "ax.set_ylim(0, 1)"
   ]
  },
  {
   "cell_type": "markdown",
   "metadata": {},
   "source": []
  },
  {
   "cell_type": "markdown",
   "metadata": {},
   "source": [
    "## Unit test\n",
    "\n",
    "Unit test your class or classes"
   ]
  },
  {
   "cell_type": "code",
   "execution_count": null,
   "metadata": {},
   "outputs": [],
   "source": [
    "# your code here"
   ]
  },
  {
   "cell_type": "markdown",
   "metadata": {},
   "source": [
    "## Visualize model behaviour with toy data"
   ]
  },
  {
   "cell_type": "code",
   "execution_count": null,
   "metadata": {},
   "outputs": [],
   "source": [
    "## your code here"
   ]
  },
  {
   "cell_type": "markdown",
   "metadata": {},
   "source": [
    "## Output of this notebook\r\n",
    "\r\n",
    "The result of this notebook is a collection methods ready for evaluation with the real data.\r\n",
    "\r\n",
    "You should export classes and functions to `model.py` with `# nbdev_build_lib` (workflows will do this automatically)."
   ]
  },
  {
   "cell_type": "markdown",
   "metadata": {},
   "source": [
    "## You can move on to loss notebook!"
   ]
  }
 ],
 "metadata": {
  "kernelspec": {
   "display_name": "Python 3.8 (fcp)",
   "language": "python",
   "name": "federated_customer_path"
  }
 },
 "nbformat": 4,
 "nbformat_minor": 4
}
