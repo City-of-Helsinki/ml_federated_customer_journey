{
 "cells": [
  {
   "cell_type": "code",
   "execution_count": null,
   "metadata": {},
   "outputs": [],
   "source": [
    "# default_exp model\n",
    "%load_ext lab_black\n",
    "# nb_black if running in jupyter\n",
    "%load_ext autoreload\n",
    "# automatically reload python modules if there are changes in the\n",
    "%autoreload 2"
   ]
  },
  {
   "cell_type": "code",
   "execution_count": null,
   "metadata": {},
   "outputs": [],
   "source": [
    "# hide\n",
    "from nbdev.showdoc import *"
   ]
  },
  {
   "cell_type": "markdown",
   "metadata": {},
   "source": [
    "# Model\r\n",
    "\r\n",
    "> In this notebook you create and test a Python class to hold your machine learning model."
   ]
  },
  {
   "cell_type": "markdown",
   "metadata": {},
   "source": [
    "***input***: toy dataset from data-notebook\n",
    "\n",
    "***output***: TFF model for predicting customer paths \n",
    "\n",
    "***description:***\n",
    "\n",
    "Model for simulating federated learning on predicting customer paths."
   ]
  },
  {
   "cell_type": "markdown",
   "metadata": {},
   "source": [
    "## Import relevant modules"
   ]
  },
  {
   "cell_type": "code",
   "execution_count": null,
   "metadata": {},
   "outputs": [],
   "source": [
    "# tensorflow_federated_nightly also bring in tf_nightly, which\n",
    "# can causes a duplicate tensorboard install, leading to errors.\n",
    "#!pip uninstall --yes tensorboard tb-nightly\n",
    "\n",
    "#!pip install --quiet --upgrade tensorflow-federated-nightly\n",
    "#!pip install --quiet --upgrade nest-asyncio\n",
    "#!pip install --quiet --upgrade tb-nightly  # or tensorboard, but not both"
   ]
  },
  {
   "cell_type": "code",
   "execution_count": null,
   "metadata": {},
   "outputs": [],
   "source": [
    "# export\n",
    "import numpy as np\n",
    "\n",
    "import nest_asyncio\n",
    "\n",
    "nest_asyncio.apply()"
   ]
  },
  {
   "cell_type": "code",
   "execution_count": null,
   "metadata": {},
   "outputs": [],
   "source": [
    "%load_ext tensorboard"
   ]
  },
  {
   "cell_type": "code",
   "execution_count": null,
   "metadata": {},
   "outputs": [
    {
     "data": {
      "text/plain": "b'Hello, World!'"
     },
     "execution_count": null,
     "metadata": {},
     "output_type": "execute_result"
    }
   ],
   "source": [
    "import collections\n",
    "\n",
    "import numpy as np\n",
    "import tensorflow as tf\n",
    "import tensorflow_federated as tff\n",
    "\n",
    "train_test_client_split = tff.simulation.datasets.ClientData.train_test_client_split\n",
    "\n",
    "tff.federated_computation(lambda: \"Hello, World!\")()"
   ]
  },
  {
   "cell_type": "code",
   "execution_count": null,
   "metadata": {},
   "outputs": [],
   "source": [
    "from pyarrow import feather\n",
    "import pandas as pd"
   ]
  },
  {
   "cell_type": "code",
   "execution_count": null,
   "metadata": {},
   "outputs": [],
   "source": [
    "from ml_federated_customer_path.data import create_tff_client_data_from_df"
   ]
  },
  {
   "cell_type": "markdown",
   "metadata": {},
   "source": [
    "## Define notebook parameters\r\n",
    "\r\n",
    "Remember, only simple assignments here!"
   ]
  },
  {
   "cell_type": "code",
   "execution_count": null,
   "metadata": {},
   "outputs": [],
   "source": [
    "# this cell is tagged with 'parameters'\n",
    "seed = 0\n",
    "data_filepath = \"data/preprocessed_data/data.f\"\n",
    "test_split = 0.2\n",
    "toy_size = 0.1\n",
    "\n",
    "NUM_CLIENTS = 10\n",
    "NUM_EPOCHS = 20\n",
    "BATCH_SIZE = 32\n",
    "SHUFFLE_BUFFER = 100\n",
    "PREFETCH_BUFFER = 32\n",
    "FEDERATED_UPDATES = 20"
   ]
  },
  {
   "cell_type": "markdown",
   "metadata": {},
   "source": [
    "Make immediate derivations from the parameters:"
   ]
  },
  {
   "cell_type": "code",
   "execution_count": null,
   "metadata": {},
   "outputs": [],
   "source": [
    "np.random.seed(seed)"
   ]
  },
  {
   "cell_type": "markdown",
   "metadata": {},
   "source": [
    "## Import toy data for testing"
   ]
  },
  {
   "cell_type": "code",
   "execution_count": null,
   "metadata": {},
   "outputs": [
    {
     "data": {
      "text/html": "<div>\n<style scoped>\n    .dataframe tbody tr th:only-of-type {\n        vertical-align: middle;\n    }\n\n    .dataframe tbody tr th {\n        vertical-align: top;\n    }\n\n    .dataframe thead th {\n        text-align: right;\n    }\n</style>\n<table border=\"1\" class=\"dataframe\">\n  <thead>\n    <tr style=\"text-align: right;\">\n      <th></th>\n      <th>client_id</th>\n      <th>x</th>\n      <th>y</th>\n    </tr>\n  </thead>\n  <tbody>\n    <tr>\n      <th>0</th>\n      <td>0</td>\n      <td>[0, 1, 0, 0, 0, 0, 0, 0, 0]</td>\n      <td>8</td>\n    </tr>\n    <tr>\n      <th>1</th>\n      <td>1</td>\n      <td>[0, 1, 0, 0, 0, 0, 0, 0, 0]</td>\n      <td>6</td>\n    </tr>\n    <tr>\n      <th>2</th>\n      <td>1</td>\n      <td>[1, 0, 0, 0, 0, 0, 0, 1, 0]</td>\n      <td>6</td>\n    </tr>\n    <tr>\n      <th>3</th>\n      <td>1</td>\n      <td>[2, 0, 0, 0, 0, 0, 0, 1, 0]</td>\n      <td>1</td>\n    </tr>\n    <tr>\n      <th>4</th>\n      <td>1</td>\n      <td>[3, 0, 1, 0, 0, 0, 0, 0, 0]</td>\n      <td>2</td>\n    </tr>\n    <tr>\n      <th>...</th>\n      <td>...</td>\n      <td>...</td>\n      <td>...</td>\n    </tr>\n    <tr>\n      <th>83637</th>\n      <td>9999</td>\n      <td>[3, 0, 1, 0, 0, 0, 0, 0, 0]</td>\n      <td>1</td>\n    </tr>\n    <tr>\n      <th>83638</th>\n      <td>9999</td>\n      <td>[4, 0, 1, 0, 0, 0, 0, 0, 0]</td>\n      <td>4</td>\n    </tr>\n    <tr>\n      <th>83639</th>\n      <td>9999</td>\n      <td>[5, 0, 0, 0, 0, 1, 0, 0, 0]</td>\n      <td>3</td>\n    </tr>\n    <tr>\n      <th>83640</th>\n      <td>9999</td>\n      <td>[6, 0, 0, 0, 1, 0, 0, 0, 0]</td>\n      <td>1</td>\n    </tr>\n    <tr>\n      <th>83641</th>\n      <td>9999</td>\n      <td>[7, 0, 1, 0, 0, 0, 0, 0, 0]</td>\n      <td>8</td>\n    </tr>\n  </tbody>\n</table>\n<p>83642 rows × 3 columns</p>\n</div>",
      "text/plain": "       client_id                            x  y\n0              0  [0, 1, 0, 0, 0, 0, 0, 0, 0]  8\n1              1  [0, 1, 0, 0, 0, 0, 0, 0, 0]  6\n2              1  [1, 0, 0, 0, 0, 0, 0, 1, 0]  6\n3              1  [2, 0, 0, 0, 0, 0, 0, 1, 0]  1\n4              1  [3, 0, 1, 0, 0, 0, 0, 0, 0]  2\n...          ...                          ... ..\n83637       9999  [3, 0, 1, 0, 0, 0, 0, 0, 0]  1\n83638       9999  [4, 0, 1, 0, 0, 0, 0, 0, 0]  4\n83639       9999  [5, 0, 0, 0, 0, 1, 0, 0, 0]  3\n83640       9999  [6, 0, 0, 0, 1, 0, 0, 0, 0]  1\n83641       9999  [7, 0, 1, 0, 0, 0, 0, 0, 0]  8\n\n[83642 rows x 3 columns]"
     },
     "execution_count": null,
     "metadata": {},
     "output_type": "execute_result"
    }
   ],
   "source": [
    "df = feather.read_feather(data_filepath)\n",
    "df"
   ]
  },
  {
   "cell_type": "markdown",
   "metadata": {},
   "source": [
    "Convert into tff ClientData (training + testing datasets):"
   ]
  },
  {
   "cell_type": "code",
   "execution_count": null,
   "metadata": {},
   "outputs": [],
   "source": [
    "client_data = create_tff_client_data_from_df(df, sample_size=1)  # 0.1)\n",
    "train_data, test_data = train_test_client_split(\n",
    "    client_data, int(toy_size * df.client_id.nunique() * test_split)\n",
    ")"
   ]
  },
  {
   "cell_type": "code",
   "execution_count": null,
   "metadata": {},
   "outputs": [
    {
     "data": {
      "text/plain": "6134"
     },
     "execution_count": null,
     "metadata": {},
     "output_type": "execute_result"
    }
   ],
   "source": [
    "len(train_data.client_ids)"
   ]
  },
  {
   "cell_type": "code",
   "execution_count": null,
   "metadata": {},
   "outputs": [
    {
     "data": {
      "text/plain": "200"
     },
     "execution_count": null,
     "metadata": {},
     "output_type": "execute_result"
    }
   ],
   "source": [
    "len(test_data.client_ids)"
   ]
  },
  {
   "cell_type": "markdown",
   "metadata": {},
   "source": [
    "Clear dataframe as no longer needed:"
   ]
  },
  {
   "cell_type": "code",
   "execution_count": null,
   "metadata": {},
   "outputs": [],
   "source": [
    "df = None"
   ]
  },
  {
   "cell_type": "markdown",
   "metadata": {},
   "source": [
    "## Explain the math behind"
   ]
  },
  {
   "cell_type": "markdown",
   "metadata": {},
   "source": [
    "## Explore with simple scripts before constructing the model class"
   ]
  },
  {
   "cell_type": "code",
   "execution_count": null,
   "metadata": {},
   "outputs": [
    {
     "data": {
      "text/plain": "OrderedDict([('x', TensorSpec(shape=(None, 9), dtype=tf.uint8, name=None)),\n             ('y', TensorSpec(shape=(None,), dtype=tf.int32, name=None))])"
     },
     "execution_count": null,
     "metadata": {},
     "output_type": "execute_result"
    }
   ],
   "source": [
    "train_data.element_type_structure"
   ]
  },
  {
   "cell_type": "code",
   "execution_count": null,
   "metadata": {},
   "outputs": [
    {
     "data": {
      "text/plain": "array([[1, 0, 0, 0, 1, 0, 0, 0, 0],\n       [2, 0, 0, 0, 0, 1, 0, 0, 0],\n       [2, 0, 0, 0, 0, 1, 0, 0, 0],\n       [1, 0, 0, 0, 1, 0, 0, 0, 0],\n       [0, 1, 0, 0, 0, 0, 0, 0, 0],\n       [1, 0, 0, 0, 1, 0, 0, 0, 0],\n       [1, 0, 0, 0, 1, 0, 0, 0, 0],\n       [0, 1, 0, 0, 0, 0, 0, 0, 0],\n       [0, 1, 0, 0, 0, 0, 0, 0, 0],\n       [2, 0, 0, 0, 0, 1, 0, 0, 0],\n       [2, 0, 0, 0, 0, 1, 0, 0, 0],\n       [1, 0, 0, 0, 1, 0, 0, 0, 0],\n       [0, 1, 0, 0, 0, 0, 0, 0, 0],\n       [0, 1, 0, 0, 0, 0, 0, 0, 0],\n       [2, 0, 0, 0, 0, 1, 0, 0, 0]], dtype=uint8)"
     },
     "execution_count": null,
     "metadata": {},
     "output_type": "execute_result"
    }
   ],
   "source": [
    "example_dataset = train_data.create_tf_dataset_for_client(train_data.client_ids[0])\n",
    "\n",
    "example_element = next(iter(example_dataset))\n",
    "\n",
    "example_dataset.element_spec\n",
    "example_element[\"x\"].numpy()"
   ]
  },
  {
   "cell_type": "code",
   "execution_count": null,
   "metadata": {},
   "outputs": [
    {
     "data": {
      "text/plain": "array([[1, 0, 0, 0, 1, 0, 0, 0, 0],\n       [1, 0, 0, 0, 1, 0, 0, 0, 0],\n       [1, 0, 0, 0, 1, 0, 0, 0, 0],\n       [2, 0, 0, 0, 0, 1, 0, 0, 0],\n       [2, 0, 0, 0, 0, 1, 0, 0, 0],\n       [0, 1, 0, 0, 0, 0, 0, 0, 0],\n       [2, 0, 0, 0, 0, 1, 0, 0, 0],\n       [0, 1, 0, 0, 0, 0, 0, 0, 0],\n       [2, 0, 0, 0, 0, 1, 0, 0, 0],\n       [0, 1, 0, 0, 0, 0, 0, 0, 0],\n       [1, 0, 0, 0, 1, 0, 0, 0, 0],\n       [0, 1, 0, 0, 0, 0, 0, 0, 0],\n       [2, 0, 0, 0, 0, 1, 0, 0, 0],\n       [0, 1, 0, 0, 0, 0, 0, 0, 0],\n       [1, 0, 0, 0, 1, 0, 0, 0, 0]], dtype=uint8)"
     },
     "execution_count": null,
     "metadata": {},
     "output_type": "execute_result"
    }
   ],
   "source": [
    "example_element = next(iter(example_dataset))\n",
    "\n",
    "example_dataset.element_spec\n",
    "example_element[\"x\"].numpy()"
   ]
  },
  {
   "cell_type": "code",
   "execution_count": null,
   "metadata": {},
   "outputs": [],
   "source": []
  },
  {
   "cell_type": "markdown",
   "metadata": {},
   "source": [
    "## Define you ML model class\n",
    "\n",
    "Remember that you can also create base class and subclasses to utilize heritance!"
   ]
  },
  {
   "cell_type": "code",
   "execution_count": null,
   "metadata": {},
   "outputs": [],
   "source": [
    "# input layer\n",
    "def create_keras_model():\n",
    "    visible = tf.keras.layers.Input(shape=(9,))\n",
    "\n",
    "    hidden11 = tf.keras.layers.Dense(9, activation=\"relu\", name=\"l1relu\")(visible)\n",
    "    # hidden12 = tf.keras.layers.Dense(9, activation=\"softmax\", name=\"l1softmax\")(visible)\n",
    "    hidden12 = tf.keras.layers.Dense(9, name=\"softplus\")(visible)\n",
    "    merge1 = tf.keras.layers.concatenate([hidden11, hidden12])\n",
    "\n",
    "    hidden2 = tf.keras.layers.Dense(16, activation=\"sigmoid\", name=\"l2sigmoid\")(merge1)\n",
    "\n",
    "    output = tf.keras.layers.Dense(9, activation=\"softmax\", name=\"l3softmax\")(hidden2)\n",
    "    model = tf.keras.Model(inputs=visible, outputs=output)\n",
    "    return model"
   ]
  },
  {
   "cell_type": "code",
   "execution_count": null,
   "metadata": {},
   "outputs": [],
   "source": []
  },
  {
   "cell_type": "code",
   "execution_count": null,
   "metadata": {},
   "outputs": [],
   "source": [
    "def model_fn():\n",
    "    # We _must_ create a new model here, and _not_ capture it from an external\n",
    "    # scope. TFF will call this within different graph contexts.\n",
    "    keras_model = create_keras_model()\n",
    "    return tff.learning.from_keras_model(\n",
    "        keras_model,\n",
    "        input_spec=collections.OrderedDict(\n",
    "            x=example_dataset.element_spec[\"x\"],\n",
    "            y=example_dataset.element_spec[\"y\"],\n",
    "        ),\n",
    "        loss=tf.keras.losses.SparseCategoricalCrossentropy(),\n",
    "        metrics=[tf.keras.metrics.SparseCategoricalAccuracy()],\n",
    "    )"
   ]
  },
  {
   "cell_type": "code",
   "execution_count": null,
   "metadata": {},
   "outputs": [],
   "source": [
    "iterative_process = tff.learning.build_federated_averaging_process(\n",
    "    model_fn,\n",
    "    client_optimizer_fn=lambda: tf.keras.optimizers.RMSprop(learning_rate=0.02),\n",
    "    server_optimizer_fn=lambda: tf.keras.optimizers.RMSprop(learning_rate=1.0),\n",
    ")"
   ]
  },
  {
   "cell_type": "code",
   "execution_count": null,
   "metadata": {},
   "outputs": [
    {
     "name": "stdout",
     "output_type": "stream",
     "text": "WARNING:tensorflow:From /anaconda/envs/federated_customer_path/lib/python3.8/site-packages/tensorflow_federated/python/core/impl/compiler/tensorflow_computation_transformations.py:59: extract_sub_graph (from tensorflow.python.framework.graph_util_impl) is deprecated and will be removed in a future version.\nInstructions for updating:\nUse `tf.compat.v1.graph_util.extract_sub_graph`\n"
    },
    {
     "name": "stderr",
     "output_type": "stream",
     "text": "WARNING:tensorflow:From /anaconda/envs/federated_customer_path/lib/python3.8/site-packages/tensorflow_federated/python/core/impl/compiler/tensorflow_computation_transformations.py:59: extract_sub_graph (from tensorflow.python.framework.graph_util_impl) is deprecated and will be removed in a future version.\nInstructions for updating:\nUse `tf.compat.v1.graph_util.extract_sub_graph`\n"
    }
   ],
   "source": [
    "state = iterative_process.initialize()"
   ]
  },
  {
   "cell_type": "code",
   "execution_count": null,
   "metadata": {},
   "outputs": [],
   "source": [
    "# evaluation\n",
    "evaluation = tff.learning.build_federated_evaluation(model_fn)"
   ]
  },
  {
   "cell_type": "code",
   "execution_count": null,
   "metadata": {},
   "outputs": [],
   "source": [
    "iterable = train_data.create_tf_dataset_for_client(train_data.client_ids[1])"
   ]
  },
  {
   "cell_type": "code",
   "execution_count": null,
   "metadata": {},
   "outputs": [
    {
     "data": {
      "text/plain": "OrderedDict([('x',\n              <tf.Tensor: shape=(20, 9), dtype=uint8, numpy=\n              array([[0, 1, 0, 0, 0, 0, 0, 0, 0],\n                     [4, 0, 0, 1, 0, 0, 0, 0, 0],\n                     [4, 0, 0, 1, 0, 0, 0, 0, 0],\n                     [2, 0, 1, 0, 0, 0, 0, 0, 0],\n                     [3, 0, 1, 0, 0, 0, 0, 0, 0],\n                     [2, 0, 1, 0, 0, 0, 0, 0, 0],\n                     [2, 0, 1, 0, 0, 0, 0, 0, 0],\n                     [1, 0, 0, 0, 0, 1, 0, 0, 0],\n                     [4, 0, 0, 1, 0, 0, 0, 0, 0],\n                     [1, 0, 0, 0, 0, 1, 0, 0, 0],\n                     [4, 0, 0, 1, 0, 0, 0, 0, 0],\n                     [1, 0, 0, 0, 0, 1, 0, 0, 0],\n                     [3, 0, 1, 0, 0, 0, 0, 0, 0],\n                     [3, 0, 1, 0, 0, 0, 0, 0, 0],\n                     [0, 1, 0, 0, 0, 0, 0, 0, 0],\n                     [3, 0, 1, 0, 0, 0, 0, 0, 0],\n                     [3, 0, 1, 0, 0, 0, 0, 0, 0],\n                     [2, 0, 1, 0, 0, 0, 0, 0, 0],\n                     [4, 0, 0, 1, 0, 0, 0, 0, 0],\n                     [2, 0, 1, 0, 0, 0, 0, 0, 0]], dtype=uint8)>),\n             ('y',\n              <tf.Tensor: shape=(20,), dtype=int32, numpy=\n              array([4, 8, 8, 1, 2, 1, 1, 1, 8, 1, 8, 1, 2, 2, 4, 2, 2, 1, 8, 1],\n                    dtype=int32)>)])"
     },
     "execution_count": null,
     "metadata": {},
     "output_type": "execute_result"
    }
   ],
   "source": [
    "d = next(iter(iterable))\n",
    "d"
   ]
  },
  {
   "cell_type": "code",
   "execution_count": null,
   "metadata": {},
   "outputs": [
    {
     "data": {
      "text/plain": "<PrefetchDataset shapes: OrderedDict([(x, (None, 9)), (y, (None,))]), types: OrderedDict([(x, tf.uint8), (y, tf.int32)])>"
     },
     "execution_count": null,
     "metadata": {},
     "output_type": "execute_result"
    }
   ],
   "source": [
    "train_data.create_tf_dataset_for_client(train_data.client_ids[0])"
   ]
  },
  {
   "cell_type": "code",
   "execution_count": null,
   "metadata": {},
   "outputs": [
    {
     "data": {
      "text/plain": "6134"
     },
     "execution_count": null,
     "metadata": {},
     "output_type": "execute_result"
    }
   ],
   "source": [
    "len(train_data.client_ids)"
   ]
  },
  {
   "cell_type": "code",
   "execution_count": null,
   "metadata": {},
   "outputs": [],
   "source": []
  },
  {
   "cell_type": "code",
   "execution_count": null,
   "metadata": {},
   "outputs": [],
   "source": [
    "def batch_client_data(client_data, batch_size=BATCH_SIZE):\n",
    "    batch = [\n",
    "        client_data.create_tf_dataset_for_client(client_data.client_ids[idx])\n",
    "        for idx in np.random.choice(\n",
    "            np.arange(len(client_data.client_ids)), size=BATCH_SIZE\n",
    "        )\n",
    "    ]\n",
    "    return batch"
   ]
  },
  {
   "cell_type": "code",
   "execution_count": null,
   "metadata": {},
   "outputs": [],
   "source": [
    "def batch_client_data(client_data, batch_size=BATCH_SIZE):\n",
    "    batch = [\n",
    "        client_data.create_tf_dataset_for_client(client_data.client_ids[idx])\n",
    "        for idx in np.random.choice(\n",
    "            np.arange(len(client_data.client_ids)), size=BATCH_SIZE\n",
    "        )\n",
    "    ]\n",
    "    return batch"
   ]
  },
  {
   "cell_type": "code",
   "execution_count": null,
   "metadata": {},
   "outputs": [
    {
     "name": "stdout",
     "output_type": "stream",
     "text": "round  1, metrics=OrderedDict([('broadcast', ()), ('aggregation', OrderedDict([('mean_value', ()), ('mean_weight', ())])), ('train', OrderedDict([('sparse_categorical_accuracy', 0.17017543), ('loss', 2.2374024)])), ('stat', OrderedDict([('num_examples', 1140)]))])\nfederated_update  1, metrics=OrderedDict([('broadcast', ()), ('aggregation', OrderedDict([('mean_value', ()), ('mean_weight', ())])), ('train', OrderedDict([('sparse_categorical_accuracy', 0.08899082), ('loss', 11.146218)])), ('stat', OrderedDict([('num_examples', 1090)]))])\nfederated_update  2, metrics=OrderedDict([('broadcast', ()), ('aggregation', OrderedDict([('mean_value', ()), ('mean_weight', ())])), ('train', OrderedDict([('sparse_categorical_accuracy', 0.10489511), ('loss', 10.138633)])), ('stat', OrderedDict([('num_examples', 1430)]))])\nfederated_update  3, metrics=OrderedDict([('broadcast', ()), ('aggregation', OrderedDict([('mean_value', ()), ('mean_weight', ())])), ('train', OrderedDict([('sparse_categorical_accuracy', 0.1171875), ('loss', 5.335818)])), ('stat', OrderedDict([('num_examples', 1280)]))])\nfederated_update  4, metrics=OrderedDict([('broadcast', ()), ('aggregation', OrderedDict([('mean_value', ()), ('mean_weight', ())])), ('train', OrderedDict([('sparse_categorical_accuracy', 0.11338028), ('loss', 3.7386267)])), ('stat', OrderedDict([('num_examples', 1420)]))])\nfederated_update  5, metrics=OrderedDict([('broadcast', ()), ('aggregation', OrderedDict([('mean_value', ()), ('mean_weight', ())])), ('train', OrderedDict([('sparse_categorical_accuracy', 0.11913043), ('loss', 3.138144)])), ('stat', OrderedDict([('num_examples', 1150)]))])\nfederated_update  6, metrics=OrderedDict([('broadcast', ()), ('aggregation', OrderedDict([('mean_value', ()), ('mean_weight', ())])), ('train', OrderedDict([('sparse_categorical_accuracy', 0.083333336), ('loss', 3.646552)])), ('stat', OrderedDict([('num_examples', 1020)]))])\nfederated_update  7, metrics=OrderedDict([('broadcast', ()), ('aggregation', OrderedDict([('mean_value', ()), ('mean_weight', ())])), ('train', OrderedDict([('sparse_categorical_accuracy', 0.105142854), ('loss', 2.448454)])), ('stat', OrderedDict([('num_examples', 1750)]))])\nfederated_update  8, metrics=OrderedDict([('broadcast', ()), ('aggregation', OrderedDict([('mean_value', ()), ('mean_weight', ())])), ('train', OrderedDict([('sparse_categorical_accuracy', 0.13426574), ('loss', 2.8821633)])), ('stat', OrderedDict([('num_examples', 1430)]))])\nfederated_update  9, metrics=OrderedDict([('broadcast', ()), ('aggregation', OrderedDict([('mean_value', ()), ('mean_weight', ())])), ('train', OrderedDict([('sparse_categorical_accuracy', 0.118421055), ('loss', 2.747328)])), ('stat', OrderedDict([('num_examples', 1520)]))])\nfederated_update  10, metrics=OrderedDict([('broadcast', ()), ('aggregation', OrderedDict([('mean_value', ()), ('mean_weight', ())])), ('train', OrderedDict([('sparse_categorical_accuracy', 0.15555556), ('loss', 3.3483288)])), ('stat', OrderedDict([('num_examples', 900)]))])\nfederated_update  11, metrics=OrderedDict([('broadcast', ()), ('aggregation', OrderedDict([('mean_value', ()), ('mean_weight', ())])), ('train', OrderedDict([('sparse_categorical_accuracy', 0.15207373), ('loss', 2.434091)])), ('stat', OrderedDict([('num_examples', 1085)]))])\nfederated_update  12, metrics=OrderedDict([('broadcast', ()), ('aggregation', OrderedDict([('mean_value', ()), ('mean_weight', ())])), ('train', OrderedDict([('sparse_categorical_accuracy', 0.12052117), ('loss', 2.6575153)])), ('stat', OrderedDict([('num_examples', 1535)]))])\nfederated_update  13, metrics=OrderedDict([('broadcast', ()), ('aggregation', OrderedDict([('mean_value', ()), ('mean_weight', ())])), ('train', OrderedDict([('sparse_categorical_accuracy', 0.13140795), ('loss', 2.7774634)])), ('stat', OrderedDict([('num_examples', 1385)]))])\nfederated_update  14, metrics=OrderedDict([('broadcast', ()), ('aggregation', OrderedDict([('mean_value', ()), ('mean_weight', ())])), ('train', OrderedDict([('sparse_categorical_accuracy', 0.14853421), ('loss', 2.3205118)])), ('stat', OrderedDict([('num_examples', 1535)]))])\nfederated_update  15, metrics=OrderedDict([('broadcast', ()), ('aggregation', OrderedDict([('mean_value', ()), ('mean_weight', ())])), ('train', OrderedDict([('sparse_categorical_accuracy', 0.13432837), ('loss', 2.7322707)])), ('stat', OrderedDict([('num_examples', 1340)]))])\nfederated_update  16, metrics=OrderedDict([('broadcast', ()), ('aggregation', OrderedDict([('mean_value', ()), ('mean_weight', ())])), ('train', OrderedDict([('sparse_categorical_accuracy', 0.14410481), ('loss', 2.7279997)])), ('stat', OrderedDict([('num_examples', 1145)]))])\nfederated_update  17, metrics=OrderedDict([('broadcast', ()), ('aggregation', OrderedDict([('mean_value', ()), ('mean_weight', ())])), ('train', OrderedDict([('sparse_categorical_accuracy', 0.14018692), ('loss', 2.3441086)])), ('stat', OrderedDict([('num_examples', 1070)]))])\nfederated_update  18, metrics=OrderedDict([('broadcast', ()), ('aggregation', OrderedDict([('mean_value', ()), ('mean_weight', ())])), ('train', OrderedDict([('sparse_categorical_accuracy', 0.14357142), ('loss', 2.5038943)])), ('stat', OrderedDict([('num_examples', 1400)]))])\nfederated_update  19, metrics=OrderedDict([('broadcast', ()), ('aggregation', OrderedDict([('mean_value', ()), ('mean_weight', ())])), ('train', OrderedDict([('sparse_categorical_accuracy', 0.14041096), ('loss', 2.8625414)])), ('stat', OrderedDict([('num_examples', 1460)]))])\nfederated_update  20, metrics=OrderedDict([('broadcast', ()), ('aggregation', OrderedDict([('mean_value', ()), ('mean_weight', ())])), ('train', OrderedDict([('sparse_categorical_accuracy', 0.120743036), ('loss', 2.5442195)])), ('stat', OrderedDict([('num_examples', 1615)]))])\n"
    },
    {
     "data": {
      "text/html": "<div>\n<style scoped>\n    .dataframe tbody tr th:only-of-type {\n        vertical-align: middle;\n    }\n\n    .dataframe tbody tr th {\n        vertical-align: top;\n    }\n\n    .dataframe thead th {\n        text-align: right;\n    }\n</style>\n<table border=\"1\" class=\"dataframe\">\n  <thead>\n    <tr style=\"text-align: right;\">\n      <th></th>\n      <th>train_loss</th>\n      <th>train_accuracy</th>\n      <th>train_size</th>\n      <th>test_loss</th>\n      <th>test_accuracy</th>\n    </tr>\n    <tr>\n      <th>federated_update</th>\n      <th></th>\n      <th></th>\n      <th></th>\n      <th></th>\n      <th></th>\n    </tr>\n  </thead>\n  <tbody>\n    <tr>\n      <th>0</th>\n      <td>2.237402</td>\n      <td>0.170175</td>\n      <td>1140</td>\n      <td>10.860983</td>\n      <td>0.145540</td>\n    </tr>\n    <tr>\n      <th>1</th>\n      <td>11.146218</td>\n      <td>0.088991</td>\n      <td>1090</td>\n      <td>10.043647</td>\n      <td>0.146617</td>\n    </tr>\n    <tr>\n      <th>2</th>\n      <td>10.138633</td>\n      <td>0.104895</td>\n      <td>1430</td>\n      <td>5.663765</td>\n      <td>0.088000</td>\n    </tr>\n    <tr>\n      <th>3</th>\n      <td>5.335818</td>\n      <td>0.117188</td>\n      <td>1280</td>\n      <td>4.082249</td>\n      <td>0.093458</td>\n    </tr>\n    <tr>\n      <th>4</th>\n      <td>3.738627</td>\n      <td>0.113380</td>\n      <td>1420</td>\n      <td>3.523722</td>\n      <td>0.083004</td>\n    </tr>\n    <tr>\n      <th>5</th>\n      <td>3.138144</td>\n      <td>0.119130</td>\n      <td>1150</td>\n      <td>3.407695</td>\n      <td>0.144981</td>\n    </tr>\n    <tr>\n      <th>6</th>\n      <td>3.646552</td>\n      <td>0.083333</td>\n      <td>1020</td>\n      <td>2.532147</td>\n      <td>0.146552</td>\n    </tr>\n    <tr>\n      <th>7</th>\n      <td>2.448454</td>\n      <td>0.105143</td>\n      <td>1750</td>\n      <td>3.105869</td>\n      <td>0.173913</td>\n    </tr>\n    <tr>\n      <th>8</th>\n      <td>2.882163</td>\n      <td>0.134266</td>\n      <td>1430</td>\n      <td>2.969008</td>\n      <td>0.132075</td>\n    </tr>\n    <tr>\n      <th>9</th>\n      <td>2.747328</td>\n      <td>0.118421</td>\n      <td>1520</td>\n      <td>3.380705</td>\n      <td>0.127737</td>\n    </tr>\n    <tr>\n      <th>10</th>\n      <td>3.348329</td>\n      <td>0.155556</td>\n      <td>900</td>\n      <td>2.564092</td>\n      <td>0.103846</td>\n    </tr>\n    <tr>\n      <th>11</th>\n      <td>2.434091</td>\n      <td>0.152074</td>\n      <td>1085</td>\n      <td>2.714631</td>\n      <td>0.134731</td>\n    </tr>\n    <tr>\n      <th>12</th>\n      <td>2.657515</td>\n      <td>0.120521</td>\n      <td>1535</td>\n      <td>2.947698</td>\n      <td>0.096939</td>\n    </tr>\n    <tr>\n      <th>13</th>\n      <td>2.777463</td>\n      <td>0.131408</td>\n      <td>1385</td>\n      <td>2.339309</td>\n      <td>0.161049</td>\n    </tr>\n    <tr>\n      <th>14</th>\n      <td>2.320512</td>\n      <td>0.148534</td>\n      <td>1535</td>\n      <td>2.905700</td>\n      <td>0.114286</td>\n    </tr>\n    <tr>\n      <th>15</th>\n      <td>2.732271</td>\n      <td>0.134328</td>\n      <td>1340</td>\n      <td>2.763193</td>\n      <td>0.136752</td>\n    </tr>\n    <tr>\n      <th>16</th>\n      <td>2.728000</td>\n      <td>0.144105</td>\n      <td>1145</td>\n      <td>2.217985</td>\n      <td>0.134100</td>\n    </tr>\n    <tr>\n      <th>17</th>\n      <td>2.344109</td>\n      <td>0.140187</td>\n      <td>1070</td>\n      <td>2.637500</td>\n      <td>0.093407</td>\n    </tr>\n    <tr>\n      <th>18</th>\n      <td>2.503894</td>\n      <td>0.143571</td>\n      <td>1400</td>\n      <td>3.013743</td>\n      <td>0.135714</td>\n    </tr>\n    <tr>\n      <th>19</th>\n      <td>2.862541</td>\n      <td>0.140411</td>\n      <td>1460</td>\n      <td>2.500477</td>\n      <td>0.152838</td>\n    </tr>\n    <tr>\n      <th>20</th>\n      <td>2.544219</td>\n      <td>0.120743</td>\n      <td>1615</td>\n      <td>2.939804</td>\n      <td>0.095652</td>\n    </tr>\n  </tbody>\n</table>\n</div>",
      "text/plain": "                  train_loss  train_accuracy  train_size  test_loss  \\\nfederated_update                                                      \n0                   2.237402        0.170175        1140  10.860983   \n1                  11.146218        0.088991        1090  10.043647   \n2                  10.138633        0.104895        1430   5.663765   \n3                   5.335818        0.117188        1280   4.082249   \n4                   3.738627        0.113380        1420   3.523722   \n5                   3.138144        0.119130        1150   3.407695   \n6                   3.646552        0.083333        1020   2.532147   \n7                   2.448454        0.105143        1750   3.105869   \n8                   2.882163        0.134266        1430   2.969008   \n9                   2.747328        0.118421        1520   3.380705   \n10                  3.348329        0.155556         900   2.564092   \n11                  2.434091        0.152074        1085   2.714631   \n12                  2.657515        0.120521        1535   2.947698   \n13                  2.777463        0.131408        1385   2.339309   \n14                  2.320512        0.148534        1535   2.905700   \n15                  2.732271        0.134328        1340   2.763193   \n16                  2.728000        0.144105        1145   2.217985   \n17                  2.344109        0.140187        1070   2.637500   \n18                  2.503894        0.143571        1400   3.013743   \n19                  2.862541        0.140411        1460   2.500477   \n20                  2.544219        0.120743        1615   2.939804   \n\n                  test_accuracy  \nfederated_update                 \n0                      0.145540  \n1                      0.146617  \n2                      0.088000  \n3                      0.093458  \n4                      0.083004  \n5                      0.144981  \n6                      0.146552  \n7                      0.173913  \n8                      0.132075  \n9                      0.127737  \n10                     0.103846  \n11                     0.134731  \n12                     0.096939  \n13                     0.161049  \n14                     0.114286  \n15                     0.136752  \n16                     0.134100  \n17                     0.093407  \n18                     0.135714  \n19                     0.152838  \n20                     0.095652  "
     },
     "execution_count": null,
     "metadata": {},
     "output_type": "execute_result"
    }
   ],
   "source": [
    "state, train_metrics = iterative_process.next(state, batch_client_data(train_data))\n",
    "test_metrics = evaluation(state.model, batch_client_data(test_data))\n",
    "\n",
    "print(\"round  1, metrics={}\".format(train_metrics))\n",
    "\n",
    "metrics_df = pd.DataFrame(\n",
    "    {\n",
    "        \"federated_update\": [0],\n",
    "        \"train_loss\": [train_metrics[\"train\"][\"loss\"]],\n",
    "        \"train_accuracy\": [train_metrics[\"train\"][\"sparse_categorical_accuracy\"]],\n",
    "        \"train_size\": [train_metrics[\"stat\"][\"num_examples\"]],\n",
    "        \"test_loss\": [test_metrics[\"loss\"]],\n",
    "        \"test_accuracy\": [test_metrics[\"sparse_categorical_accuracy\"]],\n",
    "    }\n",
    ")  # , 'test_loss': float, 'test_size':int})\n",
    "\n",
    "for i in range(FEDERATED_UPDATES):\n",
    "    state, train_metrics = iterative_process.next(state, batch_client_data(train_data))\n",
    "    test_metrics = evaluation(state.model, batch_client_data(test_data))\n",
    "    metrics_df = pd.concat(\n",
    "        (\n",
    "            metrics_df,\n",
    "            pd.DataFrame(\n",
    "                {\n",
    "                    \"federated_update\": [i + 1],\n",
    "                    \"train_loss\": [train_metrics[\"train\"][\"loss\"]],\n",
    "                    \"train_accuracy\": [\n",
    "                        train_metrics[\"train\"][\"sparse_categorical_accuracy\"]\n",
    "                    ],\n",
    "                    \"train_size\": [train_metrics[\"stat\"][\"num_examples\"]],\n",
    "                    \"test_loss\": [test_metrics[\"loss\"]],\n",
    "                    \"test_accuracy\": [test_metrics[\"sparse_categorical_accuracy\"]],\n",
    "                }\n",
    "            ),\n",
    "        ),\n",
    "        axis=0,\n",
    "    )\n",
    "    print(\"federated_update  {}, metrics={}\".format(i + 1, train_metrics))\n",
    "metrics_df.set_index(\"federated_update\", drop=True, inplace=True)\n",
    "metrics_df"
   ]
  },
  {
   "cell_type": "code",
   "execution_count": null,
   "metadata": {},
   "outputs": [
    {
     "data": {
      "text/plain": "<AxesSubplot:xlabel='federated_update'>"
     },
     "execution_count": null,
     "metadata": {},
     "output_type": "execute_result"
    },
    {
     "data": {
      "image/png": "[encoded data removed]",
      "text/plain": "<Figure size 432x288 with 1 Axes>"
     },
     "metadata": {
      "needs_background": "light"
     },
     "output_type": "display_data"
    }
   ],
   "source": [
    "metrics_df.plot(y=[\"train_loss\", \"test_loss\"])"
   ]
  },
  {
   "cell_type": "code",
   "execution_count": null,
   "metadata": {},
   "outputs": [
    {
     "data": {
      "text/plain": "<AxesSubplot:xlabel='federated_update'>"
     },
     "execution_count": null,
     "metadata": {},
     "output_type": "execute_result"
    },
    {
     "data": {
      "image/png": "[encoded data removed]",
      "text/plain": "<Figure size 432x288 with 1 Axes>"
     },
     "metadata": {
      "needs_background": "light"
     },
     "output_type": "display_data"
    }
   ],
   "source": [
    "metrics_df.plot(y=[\"train_accuracy\", \"test_accuracy\"])"
   ]
  },
  {
   "cell_type": "markdown",
   "metadata": {},
   "source": [
    "## Unit test\n",
    "\n",
    "Unit test your class or classes"
   ]
  },
  {
   "cell_type": "code",
   "execution_count": null,
   "metadata": {},
   "outputs": [],
   "source": [
    "# your code here"
   ]
  },
  {
   "cell_type": "markdown",
   "metadata": {},
   "source": [
    "## Visualize model behaviour with toy data"
   ]
  },
  {
   "cell_type": "code",
   "execution_count": null,
   "metadata": {},
   "outputs": [],
   "source": [
    "## your code here"
   ]
  },
  {
   "cell_type": "markdown",
   "metadata": {},
   "source": [
    "## Output of this notebook\r\n",
    "\r\n",
    "The result of this notebook is a collection methods ready for evaluation with the real data.\r\n",
    "\r\n",
    "You should export classes and functions to `model.py` with `# nbdev_build_lib` (workflows will do this automatically)."
   ]
  },
  {
   "cell_type": "markdown",
   "metadata": {},
   "source": [
    "## You can move on to loss notebook!"
   ]
  }
 ],
 "metadata": {
  "kernelspec": {
   "display_name": "Python 3.8 (fcp)",
   "language": "python",
   "name": "federated_customer_path"
  }
 },
 "nbformat": 4,
 "nbformat_minor": 4
}
